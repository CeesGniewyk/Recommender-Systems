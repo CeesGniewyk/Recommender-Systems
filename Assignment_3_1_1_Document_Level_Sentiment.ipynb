{
  "nbformat": 4,
  "nbformat_minor": 0,
  "metadata": {
    "colab": {
      "name": "Assignment-3.1.1.Document-Level-Sentiment.ipynb",
      "version": "0.3.2",
      "provenance": [],
      "collapsed_sections": [
        "Q6obRxy4_WE6",
        "WOF3Uy2_iRpf",
        "HSsbDQICv5GQ"
      ],
      "toc_visible": true,
      "include_colab_link": true
    },
    "language_info": {
      "codemirror_mode": {
        "name": "ipython",
        "version": 3
      },
      "file_extension": ".py",
      "mimetype": "text/x-python",
      "name": "python",
      "nbconvert_exporter": "python",
      "pygments_lexer": "ipython3",
      "version": "3.5.4"
    },
    "kernelspec": {
      "name": "python3",
      "display_name": "Python 3"
    },
    "accelerator": "GPU"
  },
  "cells": [
    {
      "cell_type": "markdown",
      "metadata": {
        "id": "view-in-github",
        "colab_type": "text"
      },
      "source": [
        "<a href=\"https://colab.research.google.com/github/CeesGniewyk/Recommender-Systems/blob/master/Assignment_3_1_1_Document_Level_Sentiment.ipynb\" target=\"_parent\"><img src=\"https://colab.research.google.com/assets/colab-badge.svg\" alt=\"Open In Colab\"/></a>"
      ]
    },
    {
      "cell_type": "markdown",
      "metadata": {
        "id": "YW8IwyfyW_so",
        "colab_type": "text"
      },
      "source": [
        "**Assignment 3.1. Sequence Classification**"
      ]
    },
    {
      "cell_type": "markdown",
      "metadata": {
        "colab_type": "text",
        "id": "YVsdA0OhVJtX"
      },
      "source": [
        "Cees Gniewyk - 0859034 <br>\n",
        "Celine Senden - 0865165 <br>\n",
        "Timothy de Vries - 0740585"
      ]
    },
    {
      "cell_type": "markdown",
      "metadata": {
        "id": "Q6obRxy4_WE6",
        "colab_type": "text"
      },
      "source": [
        "# Hyperparameters for learning"
      ]
    },
    {
      "cell_type": "code",
      "metadata": {
        "id": "QTSPYMTl_UQp",
        "colab_type": "code",
        "colab": {}
      },
      "source": [
        "dropout = 0.5\n",
        "batch_size = 64\n",
        "epochs = 30\n",
        "patience = 5"
      ],
      "execution_count": 0,
      "outputs": []
    },
    {
      "cell_type": "markdown",
      "metadata": {
        "id": "tq0lDI_gEWJ6",
        "colab_type": "text"
      },
      "source": [
        "# Preparation"
      ]
    },
    {
      "cell_type": "markdown",
      "metadata": {
        "id": "nOe0vceZYNRJ",
        "colab_type": "text"
      },
      "source": [
        "## Mounting Google and Installing Packages"
      ]
    },
    {
      "cell_type": "code",
      "metadata": {
        "id": "VbRdajHdYTnp",
        "colab_type": "code",
        "outputId": "50443a7e-1630-4fe0-de33-1da3d23b0dbc",
        "colab": {
          "base_uri": "https://localhost:8080/"
        }
      },
      "source": [
        "from google.colab import drive\n",
        "drive.mount('/content/drive')"
      ],
      "execution_count": 0,
      "outputs": [
        {
          "output_type": "stream",
          "text": [
            "Drive already mounted at /content/drive; to attempt to forcibly remount, call drive.mount(\"/content/drive\", force_remount=True).\n"
          ],
          "name": "stdout"
        }
      ]
    },
    {
      "cell_type": "code",
      "metadata": {
        "id": "MIqJW-ccYeBG",
        "colab_type": "code",
        "outputId": "ec909745-d6e2-4419-c990-4c61c10ef43c",
        "colab": {
          "base_uri": "https://localhost:8080/"
        }
      },
      "source": [
        "cd /content/drive/My Drive"
      ],
      "execution_count": 0,
      "outputs": [
        {
          "output_type": "stream",
          "text": [
            "/content/drive/My Drive\n"
          ],
          "name": "stdout"
        }
      ]
    },
    {
      "cell_type": "code",
      "metadata": {
        "id": "Q70m7bGreOZJ",
        "colab_type": "code",
        "colab": {}
      },
      "source": [
        "import os\n",
        "import sys\n",
        "import codecs\n",
        "import operator\n",
        "import numpy as np\n",
        "import re\n",
        "from time import time\n",
        "from keras.preprocessing import sequence\n",
        "from keras.utils.np_utils import to_categorical\n",
        "import _pickle as cPickle\n",
        "import operator\n",
        "from keras.layers import Dense, Dropout, Activation, Embedding, LSTM, Input, CuDNNLSTM, Bidirectional\n",
        "from keras.models import Model, Sequential\n",
        "import keras.optimizers as opt\n",
        "import matplotlib.pyplot as plt"
      ],
      "execution_count": 0,
      "outputs": []
    },
    {
      "cell_type": "markdown",
      "metadata": {
        "id": "yd9BYhPyazhp",
        "colab_type": "text"
      },
      "source": [
        "## Importing Data"
      ]
    },
    {
      "cell_type": "code",
      "metadata": {
        "id": "vPJSrbC62rTo",
        "colab_type": "code",
        "colab": {}
      },
      "source": [
        "data_path = 'Colab Notebooks/Assignment 3/Data/doc_level'\n",
        "uni_checkpoint_path = 'Colab Notebooks/Assignment 3/Checkpoints/Unidirectional'\n",
        "bi_checkpoint_path = 'Colab Notebooks/Assignment 3/Checkpoints/Bidirectional'"
      ],
      "execution_count": 0,
      "outputs": []
    },
    {
      "cell_type": "markdown",
      "metadata": {
        "id": "jqnyCf-Iv5Fc",
        "colab_type": "text"
      },
      "source": [
        "### Reading preprocess data"
      ]
    },
    {
      "cell_type": "code",
      "metadata": {
        "id": "gJ-8y1Ppv5Fe",
        "colab_type": "code",
        "colab": {}
      },
      "source": [
        "def read_pickle(data_path, file_name):\n",
        "\n",
        "    f = open(os.path.join(data_path, file_name), 'rb')\n",
        "    read_file = cPickle.load(f)\n",
        "    f.close()\n",
        "\n",
        "    return read_file\n",
        "\n",
        "def save_pickle(data_path, file_name, data):\n",
        "\n",
        "    f = open(os.path.join(data_path, file_name), 'wb')\n",
        "    cPickle.dump(data, f)\n",
        "    print(\" file saved to: %s\"%(os.path.join(data_path, file_name)))\n",
        "    f.close()"
      ],
      "execution_count": 0,
      "outputs": []
    },
    {
      "cell_type": "code",
      "metadata": {
        "id": "UuF5ST-nyc5i",
        "colab_type": "code",
        "colab": {}
      },
      "source": [
        "words_idx = read_pickle(data_path, 'words_idx.pkl')\n",
        "idx_words = read_pickle(data_path, 'idx_words.pkl')\n",
        "data = read_pickle(data_path, 'data.pkl')\n",
        "label = read_pickle(data_path, 'label.pkl')"
      ],
      "execution_count": 0,
      "outputs": []
    },
    {
      "cell_type": "markdown",
      "metadata": {
        "id": "WOF3Uy2_iRpf",
        "colab_type": "text"
      },
      "source": [
        "## Preparing Training and Validation Set"
      ]
    },
    {
      "cell_type": "code",
      "metadata": {
        "id": "I_mim9P6ibow",
        "colab_type": "code",
        "colab": {}
      },
      "source": [
        "rand_idx = np.arange(len(data))\n",
        "np.random.shuffle(rand_idx)\n",
        "\n",
        "data = data[rand_idx]\n",
        "label = to_categorical(label)[rand_idx]\n",
        "\n",
        "data_size = len(data)\n",
        "\n",
        "test_x = data[0:1000]\n",
        "test_y = label[0:1000]\n",
        "\n",
        "dev_x = data[1000:5000]\n",
        "dev_y = label[1000:5000]\n",
        "\n",
        "train_x = data[5000:int(data_size)]\n",
        "train_y = label[5000:int(data_size)]"
      ],
      "execution_count": 0,
      "outputs": []
    },
    {
      "cell_type": "code",
      "metadata": {
        "id": "QihWN9KaidLD",
        "colab_type": "code",
        "colab": {}
      },
      "source": [
        "maxlen = 300\n",
        "words_idx = [x for (x, _) in sorted(words_idx.items(), key=operator.itemgetter(1))]\n",
        "train_x_ = sequence.pad_sequences(train_x, maxlen)\n",
        "dev_x_ = sequence.pad_sequences(dev_x, maxlen)\n",
        "test_x_ = sequence.pad_sequences(test_x, maxlen)\n",
        "train_x_ = np.array(train_x_)\n",
        "train_y = np.array(train_y)\n",
        "\n",
        "dev_x_ = np.array(dev_x_)\n",
        "dev_y = np.array(dev_y)\n",
        "\n",
        "test_x_ = np.array(test_x_)\n",
        "test_y = np.array(test_y)"
      ],
      "execution_count": 0,
      "outputs": []
    },
    {
      "cell_type": "markdown",
      "metadata": {
        "id": "CRMyOTA6kmWm",
        "colab_type": "text"
      },
      "source": [
        "### Data Iterator"
      ]
    },
    {
      "cell_type": "code",
      "metadata": {
        "id": "d2j6mvnuv5GG",
        "colab_type": "code",
        "colab": {}
      },
      "source": [
        "class Dataiterator():\n",
        "    '''\n",
        "      1) Iteration over minibatches using next(); call reset() between epochs to randomly shuffle the data\n",
        "      2) Access to the entire dataset using all()\n",
        "    '''\n",
        "    \n",
        "    def __init__(self, X, y, seq_length=32, decoder_dim=300, batch_size=32):      \n",
        "        self.X = X \n",
        "        self.y = y \n",
        "        self.num_data = len(X) # total number of examples\n",
        "        self.batch_size = batch_size # batch size\n",
        "        self.reset() # initial: shuffling examples and set index to 0\n",
        "    \n",
        "    def __iter__(self): # iterates data\n",
        "        return self\n",
        "\n",
        "\n",
        "    def reset(self): # initials\n",
        "        self.idx = 0\n",
        "        self.order = np.random.permutation(self.num_data) # shuffling examples by providing randomized ids \n",
        "        \n",
        "    def __next__(self): # return model inputs - outputs per batch\n",
        "        X_ids = [] # hold ids per batch \n",
        "        while len(X_ids) < self.batch_size:\n",
        "            X_id = self.order[self.idx] # copy random id from initial shuffling\n",
        "            X_ids.append(X_id)\n",
        "            self.idx += 1 # \n",
        "            if self.idx >= self.num_data: # exception if all examples of data have been seen (iterated)\n",
        "                self.reset()\n",
        "                raise StopIteration()\n",
        "        batch_X = self.X[np.array(X_ids)] # X values (encoder input) per batch\n",
        "        batch_y = self.y[np.array(X_ids)] # y_in values (decoder input) per batch\n",
        "        return batch_X, batch_y\n",
        "\n",
        "          \n",
        "    def all(self): # return all data examples\n",
        "        return self.X, self.y"
      ],
      "execution_count": 0,
      "outputs": []
    },
    {
      "cell_type": "markdown",
      "metadata": {
        "id": "Ztqd0Zbm99em",
        "colab_type": "text"
      },
      "source": [
        "### Preparing Training"
      ]
    },
    {
      "cell_type": "code",
      "metadata": {
        "colab_type": "code",
        "id": "H_apU4dZyFYE",
        "colab": {}
      },
      "source": [
        "train_steps_epoch = len(train_x_)/batch_size\n",
        "batch_train_iter = Dataiterator(train_x_, train_y, batch_size)\n",
        "val_steps_epoch = len(dev_x_)/batch_size\n",
        "batch_val_iter = Dataiterator(dev_x_, dev_y, batch_size)"
      ],
      "execution_count": 0,
      "outputs": []
    },
    {
      "cell_type": "code",
      "metadata": {
        "id": "fMsnuBs_v5G_",
        "colab_type": "code",
        "colab": {}
      },
      "source": [
        "from keras.callbacks import EarlyStopping, ModelCheckpoint\n",
        "\n",
        "def train_generator(model, batch_train_iter, batch_val_iter, path,epochs, patience):\n",
        "    earlystop_callbacks = [EarlyStopping(monitor='val_loss', patience=patience),\n",
        "                     ModelCheckpoint(filepath=os.path.join(path,'./','Dense{epoch:02d}-{val_loss:.2f}.check'), \\\n",
        "                                     monitor='val_loss', save_best_only=True, \\\n",
        "                                     save_weights_only=True)\n",
        "                     ]\n",
        "    \n",
        "    def train_gen():\n",
        "        while True:\n",
        "            train_batches = [[X, y] for X, y in batch_train_iter]\n",
        "            for train_batch in train_batches:\n",
        "                yield train_batch\n",
        "                \n",
        "    def val_gen():\n",
        "        while True:\n",
        "            val_batches = [[X, y] for X, y in batch_val_iter]\n",
        "            for val_batch in val_batches:\n",
        "                yield val_batch\n",
        "                \n",
        "    history = model.fit_generator(train_gen(), validation_data=val_gen(), \\\n",
        "                                  validation_steps=val_steps_epoch, steps_per_epoch=train_steps_epoch, \\\n",
        "                                  epochs=epochs, callbacks = earlystop_callbacks)\n",
        "    return history  "
      ],
      "execution_count": 0,
      "outputs": []
    },
    {
      "cell_type": "markdown",
      "metadata": {
        "id": "kq-vzsNPW_sv",
        "colab_type": "text"
      },
      "source": [
        "# Task 1.1: Document-level Sentiment Classification"
      ]
    },
    {
      "cell_type": "markdown",
      "metadata": {
        "id": "8xAK0-OcW_sy",
        "colab_type": "text"
      },
      "source": [
        "Build a Bidirectional Recurrent Neural Network (RNN) model for multi-class sentiment classification. Compare the performance with a Unidirectional RNN model. Your model (each) shall\n",
        "include:\n",
        "\n",
        "- RNN network that learns sentence representation from input sequences.\n",
        "- Fully connected network that predicts sentiment label, given the learnt state representation.\n",
        "\n",
        "\n",
        "Train the model by using data iterator and batch generator. Evaluate the trained model on\n",
        "the provided test set."
      ]
    },
    {
      "cell_type": "markdown",
      "metadata": {
        "colab_type": "text",
        "id": "13GNLSaWu7np"
      },
      "source": [
        "## Unidirectional RNN Model for document level sentiment classification"
      ]
    },
    {
      "cell_type": "markdown",
      "metadata": {
        "id": "HSsbDQICv5GQ",
        "colab_type": "text"
      },
      "source": [
        "### Model"
      ]
    },
    {
      "cell_type": "code",
      "metadata": {
        "id": "n9-Ll_FVl0uJ",
        "colab_type": "code",
        "colab": {}
      },
      "source": [
        "vocab_size = len(words_idx)\n",
        "model = Sequential()\n",
        "model.add(Embedding(vocab_size, 300, mask_zero=False, name='Word-Embedding'))\n",
        "model.add(Dropout(dropout))\n",
        "model.add(Dense(32))\n",
        "model.add(Dropout(dropout))\n",
        "model.add(CuDNNLSTM(300, return_sequences=False, name='GPU-LSTM'))\n",
        "model.add(Dense(3, name='Dense'))\n",
        "model.add(Activation('softmax'))"
      ],
      "execution_count": 0,
      "outputs": []
    },
    {
      "cell_type": "code",
      "metadata": {
        "colab_type": "code",
        "id": "RaKx1llGv0Zp",
        "colab": {}
      },
      "source": [
        "optimizer = opt.RMSprop(lr=0.001, rho=0.9, epsilon=1e-06, clipnorm=10, clipvalue=0)\n",
        "model.compile(optimizer=optimizer, loss='categorical_crossentropy', metrics=['categorical_accuracy'])"
      ],
      "execution_count": 0,
      "outputs": []
    },
    {
      "cell_type": "code",
      "metadata": {
        "colab_type": "code",
        "id": "yUv6dojGv5ZR",
        "outputId": "8357a357-9a1a-43a0-fb7a-034ef4f9258e",
        "colab": {
          "base_uri": "https://localhost:8080/",
          "height": 370
        }
      },
      "source": [
        "model.summary()"
      ],
      "execution_count": 0,
      "outputs": [
        {
          "output_type": "stream",
          "text": [
            "_________________________________________________________________\n",
            "Layer (type)                 Output Shape              Param #   \n",
            "=================================================================\n",
            "Word-Embedding (Embedding)   (None, None, 300)         3000900   \n",
            "_________________________________________________________________\n",
            "dropout_29 (Dropout)         (None, None, 300)         0         \n",
            "_________________________________________________________________\n",
            "dense_16 (Dense)             (None, None, 32)          9632      \n",
            "_________________________________________________________________\n",
            "dropout_30 (Dropout)         (None, None, 32)          0         \n",
            "_________________________________________________________________\n",
            "GPU-LSTM (CuDNNLSTM)         (None, 300)               400800    \n",
            "_________________________________________________________________\n",
            "Dense (Dense)                (None, 3)                 903       \n",
            "_________________________________________________________________\n",
            "activation_19 (Activation)   (None, 3)                 0         \n",
            "=================================================================\n",
            "Total params: 3,412,235\n",
            "Trainable params: 3,412,235\n",
            "Non-trainable params: 0\n",
            "_________________________________________________________________\n"
          ],
          "name": "stdout"
        }
      ]
    },
    {
      "cell_type": "markdown",
      "metadata": {
        "id": "ye3cgx6jW_s-",
        "colab_type": "text"
      },
      "source": [
        "### Training"
      ]
    },
    {
      "cell_type": "code",
      "metadata": {
        "id": "nA_I-25DqZE8",
        "colab_type": "code",
        "outputId": "3628fdae-2fd6-49e2-9788-da023994d798",
        "colab": {
          "base_uri": "https://localhost:8080/",
          "height": 658
        }
      },
      "source": [
        "uni_history = train_generator(model, batch_train_iter, batch_val_iter, uni_checkpoint_path, epochs, patience)"
      ],
      "execution_count": 0,
      "outputs": [
        {
          "output_type": "stream",
          "text": [
            "WARNING:tensorflow:From /usr/local/lib/python3.6/dist-packages/tensorflow/python/ops/math_ops.py:3066: to_int32 (from tensorflow.python.ops.math_ops) is deprecated and will be removed in a future version.\n",
            "Instructions for updating:\n",
            "Use tf.cast instead.\n",
            "Epoch 1/30\n",
            "391/390 [==============================] - 40s 102ms/step - loss: 1.0191 - categorical_accuracy: 0.4851 - val_loss: 0.8807 - val_categorical_accuracy: 0.5784\n",
            "Epoch 2/30\n",
            "391/390 [==============================] - 37s 95ms/step - loss: 0.8748 - categorical_accuracy: 0.5843 - val_loss: 0.8066 - val_categorical_accuracy: 0.6305\n",
            "Epoch 3/30\n",
            "391/390 [==============================] - 37s 95ms/step - loss: 0.7787 - categorical_accuracy: 0.6482 - val_loss: 0.7834 - val_categorical_accuracy: 0.6438\n",
            "Epoch 4/30\n",
            "391/390 [==============================] - 37s 95ms/step - loss: 0.7873 - categorical_accuracy: 0.6407 - val_loss: 0.8132 - val_categorical_accuracy: 0.6359\n",
            "Epoch 5/30\n",
            "391/390 [==============================] - 37s 95ms/step - loss: 0.7078 - categorical_accuracy: 0.6904 - val_loss: 0.7344 - val_categorical_accuracy: 0.6756\n",
            "Epoch 6/30\n",
            "391/390 [==============================] - 37s 95ms/step - loss: 0.7050 - categorical_accuracy: 0.6919 - val_loss: 0.8465 - val_categorical_accuracy: 0.6572\n",
            "Epoch 7/30\n",
            "391/390 [==============================] - 37s 95ms/step - loss: 0.6623 - categorical_accuracy: 0.7140 - val_loss: 0.7553 - val_categorical_accuracy: 0.6825\n",
            "Epoch 8/30\n",
            "391/390 [==============================] - 37s 95ms/step - loss: 0.6769 - categorical_accuracy: 0.7041 - val_loss: 0.7309 - val_categorical_accuracy: 0.6806\n",
            "Epoch 9/30\n",
            "391/390 [==============================] - 37s 95ms/step - loss: 0.6277 - categorical_accuracy: 0.7329 - val_loss: 0.7363 - val_categorical_accuracy: 0.6731\n",
            "Epoch 10/30\n",
            "391/390 [==============================] - 37s 95ms/step - loss: 0.6490 - categorical_accuracy: 0.7243 - val_loss: 0.7128 - val_categorical_accuracy: 0.6865\n",
            "Epoch 11/30\n",
            "391/390 [==============================] - 37s 95ms/step - loss: 0.5906 - categorical_accuracy: 0.7506 - val_loss: 0.7385 - val_categorical_accuracy: 0.6801\n",
            "Epoch 12/30\n",
            "391/390 [==============================] - 37s 96ms/step - loss: 0.6298 - categorical_accuracy: 0.7334 - val_loss: 0.7117 - val_categorical_accuracy: 0.7078\n",
            "Epoch 13/30\n",
            "391/390 [==============================] - 38s 96ms/step - loss: 0.5885 - categorical_accuracy: 0.7557 - val_loss: 0.7202 - val_categorical_accuracy: 0.6895\n",
            "Epoch 14/30\n",
            "391/390 [==============================] - 37s 96ms/step - loss: 0.5983 - categorical_accuracy: 0.7516 - val_loss: 0.7492 - val_categorical_accuracy: 0.6801\n",
            "Epoch 15/30\n",
            "391/390 [==============================] - 37s 95ms/step - loss: 0.5626 - categorical_accuracy: 0.7700 - val_loss: 0.7241 - val_categorical_accuracy: 0.6935\n",
            "Epoch 16/30\n",
            "391/390 [==============================] - 37s 96ms/step - loss: 0.5843 - categorical_accuracy: 0.7578 - val_loss: 0.7817 - val_categorical_accuracy: 0.6761\n",
            "Epoch 17/30\n",
            "391/390 [==============================] - 37s 96ms/step - loss: 0.5444 - categorical_accuracy: 0.7738 - val_loss: 0.7309 - val_categorical_accuracy: 0.6890\n"
          ],
          "name": "stdout"
        }
      ]
    },
    {
      "cell_type": "markdown",
      "metadata": {
        "id": "Wx7ynLW5W_tJ",
        "colab_type": "text"
      },
      "source": [
        "### Evaluate"
      ]
    },
    {
      "cell_type": "code",
      "metadata": {
        "id": "_y1Jm7ZOvmtX",
        "colab_type": "code",
        "outputId": "4e5a8109-471c-43a7-9e07-3a2993b2998e",
        "colab": {
          "base_uri": "https://localhost:8080/",
          "height": 50
        }
      },
      "source": [
        "model.evaluate(test_x_,test_y)"
      ],
      "execution_count": 0,
      "outputs": [
        {
          "output_type": "stream",
          "text": [
            "1000/1000 [==============================] - 1s 867us/step\n"
          ],
          "name": "stdout"
        },
        {
          "output_type": "execute_result",
          "data": {
            "text/plain": [
              "[0.6667264609336853, 0.713]"
            ]
          },
          "metadata": {
            "tags": []
          },
          "execution_count": 88
        }
      ]
    },
    {
      "cell_type": "code",
      "metadata": {
        "id": "Y4_QKRmMxlDJ",
        "colab_type": "code",
        "outputId": "f00e0e56-febe-4f09-cbaa-d7ae931f44ce",
        "colab": {
          "base_uri": "https://localhost:8080/",
          "height": 574
        }
      },
      "source": [
        "plt.plot(uni_history.history['categorical_accuracy'])\n",
        "plt.plot(uni_history.history['val_categorical_accuracy'])\n",
        "plt.title('model accuracy')\n",
        "plt.ylabel('accuracy')\n",
        "plt.xlabel('epoch')\n",
        "plt.legend(['train', 'validation'], loc='upper left')\n",
        "plt.show()\n",
        "\n",
        "plt.plot(uni_history.history['loss'])\n",
        "plt.plot(uni_history.history['val_loss'])\n",
        "plt.title('model loss')\n",
        "plt.ylabel('loss')\n",
        "plt.xlabel('epoch')\n",
        "plt.legend(['train', 'validation'], loc='upper left')\n",
        "plt.show()"
      ],
      "execution_count": 0,
      "outputs": [
        {
          "output_type": "display_data",
          "data": {
            "image/png": "[encoded data removed]",
            "text/plain": [
              "<Figure size 432x288 with 1 Axes>"
            ]
          },
          "metadata": {
            "tags": []
          }
        },
        {
          "output_type": "display_data",
          "data": {
            "image/png": "[encoded data removed]",
            "text/plain": [
              "<Figure size 432x288 with 1 Axes>"
            ]
          },
          "metadata": {
            "tags": []
          }
        }
      ]
    },
    {
      "cell_type": "markdown",
      "metadata": {
        "id": "zw65uc_zwnn_",
        "colab_type": "text"
      },
      "source": [
        "The model accuracy is 0.66 on the test set. This is much better than a random guess, since that would end up with a 66% chance. In the previous runs of the model different versions have been tested, but all seem to have similar results. Switching the LSTM to a CuDNNLSTM sped up the process by a lot, without many drawbacks. Even though the dropout and recurrent dropout couldn't be used. A dropout layer was added, but the results are similar."
      ]
    },
    {
      "cell_type": "markdown",
      "metadata": {
        "id": "ngHZXkwMW_tQ",
        "colab_type": "text"
      },
      "source": [
        "## Bidirectional RNN Model for document level sentiment classification"
      ]
    },
    {
      "cell_type": "markdown",
      "metadata": {
        "colab_type": "text",
        "id": "fnLbRGKNqpYM"
      },
      "source": [
        "### Model"
      ]
    },
    {
      "cell_type": "code",
      "metadata": {
        "colab_type": "code",
        "id": "9hErfS5QqpYQ",
        "colab": {}
      },
      "source": [
        "vocab_size = len(words_idx)\n",
        "bimodel = Sequential()\n",
        "bimodel.add(Embedding(vocab_size, 300, mask_zero=False, name='Word-Embedding'))\n",
        "bimodel.add(Dropout(dropout))\n",
        "bimodel.add(Dense(32))\n",
        "bimodel.add(Dropout(dropout))\n",
        "bimodel.add(Bidirectional(CuDNNLSTM(300, return_sequences=False, name='GPU-LSTM')))\n",
        "bimodel.add(Dense(3, name='Dense'))\n",
        "bimodel.add(Activation('softmax'))"
      ],
      "execution_count": 0,
      "outputs": []
    },
    {
      "cell_type": "code",
      "metadata": {
        "colab_type": "code",
        "id": "hX_XyQRYqpYY",
        "colab": {}
      },
      "source": [
        "optimizer = opt.RMSprop(lr=0.001, rho=0.9, epsilon=1e-06, clipnorm=10, clipvalue=0)\n",
        "bimodel.compile(optimizer=optimizer, loss='categorical_crossentropy', metrics=['categorical_accuracy'])"
      ],
      "execution_count": 0,
      "outputs": []
    },
    {
      "cell_type": "code",
      "metadata": {
        "colab_type": "code",
        "id": "9WkL9IX0qpYa",
        "outputId": "56cc7686-c6d8-4ebc-ef8d-03924743a0c0",
        "colab": {
          "base_uri": "https://localhost:8080/",
          "height": 370
        }
      },
      "source": [
        "bimodel.summary()"
      ],
      "execution_count": 0,
      "outputs": [
        {
          "output_type": "stream",
          "text": [
            "_________________________________________________________________\n",
            "Layer (type)                 Output Shape              Param #   \n",
            "=================================================================\n",
            "Word-Embedding (Embedding)   (None, None, 300)         3000900   \n",
            "_________________________________________________________________\n",
            "dropout_31 (Dropout)         (None, None, 300)         0         \n",
            "_________________________________________________________________\n",
            "dense_17 (Dense)             (None, None, 32)          9632      \n",
            "_________________________________________________________________\n",
            "dropout_32 (Dropout)         (None, None, 32)          0         \n",
            "_________________________________________________________________\n",
            "bidirectional_5 (Bidirection (None, 600)               801600    \n",
            "_________________________________________________________________\n",
            "Dense (Dense)                (None, 3)                 1803      \n",
            "_________________________________________________________________\n",
            "activation_20 (Activation)   (None, 3)                 0         \n",
            "=================================================================\n",
            "Total params: 3,813,935\n",
            "Trainable params: 3,813,935\n",
            "Non-trainable params: 0\n",
            "_________________________________________________________________\n"
          ],
          "name": "stdout"
        }
      ]
    },
    {
      "cell_type": "markdown",
      "metadata": {
        "id": "KSlYlwvxW_tX",
        "colab_type": "text"
      },
      "source": [
        "### Training"
      ]
    },
    {
      "cell_type": "code",
      "metadata": {
        "colab_type": "code",
        "id": "yDMpPT5vqh56",
        "outputId": "f2e22638-375b-4f5e-9b5f-b240037a7e07",
        "colab": {
          "base_uri": "https://localhost:8080/",
          "height": 406
        }
      },
      "source": [
        "bi_history = train_generator(bimodel, batch_train_iter, batch_val_iter, bi_checkpoint_path, epochs, patience)"
      ],
      "execution_count": 0,
      "outputs": [
        {
          "output_type": "stream",
          "text": [
            "Epoch 1/30\n",
            "391/390 [==============================] - 71s 182ms/step - loss: 1.0128 - categorical_accuracy: 0.4774 - val_loss: 0.8746 - val_categorical_accuracy: 0.5714\n",
            "Epoch 2/30\n",
            "391/390 [==============================] - 70s 179ms/step - loss: 0.8748 - categorical_accuracy: 0.5843 - val_loss: 0.8052 - val_categorical_accuracy: 0.6295\n",
            "Epoch 3/30\n",
            "391/390 [==============================] - 70s 180ms/step - loss: 0.7979 - categorical_accuracy: 0.6394 - val_loss: 0.8849 - val_categorical_accuracy: 0.6101\n",
            "Epoch 4/30\n",
            "391/390 [==============================] - 70s 179ms/step - loss: 0.7658 - categorical_accuracy: 0.6618 - val_loss: 0.7386 - val_categorical_accuracy: 0.6647\n",
            "Epoch 5/30\n",
            "391/390 [==============================] - 70s 179ms/step - loss: 0.7051 - categorical_accuracy: 0.6958 - val_loss: 0.8063 - val_categorical_accuracy: 0.6344\n",
            "Epoch 6/30\n",
            "391/390 [==============================] - 70s 179ms/step - loss: 0.7235 - categorical_accuracy: 0.6792 - val_loss: 0.7329 - val_categorical_accuracy: 0.6885\n",
            "Epoch 7/30\n",
            "391/390 [==============================] - 70s 179ms/step - loss: 0.6708 - categorical_accuracy: 0.7072 - val_loss: 0.8515 - val_categorical_accuracy: 0.6394\n",
            "Epoch 8/30\n",
            "391/390 [==============================] - 70s 180ms/step - loss: 0.6773 - categorical_accuracy: 0.7024 - val_loss: 0.7374 - val_categorical_accuracy: 0.6736\n",
            "Epoch 9/30\n",
            "391/390 [==============================] - 70s 179ms/step - loss: 0.6443 - categorical_accuracy: 0.7276 - val_loss: 0.7330 - val_categorical_accuracy: 0.6786\n",
            "Epoch 10/30\n",
            "391/390 [==============================] - 70s 180ms/step - loss: 0.6452 - categorical_accuracy: 0.7261 - val_loss: 0.7629 - val_categorical_accuracy: 0.6741\n",
            "Epoch 11/30\n",
            "391/390 [==============================] - 70s 179ms/step - loss: 0.6125 - categorical_accuracy: 0.7413 - val_loss: 0.7422 - val_categorical_accuracy: 0.6776\n"
          ],
          "name": "stdout"
        }
      ]
    },
    {
      "cell_type": "markdown",
      "metadata": {
        "id": "Ek4Br6I6W_tc",
        "colab_type": "text"
      },
      "source": [
        "### Evaluate"
      ]
    },
    {
      "cell_type": "code",
      "metadata": {
        "id": "HWjZD07RW_td",
        "colab_type": "code",
        "outputId": "1f749b14-c79c-477d-eda1-58d4606b3704",
        "colab": {
          "base_uri": "https://localhost:8080/",
          "height": 50
        }
      },
      "source": [
        "bimodel.evaluate(test_x_,test_y)"
      ],
      "execution_count": 0,
      "outputs": [
        {
          "output_type": "stream",
          "text": [
            "1000/1000 [==============================] - 2s 2ms/step\n"
          ],
          "name": "stdout"
        },
        {
          "output_type": "execute_result",
          "data": {
            "text/plain": [
              "[0.6485114631652832, 0.728]"
            ]
          },
          "metadata": {
            "tags": []
          },
          "execution_count": 95
        }
      ]
    },
    {
      "cell_type": "code",
      "metadata": {
        "id": "-3ORdFG3xivP",
        "colab_type": "code",
        "outputId": "5558559b-38ed-4465-9b5e-2312facaa2f9",
        "colab": {
          "base_uri": "https://localhost:8080/",
          "height": 574
        }
      },
      "source": [
        "plt.plot(bi_history.history['categorical_accuracy'])\n",
        "plt.plot(bi_history.history['val_categorical_accuracy'])\n",
        "plt.title('model accuracy')\n",
        "plt.ylabel('accuracy')\n",
        "plt.xlabel('epoch')\n",
        "plt.legend(['train', 'validation'], loc='upper left')\n",
        "plt.show()\n",
        "\n",
        "plt.plot(bi_history.history['loss'])\n",
        "plt.plot(bi_history.history['val_loss'])\n",
        "plt.title('model loss')\n",
        "plt.ylabel('loss')\n",
        "plt.xlabel('epoch')\n",
        "plt.legend(['train', 'validation'], loc='upper left')\n",
        "plt.show()"
      ],
      "execution_count": 0,
      "outputs": [
        {
          "output_type": "display_data",
          "data": {
            "image/png": "[encoded data removed]",
            "text/plain": [
              "<Figure size 432x288 with 1 Axes>"
            ]
          },
          "metadata": {
            "tags": []
          }
        },
        {
          "output_type": "display_data",
          "data": {
            "image/png": "[encoded data removed]",
            "text/plain": [
              "<Figure size 432x288 with 1 Axes>"
            ]
          },
          "metadata": {
            "tags": []
          }
        }
      ]
    },
    {
      "cell_type": "markdown",
      "metadata": {
        "id": "FaswT4PxAAbx",
        "colab_type": "text"
      },
      "source": [
        "Playing around with different architectures did not result in an increase for the test set accuracy. This remained 65%, adding more dropouts to the architecture did result in less overfitting during training.\n",
        "Using a GPU-accelerated LSTM resulted in a very significant speedup for the method, however the CuDNNLSTM does not allow for dropout or recurrent dropout. so this was partially fixed by adding dropouts, however this will not have the same effect. It's clearly a tradeoff between speed and precision.\n",
        "Overal 65% is not bad, since a random guess would be 33%"
      ]
    }
  ]
}