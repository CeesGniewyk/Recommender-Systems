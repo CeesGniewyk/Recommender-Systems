{
  "nbformat": 4,
  "nbformat_minor": 0,
  "metadata": {
    "colab": {
      "name": "Assignment_4_practical_Group_4_submission.ipynb",
      "version": "0.3.2",
      "provenance": [],
      "collapsed_sections": [],
      "toc_visible": true,
      "include_colab_link": true
    },
    "language_info": {
      "codemirror_mode": {
        "name": "ipython",
        "version": 3
      },
      "file_extension": ".py",
      "mimetype": "text/x-python",
      "name": "python",
      "nbconvert_exporter": "python",
      "pygments_lexer": "ipython3",
      "version": "3.7.3"
    },
    "kernelspec": {
      "display_name": "Python 3",
      "language": "python",
      "name": "python3"
    },
    "accelerator": "GPU"
  },
  "cells": [
    {
      "cell_type": "markdown",
      "metadata": {
        "id": "view-in-github",
        "colab_type": "text"
      },
      "source": [
        "<a href=\"https://colab.research.google.com/github/CeesGniewyk/Recommender-Systems/blob/master/Assignment_4_practical_Group_4_submission.ipynb\" target=\"_parent\"><img src=\"https://colab.research.google.com/assets/colab-badge.svg\" alt=\"Open In Colab\"/></a>"
      ]
    },
    {
      "cell_type": "markdown",
      "metadata": {
        "colab_type": "text",
        "id": "FDZL3HpiOS79"
      },
      "source": [
        "# Preparation"
      ]
    },
    {
      "cell_type": "markdown",
      "metadata": {
        "id": "oaVkfEWW3ErZ",
        "colab_type": "text"
      },
      "source": [
        "## Importing Packages"
      ]
    },
    {
      "cell_type": "code",
      "metadata": {
        "colab_type": "code",
        "id": "oTn5y3IpOQN6",
        "colab": {
          "base_uri": "https://localhost:8080/",
          "height": 34
        },
        "outputId": "b06e69ad-4495-4e50-b57e-05bf8117e199"
      },
      "source": [
        "from keras.layers import Lambda, Input, Dense, Conv2D, MaxPooling2D, UpSampling2D, Flatten, Reshape, BatchNormalization, Dropout\n",
        "from keras.models import Model, load_model, Sequential\n",
        "from keras.datasets import mnist\n",
        "from keras import backend as K\n",
        "from keras.callbacks import EarlyStopping, ModelCheckpoint\n",
        "import math\n",
        "import numpy as np\n",
        "import matplotlib.pyplot as plt\n",
        "import os"
      ],
      "execution_count": 1,
      "outputs": [
        {
          "output_type": "stream",
          "text": [
            "Using TensorFlow backend.\n"
          ],
          "name": "stderr"
        }
      ]
    },
    {
      "cell_type": "markdown",
      "metadata": {
        "id": "rlRaL1ws28Je",
        "colab_type": "text"
      },
      "source": [
        "## Mounting Google Drive and Associated Tools"
      ]
    },
    {
      "cell_type": "code",
      "metadata": {
        "colab_type": "code",
        "id": "MfUX0GxFT2q6",
        "outputId": "03239dc6-0807-4567-b3d3-5dd8744838ef",
        "colab": {
          "base_uri": "https://localhost:8080/",
          "height": 527
        }
      },
      "source": [
        "from google.colab import drive\n",
        "drive.mount('/content/gdrive')"
      ],
      "execution_count": 2,
      "outputs": [
        {
          "output_type": "error",
          "ename": "KeyboardInterrupt",
          "evalue": "ignored",
          "traceback": [
            "\u001b[0;31m---------------------------------------------------------------------------\u001b[0m",
            "\u001b[0;31mKeyboardInterrupt\u001b[0m                         Traceback (most recent call last)",
            "\u001b[0;32m/usr/local/lib/python3.6/dist-packages/ipykernel/kernelbase.py\u001b[0m in \u001b[0;36m_input_request\u001b[0;34m(self, prompt, ident, parent, password)\u001b[0m\n\u001b[1;32m    729\u001b[0m             \u001b[0;32mtry\u001b[0m\u001b[0;34m:\u001b[0m\u001b[0;34m\u001b[0m\u001b[0;34m\u001b[0m\u001b[0m\n\u001b[0;32m--> 730\u001b[0;31m                 \u001b[0mident\u001b[0m\u001b[0;34m,\u001b[0m \u001b[0mreply\u001b[0m \u001b[0;34m=\u001b[0m \u001b[0mself\u001b[0m\u001b[0;34m.\u001b[0m\u001b[0msession\u001b[0m\u001b[0;34m.\u001b[0m\u001b[0mrecv\u001b[0m\u001b[0;34m(\u001b[0m\u001b[0mself\u001b[0m\u001b[0;34m.\u001b[0m\u001b[0mstdin_socket\u001b[0m\u001b[0;34m,\u001b[0m \u001b[0;36m0\u001b[0m\u001b[0;34m)\u001b[0m\u001b[0;34m\u001b[0m\u001b[0;34m\u001b[0m\u001b[0m\n\u001b[0m\u001b[1;32m    731\u001b[0m             \u001b[0;32mexcept\u001b[0m \u001b[0mException\u001b[0m\u001b[0;34m:\u001b[0m\u001b[0;34m\u001b[0m\u001b[0;34m\u001b[0m\u001b[0m\n",
            "\u001b[0;32m/usr/local/lib/python3.6/dist-packages/jupyter_client/session.py\u001b[0m in \u001b[0;36mrecv\u001b[0;34m(self, socket, mode, content, copy)\u001b[0m\n\u001b[1;32m    802\u001b[0m         \u001b[0;32mtry\u001b[0m\u001b[0;34m:\u001b[0m\u001b[0;34m\u001b[0m\u001b[0;34m\u001b[0m\u001b[0m\n\u001b[0;32m--> 803\u001b[0;31m             \u001b[0mmsg_list\u001b[0m \u001b[0;34m=\u001b[0m \u001b[0msocket\u001b[0m\u001b[0;34m.\u001b[0m\u001b[0mrecv_multipart\u001b[0m\u001b[0;34m(\u001b[0m\u001b[0mmode\u001b[0m\u001b[0;34m,\u001b[0m \u001b[0mcopy\u001b[0m\u001b[0;34m=\u001b[0m\u001b[0mcopy\u001b[0m\u001b[0;34m)\u001b[0m\u001b[0;34m\u001b[0m\u001b[0;34m\u001b[0m\u001b[0m\n\u001b[0m\u001b[1;32m    804\u001b[0m         \u001b[0;32mexcept\u001b[0m \u001b[0mzmq\u001b[0m\u001b[0;34m.\u001b[0m\u001b[0mZMQError\u001b[0m \u001b[0;32mas\u001b[0m \u001b[0me\u001b[0m\u001b[0;34m:\u001b[0m\u001b[0;34m\u001b[0m\u001b[0;34m\u001b[0m\u001b[0m\n",
            "\u001b[0;32m/usr/local/lib/python3.6/dist-packages/zmq/sugar/socket.py\u001b[0m in \u001b[0;36mrecv_multipart\u001b[0;34m(self, flags, copy, track)\u001b[0m\n\u001b[1;32m    465\u001b[0m         \"\"\"\n\u001b[0;32m--> 466\u001b[0;31m         \u001b[0mparts\u001b[0m \u001b[0;34m=\u001b[0m \u001b[0;34m[\u001b[0m\u001b[0mself\u001b[0m\u001b[0;34m.\u001b[0m\u001b[0mrecv\u001b[0m\u001b[0;34m(\u001b[0m\u001b[0mflags\u001b[0m\u001b[0;34m,\u001b[0m \u001b[0mcopy\u001b[0m\u001b[0;34m=\u001b[0m\u001b[0mcopy\u001b[0m\u001b[0;34m,\u001b[0m \u001b[0mtrack\u001b[0m\u001b[0;34m=\u001b[0m\u001b[0mtrack\u001b[0m\u001b[0;34m)\u001b[0m\u001b[0;34m]\u001b[0m\u001b[0;34m\u001b[0m\u001b[0;34m\u001b[0m\u001b[0m\n\u001b[0m\u001b[1;32m    467\u001b[0m         \u001b[0;31m# have first part already, only loop while more to receive\u001b[0m\u001b[0;34m\u001b[0m\u001b[0;34m\u001b[0m\u001b[0;34m\u001b[0m\u001b[0m\n",
            "\u001b[0;32mzmq/backend/cython/socket.pyx\u001b[0m in \u001b[0;36mzmq.backend.cython.socket.Socket.recv\u001b[0;34m()\u001b[0m\n",
            "\u001b[0;32mzmq/backend/cython/socket.pyx\u001b[0m in \u001b[0;36mzmq.backend.cython.socket.Socket.recv\u001b[0;34m()\u001b[0m\n",
            "\u001b[0;32mzmq/backend/cython/socket.pyx\u001b[0m in \u001b[0;36mzmq.backend.cython.socket._recv_copy\u001b[0;34m()\u001b[0m\n",
            "\u001b[0;32m/usr/local/lib/python3.6/dist-packages/zmq/backend/cython/checkrc.pxd\u001b[0m in \u001b[0;36mzmq.backend.cython.checkrc._check_rc\u001b[0;34m()\u001b[0m\n",
            "\u001b[0;31mKeyboardInterrupt\u001b[0m: ",
            "\nDuring handling of the above exception, another exception occurred:\n",
            "\u001b[0;31mKeyboardInterrupt\u001b[0m                         Traceback (most recent call last)",
            "\u001b[0;32m<ipython-input-2-4996ee3d8d09>\u001b[0m in \u001b[0;36m<module>\u001b[0;34m()\u001b[0m\n\u001b[1;32m      1\u001b[0m \u001b[0;32mfrom\u001b[0m \u001b[0mgoogle\u001b[0m\u001b[0;34m.\u001b[0m\u001b[0mcolab\u001b[0m \u001b[0;32mimport\u001b[0m \u001b[0mdrive\u001b[0m\u001b[0;34m\u001b[0m\u001b[0;34m\u001b[0m\u001b[0m\n\u001b[0;32m----> 2\u001b[0;31m \u001b[0mdrive\u001b[0m\u001b[0;34m.\u001b[0m\u001b[0mmount\u001b[0m\u001b[0;34m(\u001b[0m\u001b[0;34m'/content/gdrive'\u001b[0m\u001b[0;34m)\u001b[0m\u001b[0;34m\u001b[0m\u001b[0;34m\u001b[0m\u001b[0m\n\u001b[0m",
            "\u001b[0;32m/usr/local/lib/python3.6/dist-packages/google/colab/drive.py\u001b[0m in \u001b[0;36mmount\u001b[0;34m(mountpoint, force_remount, timeout_ms)\u001b[0m\n\u001b[1;32m    182\u001b[0m       \u001b[0;31m# Not already authorized, so do the authorization dance.\u001b[0m\u001b[0;34m\u001b[0m\u001b[0;34m\u001b[0m\u001b[0;34m\u001b[0m\u001b[0m\n\u001b[1;32m    183\u001b[0m       \u001b[0mauth_prompt\u001b[0m \u001b[0;34m=\u001b[0m \u001b[0md\u001b[0m\u001b[0;34m.\u001b[0m\u001b[0mmatch\u001b[0m\u001b[0;34m.\u001b[0m\u001b[0mgroup\u001b[0m\u001b[0;34m(\u001b[0m\u001b[0;36m1\u001b[0m\u001b[0;34m)\u001b[0m \u001b[0;34m+\u001b[0m \u001b[0;34m'\\n\\nEnter your authorization code:\\n'\u001b[0m\u001b[0;34m\u001b[0m\u001b[0;34m\u001b[0m\u001b[0m\n\u001b[0;32m--> 184\u001b[0;31m       \u001b[0md\u001b[0m\u001b[0;34m.\u001b[0m\u001b[0msend\u001b[0m\u001b[0;34m(\u001b[0m\u001b[0m_getpass\u001b[0m\u001b[0;34m.\u001b[0m\u001b[0mgetpass\u001b[0m\u001b[0;34m(\u001b[0m\u001b[0mauth_prompt\u001b[0m\u001b[0;34m)\u001b[0m \u001b[0;34m+\u001b[0m \u001b[0;34m'\\n'\u001b[0m\u001b[0;34m)\u001b[0m\u001b[0;34m\u001b[0m\u001b[0;34m\u001b[0m\u001b[0m\n\u001b[0m\u001b[1;32m    185\u001b[0m   \u001b[0md\u001b[0m\u001b[0;34m.\u001b[0m\u001b[0msendcontrol\u001b[0m\u001b[0;34m(\u001b[0m\u001b[0;34m'z'\u001b[0m\u001b[0;34m)\u001b[0m\u001b[0;34m\u001b[0m\u001b[0;34m\u001b[0m\u001b[0m\n\u001b[1;32m    186\u001b[0m   \u001b[0md\u001b[0m\u001b[0;34m.\u001b[0m\u001b[0mexpect\u001b[0m\u001b[0;34m(\u001b[0m\u001b[0;34mu'Stopped'\u001b[0m\u001b[0;34m)\u001b[0m\u001b[0;34m\u001b[0m\u001b[0;34m\u001b[0m\u001b[0m\n",
            "\u001b[0;32m/usr/local/lib/python3.6/dist-packages/ipykernel/kernelbase.py\u001b[0m in \u001b[0;36mgetpass\u001b[0;34m(self, prompt, stream)\u001b[0m\n\u001b[1;32m    686\u001b[0m             \u001b[0mself\u001b[0m\u001b[0;34m.\u001b[0m\u001b[0m_parent_ident\u001b[0m\u001b[0;34m,\u001b[0m\u001b[0;34m\u001b[0m\u001b[0;34m\u001b[0m\u001b[0m\n\u001b[1;32m    687\u001b[0m             \u001b[0mself\u001b[0m\u001b[0;34m.\u001b[0m\u001b[0m_parent_header\u001b[0m\u001b[0;34m,\u001b[0m\u001b[0;34m\u001b[0m\u001b[0;34m\u001b[0m\u001b[0m\n\u001b[0;32m--> 688\u001b[0;31m             \u001b[0mpassword\u001b[0m\u001b[0;34m=\u001b[0m\u001b[0;32mTrue\u001b[0m\u001b[0;34m,\u001b[0m\u001b[0;34m\u001b[0m\u001b[0;34m\u001b[0m\u001b[0m\n\u001b[0m\u001b[1;32m    689\u001b[0m         )\n\u001b[1;32m    690\u001b[0m \u001b[0;34m\u001b[0m\u001b[0m\n",
            "\u001b[0;32m/usr/local/lib/python3.6/dist-packages/ipykernel/kernelbase.py\u001b[0m in \u001b[0;36m_input_request\u001b[0;34m(self, prompt, ident, parent, password)\u001b[0m\n\u001b[1;32m    733\u001b[0m             \u001b[0;32mexcept\u001b[0m \u001b[0mKeyboardInterrupt\u001b[0m\u001b[0;34m:\u001b[0m\u001b[0;34m\u001b[0m\u001b[0;34m\u001b[0m\u001b[0m\n\u001b[1;32m    734\u001b[0m                 \u001b[0;31m# re-raise KeyboardInterrupt, to truncate traceback\u001b[0m\u001b[0;34m\u001b[0m\u001b[0;34m\u001b[0m\u001b[0;34m\u001b[0m\u001b[0m\n\u001b[0;32m--> 735\u001b[0;31m                 \u001b[0;32mraise\u001b[0m \u001b[0mKeyboardInterrupt\u001b[0m\u001b[0;34m\u001b[0m\u001b[0;34m\u001b[0m\u001b[0m\n\u001b[0m\u001b[1;32m    736\u001b[0m             \u001b[0;32melse\u001b[0m\u001b[0;34m:\u001b[0m\u001b[0;34m\u001b[0m\u001b[0;34m\u001b[0m\u001b[0m\n\u001b[1;32m    737\u001b[0m                 \u001b[0;32mbreak\u001b[0m\u001b[0;34m\u001b[0m\u001b[0;34m\u001b[0m\u001b[0m\n",
            "\u001b[0;31mKeyboardInterrupt\u001b[0m: "
          ]
        }
      ]
    },
    {
      "cell_type": "code",
      "metadata": {
        "id": "3WwXLJ5Devge",
        "colab_type": "code",
        "colab": {}
      },
      "source": [
        "!pip install -U -q PyDrive\n",
        "from pydrive.auth import GoogleAuth\n",
        "from pydrive.drive import GoogleDrive \n",
        "from google.colab import auth \n",
        "from oauth2client.client import GoogleCredentials\n",
        "auth.authenticate_user()\n",
        "gauth = GoogleAuth()\n",
        "gauth.credentials = GoogleCredentials.get_application_default()\n",
        "drive = GoogleDrive(gauth)"
      ],
      "execution_count": 0,
      "outputs": []
    },
    {
      "cell_type": "code",
      "metadata": {
        "id": "SiNdqtTH0-wd",
        "colab_type": "code",
        "colab": {}
      },
      "source": [
        "import pickle\n",
        "def load_model(file_name):\n",
        "\n",
        "    f = open(file_name, 'rb')\n",
        "    read_file = pickle.load(f)\n",
        "    print(\"file loaded\")\n",
        "    f.close()\n",
        "\n",
        "    return read_file\n",
        "\n",
        "def save_model(file_name, data):\n",
        "\n",
        "    f = open(file_name, 'wb')\n",
        "    pickle.dump(data, f)\n",
        "    print(\" file saved\")\n",
        "    f.close()"
      ],
      "execution_count": 0,
      "outputs": []
    },
    {
      "cell_type": "code",
      "metadata": {
        "id": "zKK5col31qxF",
        "colab_type": "code",
        "outputId": "d878fe9f-9ea7-4828-bd6a-e1a79dc6a101",
        "colab": {
          "base_uri": "https://localhost:8080/"
        }
      },
      "source": [
        "cd /content/gdrive/My Drive/Colab Notebooks/\"Assignment 4\"/Models"
      ],
      "execution_count": 0,
      "outputs": [
        {
          "output_type": "stream",
          "text": [
            "/content/gdrive/My Drive/Colab Notebooks/Assignment 4/Models\n"
          ],
          "name": "stdout"
        }
      ]
    },
    {
      "cell_type": "markdown",
      "metadata": {
        "colab_type": "text",
        "id": "TONiNcxCgrPC"
      },
      "source": [
        "# Question 1: Variational Autoencoder\n",
        "**Make sure you have read the theoretical assignment, and answered the questions there, before working on this practical assignment.**\n",
        "\n",
        "In this task, we will implement a Variational Autoencoder (VAE) step by step, using the model and results from the theoretical assignment. Some code is already provided, the task is to fill in the gaps."
      ]
    },
    {
      "cell_type": "markdown",
      "metadata": {
        "colab_type": "text",
        "id": "xwIb7sAROYLj"
      },
      "source": [
        "### Data\n",
        "We will train a VAE for the MNIST data. This code loads the data, and increases the canvas size to 32x32 by padding zeros. This makes it easier to design convolutional autoencoder architectures with striding or pooling/upsampling."
      ]
    },
    {
      "cell_type": "code",
      "metadata": {
        "colab_type": "code",
        "id": "e8EzVe91OxfC",
        "colab": {
          "base_uri": "https://localhost:8080/",
          "height": 51
        },
        "outputId": "c8dcd844-d466-4344-eeda-f2430cf810d8"
      },
      "source": [
        "# MNIST dataset\n",
        "(x_train_mnist, y_train_mnist), (x_test_mnist, y_test_mnist) = mnist.load_data()\n",
        "\n",
        "# normalise\n",
        "x_train_mnist = x_train_mnist.astype('float32') / 255\n",
        "x_test_mnist = x_test_mnist.astype('float32') / 255\n",
        "\n",
        "# change shape: (n, 28, 28) -> (n, 28, 28, 1)\n",
        "x_train_mnist = x_train_mnist.reshape(x_train_mnist.shape + (1,))\n",
        "x_test_mnist = x_test_mnist.reshape(x_test_mnist.shape + (1,))\n",
        "\n",
        "# pad zeros to obtain canvas size of 32x32, i.e. shape is now (n, 32, 32, 1)\n",
        "x_train_mnist = np.pad(x_train_mnist, pad_width=((0, 0), (2, 2), (2, 2), (0, 0)), mode=\"constant\", constant_values=0)\n",
        "x_test_mnist = np.pad(x_test_mnist, pad_width=((0, 0), (2, 2), (2, 2), (0, 0)), mode=\"constant\", constant_values=0)\n",
        "\n",
        "# get height, width, and depth values\n",
        "height, width, depth = x_train_mnist.shape[1:]"
      ],
      "execution_count": 3,
      "outputs": [
        {
          "output_type": "stream",
          "text": [
            "Downloading data from https://s3.amazonaws.com/img-datasets/mnist.npz\n",
            "11493376/11490434 [==============================] - 0s 0us/step\n"
          ],
          "name": "stdout"
        }
      ]
    },
    {
      "cell_type": "markdown",
      "metadata": {
        "colab_type": "text",
        "id": "50fREKLbO12R"
      },
      "source": [
        "## Task 1.1: Encoder architecture\n",
        "**(a)** *Choose and implement a suitable architecture for the encoder. The encoder should have two outputs, which we will interpret as the mean and log variance of the approximate posterior distribution $q(z|x)$ (a Gaussian, as defined in the theoretical assignment). In this task, use a latent space dimension of 2 such that we can easily plot the latent space.*"
      ]
    },
    {
      "cell_type": "code",
      "metadata": {
        "colab_type": "code",
        "id": "25uNluOUPAGy",
        "outputId": "e6221fbb-da3b-4087-a24b-ece6aac4579c",
        "colab": {
          "base_uri": "https://localhost:8080/",
          "height": 612
        }
      },
      "source": [
        "# network parameters\n",
        "input_shape = (height, width, depth)\n",
        "latent_dim_mnist = 4\n",
        "\n",
        "\n",
        "# VAE model = encoder + decoder\n",
        "# build encoder model\n",
        "x_in = Input(shape=input_shape, name='encoder_input')\n",
        "\n",
        "# conv block 1\n",
        "h = Conv2D(filters=64, kernel_size=(3, 3), padding=\"same\",\n",
        "           activation='relu')(x_in)                    # (32, 32, 1)  -> (32, 32, 64)\n",
        "h = MaxPooling2D(pool_size=(2, 2), padding=\"same\")(h)  # (32, 32, 64) -> (16, 16, 64)\n",
        "h = BatchNormalization()(h)                            # no change\n",
        "\n",
        "# conv block 2\n",
        "h = Conv2D(filters=128, kernel_size=(3, 3), padding=\"same\",\n",
        "           activation='relu')(h)                       # (16, 16, 64)  -> (16, 16, 128)\n",
        "h = MaxPooling2D(pool_size=(2, 2), padding=\"same\")(h)  # (16, 16, 128) -> (8, 8, 128)\n",
        "h = BatchNormalization()(h)                            # no change\n",
        "\n",
        "# dense layers\n",
        "h = Flatten()(h)                                       # (8, 8, 128) -> (8*8*128,)\n",
        "h = Dense(256, activation=\"relu\")(h)                   # (8*8*128,)  -> (256,)\n",
        "h = BatchNormalization()(h)                            # no change\n",
        "h = Dense(128, activation=\"relu\")(h)                   # (256,) -> (128,)\n",
        "h = BatchNormalization()(h)                            # no change\n",
        "\n",
        "z_mean = Dense(latent_dim_mnist, name='z_mean')(h)  # mean parameter of q(z|x)\n",
        "z_log_var = Dense(latent_dim_mnist, name='z_log_var')(h)  # log of variance parameter of q(z|x)\n",
        "\n",
        "# instantiate encoder model\n",
        "mnist_vae_encoder = Model(x_in, [z_mean, z_log_var], name='encoder')\n",
        "mnist_vae_encoder.summary()"
      ],
      "execution_count": 5,
      "outputs": [
        {
          "output_type": "stream",
          "text": [
            "__________________________________________________________________________________________________\n",
            "Layer (type)                    Output Shape         Param #     Connected to                     \n",
            "==================================================================================================\n",
            "encoder_input (InputLayer)      (None, 32, 32, 1)    0                                            \n",
            "__________________________________________________________________________________________________\n",
            "conv2d_3 (Conv2D)               (None, 32, 32, 64)   640         encoder_input[0][0]              \n",
            "__________________________________________________________________________________________________\n",
            "max_pooling2d_3 (MaxPooling2D)  (None, 16, 16, 64)   0           conv2d_3[0][0]                   \n",
            "__________________________________________________________________________________________________\n",
            "batch_normalization_5 (BatchNor (None, 16, 16, 64)   256         max_pooling2d_3[0][0]            \n",
            "__________________________________________________________________________________________________\n",
            "conv2d_4 (Conv2D)               (None, 16, 16, 128)  73856       batch_normalization_5[0][0]      \n",
            "__________________________________________________________________________________________________\n",
            "max_pooling2d_4 (MaxPooling2D)  (None, 8, 8, 128)    0           conv2d_4[0][0]                   \n",
            "__________________________________________________________________________________________________\n",
            "batch_normalization_6 (BatchNor (None, 8, 8, 128)    512         max_pooling2d_4[0][0]            \n",
            "__________________________________________________________________________________________________\n",
            "flatten_2 (Flatten)             (None, 8192)         0           batch_normalization_6[0][0]      \n",
            "__________________________________________________________________________________________________\n",
            "dense_3 (Dense)                 (None, 256)          2097408     flatten_2[0][0]                  \n",
            "__________________________________________________________________________________________________\n",
            "batch_normalization_7 (BatchNor (None, 256)          1024        dense_3[0][0]                    \n",
            "__________________________________________________________________________________________________\n",
            "dense_4 (Dense)                 (None, 128)          32896       batch_normalization_7[0][0]      \n",
            "__________________________________________________________________________________________________\n",
            "batch_normalization_8 (BatchNor (None, 128)          512         dense_4[0][0]                    \n",
            "__________________________________________________________________________________________________\n",
            "z_mean (Dense)                  (None, 4)            516         batch_normalization_8[0][0]      \n",
            "__________________________________________________________________________________________________\n",
            "z_log_var (Dense)               (None, 4)            516         batch_normalization_8[0][0]      \n",
            "==================================================================================================\n",
            "Total params: 2,208,136\n",
            "Trainable params: 2,206,984\n",
            "Non-trainable params: 1,152\n",
            "__________________________________________________________________________________________________\n"
          ],
          "name": "stdout"
        }
      ]
    },
    {
      "cell_type": "markdown",
      "metadata": {
        "colab_type": "text",
        "id": "33N4zLJCifXR"
      },
      "source": [
        "**(b)** *Motivate your choice of architecture.*\n",
        "\n",
        "**Answer:**"
      ]
    },
    {
      "cell_type": "markdown",
      "metadata": {
        "colab_type": "text",
        "id": "GcdqHXJJitXW"
      },
      "source": [
        "The architecture of the model is based on convolutional autoencoder, this architecute is also used in the practical and has yielded results. <br>\n",
        "Since we're dealing with image data, there is surely spatial correlation, therefore using convolutional blocks seems intuitive."
      ]
    },
    {
      "cell_type": "markdown",
      "metadata": {
        "colab_type": "text",
        "id": "5v-AuemKFs5O"
      },
      "source": [
        "**(c)** *What is the reason to model the logarithm of the variance, instead of the variance (or standard deviation) itself?*\n",
        "\n",
        "**Answer:**"
      ]
    },
    {
      "cell_type": "markdown",
      "metadata": {
        "colab_type": "text",
        "id": "rMqk6sYVGEVu"
      },
      "source": [
        " If we would directly output the values, the network can only output numbers in the range 0-1 while using a logaritmic scale, a wider range of numbers can be outputted and later compressed (similar to using softmax)"
      ]
    },
    {
      "cell_type": "markdown",
      "metadata": {
        "colab_type": "text",
        "id": "j9QVvgvdPy44"
      },
      "source": [
        "## Task 1.2: Decoder architecture\n",
        "**(a)** *Choose and implement a suitable architecture for the decoder. Input is a sample of latent variables, the output represents the parameters of the generative distribution $p(x|z)$, i.e. the mean of a Gaussian distribution (for continuous data) or Bernoulli distribution (for binary data).*"
      ]
    },
    {
      "cell_type": "code",
      "metadata": {
        "colab_type": "code",
        "id": "a_5CScG5P_53",
        "outputId": "d78787fa-652a-4305-9bd4-0867bf570c6c",
        "colab": {
          "base_uri": "https://localhost:8080/",
          "height": 632
        }
      },
      "source": [
        "# build decoder model\n",
        "z_in = Input(shape=(latent_dim_mnist,), name='z_in')\n",
        "\n",
        "h = Dense(128,activation=\"relu\")(z_in)                 # (32,) -> (128,) (encoding dimension)\n",
        "h = BatchNormalization()(h)                                 # no change\n",
        "h = Dense(256,activation=\"relu\")(h)                         # (128, -> (256,)\n",
        "h = BatchNormalization()(h)                                 # no change\n",
        "h = Dense(8*8*128,activation=\"relu\")(h)                     # (256,)     -> (8*8*128,)\n",
        "h = Reshape((8,8,128))(h)                                   # (8*8*128,) -> (8, 8, 128)\n",
        "                                                            \n",
        "h = BatchNormalization()(h)                                 # no change\n",
        "h = UpSampling2D((2, 2))(h)                                 # (8, 8, 128  ) -> (16, 16, 128)\n",
        "h = Conv2D(filters=64, kernel_size=(3, 3), padding=\"same\",\n",
        "           activation='relu')(h)                            # (16, 16, 128) -> (16, 16, 64)\n",
        "                                                            \n",
        "h = BatchNormalization()(h)                                 # no change\n",
        "h = UpSampling2D((2, 2))(h)                                 # (16, 16, 64) -> (32, 32, 64)\n",
        "dec_out = Conv2D(filters=1, kernel_size=(3, 3), padding=\"same\",\n",
        "           activation='sigmoid')(h)    \n",
        "\n",
        "# instantiate decoder model\n",
        "mnist_vae_decoder = Model(z_in, dec_out, name='decoder')\n",
        "mnist_vae_decoder.summary()"
      ],
      "execution_count": 6,
      "outputs": [
        {
          "output_type": "stream",
          "text": [
            "W0621 17:07:17.945834 140571408484224 deprecation_wrapper.py:119] From /usr/local/lib/python3.6/dist-packages/keras/backend/tensorflow_backend.py:2018: The name tf.image.resize_nearest_neighbor is deprecated. Please use tf.compat.v1.image.resize_nearest_neighbor instead.\n",
            "\n"
          ],
          "name": "stderr"
        },
        {
          "output_type": "stream",
          "text": [
            "_________________________________________________________________\n",
            "Layer (type)                 Output Shape              Param #   \n",
            "=================================================================\n",
            "z_in (InputLayer)            (None, 4)                 0         \n",
            "_________________________________________________________________\n",
            "dense_5 (Dense)              (None, 128)               640       \n",
            "_________________________________________________________________\n",
            "batch_normalization_9 (Batch (None, 128)               512       \n",
            "_________________________________________________________________\n",
            "dense_6 (Dense)              (None, 256)               33024     \n",
            "_________________________________________________________________\n",
            "batch_normalization_10 (Batc (None, 256)               1024      \n",
            "_________________________________________________________________\n",
            "dense_7 (Dense)              (None, 8192)              2105344   \n",
            "_________________________________________________________________\n",
            "reshape_1 (Reshape)          (None, 8, 8, 128)         0         \n",
            "_________________________________________________________________\n",
            "batch_normalization_11 (Batc (None, 8, 8, 128)         512       \n",
            "_________________________________________________________________\n",
            "up_sampling2d_1 (UpSampling2 (None, 16, 16, 128)       0         \n",
            "_________________________________________________________________\n",
            "conv2d_5 (Conv2D)            (None, 16, 16, 64)        73792     \n",
            "_________________________________________________________________\n",
            "batch_normalization_12 (Batc (None, 16, 16, 64)        256       \n",
            "_________________________________________________________________\n",
            "up_sampling2d_2 (UpSampling2 (None, 32, 32, 64)        0         \n",
            "_________________________________________________________________\n",
            "conv2d_6 (Conv2D)            (None, 32, 32, 1)         577       \n",
            "=================================================================\n",
            "Total params: 2,215,681\n",
            "Trainable params: 2,214,529\n",
            "Non-trainable params: 1,152\n",
            "_________________________________________________________________\n"
          ],
          "name": "stdout"
        }
      ]
    },
    {
      "cell_type": "markdown",
      "metadata": {
        "colab_type": "text",
        "id": "PluBLCf8oljy"
      },
      "source": [
        "**(b)** *Motivate your choice of architecture.*\n",
        "\n",
        "**Answer:**"
      ]
    },
    {
      "cell_type": "markdown",
      "metadata": {
        "colab_type": "text",
        "id": "_HP4dgPsonkx"
      },
      "source": [
        "In research it's rarely found to have a different decoder than encoder architecture. The encoder architecture is mirrored in the decoder <br>\n",
        "Instead of dealing with the so called \"checkers board\" problem that happens when there is striding involved in the convolutional layers, this is mitigated by using upsampling and not applying striding."
      ]
    },
    {
      "cell_type": "markdown",
      "metadata": {
        "id": "_EF5nI7a-kk2",
        "colab_type": "text"
      },
      "source": [
        "## Load Trained model\n",
        "Uncomment after first run"
      ]
    },
    {
      "cell_type": "code",
      "metadata": {
        "id": "QiHgyn8o6pMn",
        "colab_type": "code",
        "colab": {}
      },
      "source": [
        "# mnist_vae_encoder = load_model(\"mnist_vae_encoder\")\n",
        "# mnist_vae_decoder = load_model(\"mnist_vae_decoder\")\n",
        "\n",
        "# x_in = mnist_vae_encoder.input\n",
        "# z_mean, z_log_var = mnist_vae_encoder.output\n",
        "# latent_dim = int(z_mean.shape[1])"
      ],
      "execution_count": 0,
      "outputs": []
    },
    {
      "cell_type": "markdown",
      "metadata": {
        "colab_type": "text",
        "id": "ecNxGd_UPFEa"
      },
      "source": [
        "## Task 1.3: Reparametrisation trick\n",
        "*To implement sampling with the reparametrisation trick, we will define a custom lambda layer. It takes the mean and log variance of $q(z|x)$ as input, and outputs a sample from $q(z|x)$. This is done by first sampling from a standard Gaussian (Normal) distribution, and then applying the proper transformation to obtain a sample from $q(z|x)$ with the given mean and variance. Implement this transformation.*"
      ]
    },
    {
      "cell_type": "code",
      "metadata": {
        "colab_type": "code",
        "id": "sRN2PIMqPeUo",
        "outputId": "973e07a7-79f5-4b8f-a692-4c5c782e259e",
        "colab": {
          "base_uri": "https://localhost:8080/",
          "height": 697
        }
      },
      "source": [
        "def sampling(args):\n",
        "    \"\"\"Reparametrisation trick by sampling from an isotropic unit Gaussian.\n",
        "\n",
        "    # Arguments\n",
        "        args (tensor): mean and log of variance of q(z|x)\n",
        "\n",
        "    # Returns\n",
        "        z (tensor): sampled latent vector\n",
        "    \"\"\"\n",
        "\n",
        "    z_mean, z_log_var = args\n",
        "    batch_dim = K.shape(z_mean)[0]\n",
        "    z_dim = K.int_shape(z_mean)[1]\n",
        "    # by default, random_normal has mean=0 and std=1.0\n",
        "    epsilon = K.random_normal(shape=(batch_dim, z_dim))\n",
        "    \n",
        "    #### INSERT CODE HERE\n",
        "    return z_mean + K.exp(z_log_var) * epsilon\n",
        "    ####\n",
        "\n",
        "\n",
        "# use reparametrisation trick to push the sampling out as input\n",
        "z = Lambda(sampling, name='z')([z_mean, z_log_var])\n",
        "\n",
        "\n",
        "# instantiate full VAE model\n",
        "x_mean = mnist_vae_decoder(z)\n",
        "mnist_vae = Model(x_in, x_mean, name='vae')\n",
        "mnist_vae.summary()"
      ],
      "execution_count": 7,
      "outputs": [
        {
          "output_type": "stream",
          "text": [
            "__________________________________________________________________________________________________\n",
            "Layer (type)                    Output Shape         Param #     Connected to                     \n",
            "==================================================================================================\n",
            "encoder_input (InputLayer)      (None, 32, 32, 1)    0                                            \n",
            "__________________________________________________________________________________________________\n",
            "conv2d_3 (Conv2D)               (None, 32, 32, 64)   640         encoder_input[0][0]              \n",
            "__________________________________________________________________________________________________\n",
            "max_pooling2d_3 (MaxPooling2D)  (None, 16, 16, 64)   0           conv2d_3[0][0]                   \n",
            "__________________________________________________________________________________________________\n",
            "batch_normalization_5 (BatchNor (None, 16, 16, 64)   256         max_pooling2d_3[0][0]            \n",
            "__________________________________________________________________________________________________\n",
            "conv2d_4 (Conv2D)               (None, 16, 16, 128)  73856       batch_normalization_5[0][0]      \n",
            "__________________________________________________________________________________________________\n",
            "max_pooling2d_4 (MaxPooling2D)  (None, 8, 8, 128)    0           conv2d_4[0][0]                   \n",
            "__________________________________________________________________________________________________\n",
            "batch_normalization_6 (BatchNor (None, 8, 8, 128)    512         max_pooling2d_4[0][0]            \n",
            "__________________________________________________________________________________________________\n",
            "flatten_2 (Flatten)             (None, 8192)         0           batch_normalization_6[0][0]      \n",
            "__________________________________________________________________________________________________\n",
            "dense_3 (Dense)                 (None, 256)          2097408     flatten_2[0][0]                  \n",
            "__________________________________________________________________________________________________\n",
            "batch_normalization_7 (BatchNor (None, 256)          1024        dense_3[0][0]                    \n",
            "__________________________________________________________________________________________________\n",
            "dense_4 (Dense)                 (None, 128)          32896       batch_normalization_7[0][0]      \n",
            "__________________________________________________________________________________________________\n",
            "batch_normalization_8 (BatchNor (None, 128)          512         dense_4[0][0]                    \n",
            "__________________________________________________________________________________________________\n",
            "z_mean (Dense)                  (None, 4)            516         batch_normalization_8[0][0]      \n",
            "__________________________________________________________________________________________________\n",
            "z_log_var (Dense)               (None, 4)            516         batch_normalization_8[0][0]      \n",
            "__________________________________________________________________________________________________\n",
            "z (Lambda)                      (None, 4)            0           z_mean[0][0]                     \n",
            "                                                                 z_log_var[0][0]                  \n",
            "__________________________________________________________________________________________________\n",
            "decoder (Model)                 (None, 32, 32, 1)    2215681     z[0][0]                          \n",
            "==================================================================================================\n",
            "Total params: 4,423,817\n",
            "Trainable params: 4,421,513\n",
            "Non-trainable params: 2,304\n",
            "__________________________________________________________________________________________________\n"
          ],
          "name": "stdout"
        }
      ]
    },
    {
      "cell_type": "markdown",
      "metadata": {
        "colab_type": "text",
        "id": "-serMp6YQMfI"
      },
      "source": [
        "## Task 1.4: Loss function\n",
        "*Now we define the loss function, which you have derived in the theoretical part of the assignment. Note: we wish to maximise the ELBO, but Keras formulates training objectives as a loss function to minimise, so the loss function is the negative ELBO:*\n",
        "$-\\mathbb{E}_{q_\\phi(z|x)} [\\log p_\\theta(x|z)] + KL(q_\\phi(z|x) || p(z))$.\n",
        "\n",
        "*We split this into two terms, the reconstruction loss and the KL loss.*\n",
        "\n",
        "\n",
        "### Reconstruction loss\n",
        "*We start with the first term: $-\\mathbb{E}_{q_\\phi(z|x)} [\\log p_\\theta(x|z)]$.*\n",
        "\n",
        "*We approximate the expectation with a single Monte Carlo sample (using the reparametrisation trick such that the loss function is differentiable), which we can readily obtain from the sampling layer of our encoder model (output `z`). So all you need to implement is the loss function $-\\log p_\\theta(x|z_{sample})$. You've derived the formula for this in the theoretical part of the assignment, for both a Bernoulli distribution (for discrete data) and a Gaussian distribution with fixed standard deviation (for continuous data). Implement both versions here. Choose a suitable standard deviation value for the Gaussian.*\n",
        "\n",
        "### KL loss\n",
        "*The second term of the loss is the KL Divergence $KL(q_\\phi(z|x) || p(z))$, which as we saw has a closed form for our choice of posterior and prior (both Gaussians):\n",
        "$ \\frac{1}{2} \\sum_{k=1}^K (m_k^2 + s_k^2 - \\log s_k^2 - 1)$ (see the theoretical part of the assignment for explanation of the notations). Implement it here.*\n",
        "\n",
        "\n",
        "##### Implementation notes:\n",
        "* Always use functions from the Keras backend (available through `from keras import backend as K`) for Tensor operations in your loss function. This way, Keras can perform automatic differentiation to compute the gradients for training. E.g. `K.sum(), K.square(), K.exp()`. You can use operators such as `+` and `*`, they will automatically convert to Tensor operations.\n",
        "* Make sure to use `K.flatten(x_in)` and `K.flatten(x_mean)` whenever you need them in your loss functions, don't use `x_in` or `x_mean`. The `(height, width, depth)` structure of the data is only needed for convolutional layers, but not in the loss function.\n",
        "* Note that the formulas you derived in the theoretical assignment are for a single data point or latent variable. Keras however expects a batch of data points or latent variables, so the first dimension in a Tensor is always the batch dimension. For most operations, broadcasting will automatically make computations operate on each data point in a batch individually, but for operations such as `K.sum` you need to make sure you specify the correct axis."
      ]
    },
    {
      "cell_type": "code",
      "metadata": {
        "colab_type": "code",
        "id": "XCpi9zCTmxmv",
        "outputId": "57d7e2d3-452f-4e42-a407-b0d7267d8a0b",
        "colab": {
          "base_uri": "https://localhost:8080/",
          "height": 751
        }
      },
      "source": [
        "from keras.losses import mse\n",
        "# reconstruction loss\n",
        "gen_model = \"gaussian\"  # \"bernoulli\" or \"gaussian\"\n",
        "\n",
        "if gen_model == \"bernoulli\":\n",
        "    #### insert code here\n",
        "#     reconstruction_loss = ...\n",
        "    reconstruction_loss = -(binary_crossentropy(K.flatten(x_in), K.flatten(x_mean)))\n",
        "    ####\n",
        "elif gen_model == \"gaussian\":\n",
        "    #### insert code here\n",
        "    dec_std = 1 / math.sqrt(2)\n",
        "    # We are not using the dec_std, but instead apply mse directly\n",
        "    reconstruction_loss = mse(K.flatten(x_in), K.flatten(x_mean))\n",
        "    reconstruction_loss *= 1024\n",
        "    ####\n",
        "\n",
        "\n",
        "# KL loss\n",
        "#### insert code here\n",
        "kl_loss = K.square(z_mean) + K.exp(z_log_var) - z_log_var - 1\n",
        "kl_loss = K.sum(kl_loss, axis=-1)\n",
        "kl_loss *= 0.5\n",
        "####\n",
        "\n",
        "# combine both losses\n",
        "mnist_vae_loss = reconstruction_loss + kl_loss\n",
        "# we use .add_loss instead of including a loss function in .compile, such that\n",
        "#     we don't have to supply any \"true labels\", as training is unsupervised\n",
        "mnist_vae.add_loss(mnist_vae_loss)\n",
        "mnist_vae.compile(optimizer='adam')\n",
        "mnist_vae.summary()"
      ],
      "execution_count": 8,
      "outputs": [
        {
          "output_type": "stream",
          "text": [
            "W0621 17:07:33.904375 140571408484224 deprecation_wrapper.py:119] From /usr/local/lib/python3.6/dist-packages/keras/optimizers.py:790: The name tf.train.Optimizer is deprecated. Please use tf.compat.v1.train.Optimizer instead.\n",
            "\n"
          ],
          "name": "stderr"
        },
        {
          "output_type": "stream",
          "text": [
            "__________________________________________________________________________________________________\n",
            "Layer (type)                    Output Shape         Param #     Connected to                     \n",
            "==================================================================================================\n",
            "encoder_input (InputLayer)      (None, 32, 32, 1)    0                                            \n",
            "__________________________________________________________________________________________________\n",
            "conv2d_3 (Conv2D)               (None, 32, 32, 64)   640         encoder_input[0][0]              \n",
            "__________________________________________________________________________________________________\n",
            "max_pooling2d_3 (MaxPooling2D)  (None, 16, 16, 64)   0           conv2d_3[0][0]                   \n",
            "__________________________________________________________________________________________________\n",
            "batch_normalization_5 (BatchNor (None, 16, 16, 64)   256         max_pooling2d_3[0][0]            \n",
            "__________________________________________________________________________________________________\n",
            "conv2d_4 (Conv2D)               (None, 16, 16, 128)  73856       batch_normalization_5[0][0]      \n",
            "__________________________________________________________________________________________________\n",
            "max_pooling2d_4 (MaxPooling2D)  (None, 8, 8, 128)    0           conv2d_4[0][0]                   \n",
            "__________________________________________________________________________________________________\n",
            "batch_normalization_6 (BatchNor (None, 8, 8, 128)    512         max_pooling2d_4[0][0]            \n",
            "__________________________________________________________________________________________________\n",
            "flatten_2 (Flatten)             (None, 8192)         0           batch_normalization_6[0][0]      \n",
            "__________________________________________________________________________________________________\n",
            "dense_3 (Dense)                 (None, 256)          2097408     flatten_2[0][0]                  \n",
            "__________________________________________________________________________________________________\n",
            "batch_normalization_7 (BatchNor (None, 256)          1024        dense_3[0][0]                    \n",
            "__________________________________________________________________________________________________\n",
            "dense_4 (Dense)                 (None, 128)          32896       batch_normalization_7[0][0]      \n",
            "__________________________________________________________________________________________________\n",
            "batch_normalization_8 (BatchNor (None, 128)          512         dense_4[0][0]                    \n",
            "__________________________________________________________________________________________________\n",
            "z_mean (Dense)                  (None, 4)            516         batch_normalization_8[0][0]      \n",
            "__________________________________________________________________________________________________\n",
            "z_log_var (Dense)               (None, 4)            516         batch_normalization_8[0][0]      \n",
            "__________________________________________________________________________________________________\n",
            "z (Lambda)                      (None, 4)            0           z_mean[0][0]                     \n",
            "                                                                 z_log_var[0][0]                  \n",
            "__________________________________________________________________________________________________\n",
            "decoder (Model)                 (None, 32, 32, 1)    2215681     z[0][0]                          \n",
            "==================================================================================================\n",
            "Total params: 4,423,817\n",
            "Trainable params: 4,421,513\n",
            "Non-trainable params: 2,304\n",
            "__________________________________________________________________________________________________\n"
          ],
          "name": "stdout"
        }
      ]
    },
    {
      "cell_type": "markdown",
      "metadata": {
        "colab_type": "text",
        "id": "ipMseQFctElS"
      },
      "source": [
        "## Task 1.5: Training & Saving Model\n",
        "**Comment this after running it once <br>**\n",
        "*Train the model for 50 epochs with batch size 100. Choose whether to use the Bernoulli or Gaussian generative distribution. On Google Colab, go to Edit > Notebook settings and make sure to select \"GPU\" as hardware accelerator.*"
      ]
    },
    {
      "cell_type": "code",
      "metadata": {
        "id": "580ifEuWYxUe",
        "colab_type": "code",
        "outputId": "88c2e246-0395-4672-fb33-5e9fdd889f0c",
        "colab": {
          "base_uri": "https://localhost:8080/",
          "height": 911
        }
      },
      "source": [
        "batch_size = 100\n",
        "epochs = 20\n",
        "\n",
        "# train the autoencoder\n",
        "mnist_vae.fit(x_train_mnist,\n",
        "        epochs=epochs,\n",
        "        batch_size=batch_size,\n",
        "        validation_data=(x_test_mnist, None))\n",
        "\n",
        "save_model(\"mnist_vae_encoder\",mnist_vae_encoder)\n",
        "save_model(\"mnist_vae_decoder\",mnist_vae_decoder)"
      ],
      "execution_count": 9,
      "outputs": [
        {
          "output_type": "stream",
          "text": [
            "Train on 60000 samples, validate on 10000 samples\n",
            "Epoch 1/20\n",
            "60000/60000 [==============================] - 20s 335us/step - loss: 51.7603 - val_loss: 48.8814\n",
            "Epoch 2/20\n",
            "60000/60000 [==============================] - 14s 237us/step - loss: 37.3799 - val_loss: 35.1070\n",
            "Epoch 3/20\n",
            "60000/60000 [==============================] - 14s 238us/step - loss: 32.9405 - val_loss: 30.6083\n",
            "Epoch 4/20\n",
            "60000/60000 [==============================] - 14s 239us/step - loss: 31.1389 - val_loss: 28.8533\n",
            "Epoch 5/20\n",
            "60000/60000 [==============================] - 14s 240us/step - loss: 29.8475 - val_loss: 28.2388\n",
            "Epoch 6/20\n",
            "60000/60000 [==============================] - 14s 239us/step - loss: 29.2081 - val_loss: 28.1421\n",
            "Epoch 7/20\n",
            "60000/60000 [==============================] - 14s 241us/step - loss: 28.7789 - val_loss: 27.9611\n",
            "Epoch 8/20\n",
            "60000/60000 [==============================] - 14s 239us/step - loss: 28.4812 - val_loss: 27.5542\n",
            "Epoch 9/20\n",
            "60000/60000 [==============================] - 14s 240us/step - loss: 28.0258 - val_loss: 27.4299\n",
            "Epoch 10/20\n",
            "60000/60000 [==============================] - 14s 241us/step - loss: 27.8731 - val_loss: 26.6297\n",
            "Epoch 11/20\n",
            "60000/60000 [==============================] - 14s 240us/step - loss: 27.3772 - val_loss: 26.7877\n",
            "Epoch 12/20\n",
            "60000/60000 [==============================] - 14s 240us/step - loss: 27.0323 - val_loss: 26.8512\n",
            "Epoch 13/20\n",
            "60000/60000 [==============================] - 14s 240us/step - loss: 26.8540 - val_loss: 26.3841\n",
            "Epoch 14/20\n",
            "60000/60000 [==============================] - 14s 241us/step - loss: 26.7448 - val_loss: 26.1640\n",
            "Epoch 15/20\n",
            "60000/60000 [==============================] - 14s 241us/step - loss: 26.5279 - val_loss: 25.9020\n",
            "Epoch 16/20\n",
            "60000/60000 [==============================] - 15s 242us/step - loss: 26.3785 - val_loss: 25.5982\n",
            "Epoch 17/20\n",
            "60000/60000 [==============================] - 14s 239us/step - loss: 26.2098 - val_loss: 25.5946\n",
            "Epoch 18/20\n",
            "60000/60000 [==============================] - 14s 240us/step - loss: 26.0844 - val_loss: 25.9766\n",
            "Epoch 19/20\n",
            "60000/60000 [==============================] - 14s 237us/step - loss: 25.9217 - val_loss: 25.4423\n",
            "Epoch 20/20\n",
            "60000/60000 [==============================] - 14s 238us/step - loss: 25.7784 - val_loss: 25.5329\n"
          ],
          "name": "stdout"
        },
        {
          "output_type": "error",
          "ename": "NameError",
          "evalue": "ignored",
          "traceback": [
            "\u001b[0;31m---------------------------------------------------------------------------\u001b[0m",
            "\u001b[0;31mNameError\u001b[0m                                 Traceback (most recent call last)",
            "\u001b[0;32m<ipython-input-9-e081e396cfcb>\u001b[0m in \u001b[0;36m<module>\u001b[0;34m()\u001b[0m\n\u001b[1;32m      8\u001b[0m         validation_data=(x_test_mnist, None))\n\u001b[1;32m      9\u001b[0m \u001b[0;34m\u001b[0m\u001b[0m\n\u001b[0;32m---> 10\u001b[0;31m \u001b[0msave_model\u001b[0m\u001b[0;34m(\u001b[0m\u001b[0;34m\"mnist_vae_encoder\"\u001b[0m\u001b[0;34m,\u001b[0m\u001b[0mmnist_vae_encoder\u001b[0m\u001b[0;34m)\u001b[0m\u001b[0;34m\u001b[0m\u001b[0;34m\u001b[0m\u001b[0m\n\u001b[0m\u001b[1;32m     11\u001b[0m \u001b[0msave_model\u001b[0m\u001b[0;34m(\u001b[0m\u001b[0;34m\"mnist_vae_decoder\"\u001b[0m\u001b[0;34m,\u001b[0m\u001b[0mmnist_vae_decoder\u001b[0m\u001b[0;34m)\u001b[0m\u001b[0;34m\u001b[0m\u001b[0;34m\u001b[0m\u001b[0m\n",
            "\u001b[0;31mNameError\u001b[0m: name 'save_model' is not defined"
          ]
        }
      ]
    },
    {
      "cell_type": "markdown",
      "metadata": {
        "colab_type": "text",
        "id": "pLWolFYTugRC"
      },
      "source": [
        "## Evaluating Functions\n",
        "\n",
        "*Use the following functions to generate plots of the latent space (note that they only work for a 2-dimensional latent space).*\n",
        "\n",
        "*The first plot shows the mean representations in latent space for data points from the test set. Although VAEs are unsupervised, we do have label information for the MNIST data, so we can use this give data points a different colour depending on their label.*\n",
        "\n",
        "*The second plot takes linearly spaced coordinates in latent space, decodes them into data space representations, and plots them in a grid according to the latent space coordinates. So each of the images are generated, not reconstructed from data.*"
      ]
    },
    {
      "cell_type": "code",
      "metadata": {
        "colab_type": "code",
        "id": "Mk0NZBPVOHzs",
        "colab": {}
      },
      "source": [
        "batch_size = 100\n",
        "\n",
        "def plot_results(encoder, decoder,\n",
        "                 x_test, y_test,\n",
        "                 batch_size=128):\n",
        "    \"\"\"Plots labels and MNIST digits as function of 2-dim latent vector\n",
        "\n",
        "    # Arguments\n",
        "        encoder (keras Model): encoder model\n",
        "        decoder (keras Model): decoder model\n",
        "        x_test (np.array): test data\n",
        "        y_test (np.array): test labels\n",
        "        batch_size (int): prediction batch size\n",
        "    \"\"\"\n",
        "\n",
        "    # display a 2D plot of the digit classes in the latent space\n",
        "    z_mean, _ = encoder.predict(x_test_mnist,\n",
        "                                   batch_size=batch_size)\n",
        "    plt.figure(figsize=(12, 10))\n",
        "    plt.scatter(z_mean[:, 0], z_mean[:, 1], c=y_test)\n",
        "    plt.colorbar()\n",
        "    plt.xlabel(\"z[0]\")\n",
        "    plt.ylabel(\"z[1]\")\n",
        "    plt.show()\n",
        "\n",
        "#     # display a 30x30 2D manifold of digits\n",
        "#     n = 30\n",
        "#     digit_size = x_test_mnist.shape[1]  # assume square images, i.e. height == width\n",
        "#     figure = np.zeros((digit_size * n, digit_size * n))\n",
        "#     # linearly spaced coordinates corresponding to the 2D plot\n",
        "#     # of digit classes in the latent space\n",
        "#     grid_x = np.linspace(-4, 4, n)\n",
        "#     grid_y = np.linspace(-4, 4, n)[::-1]\n",
        "\n",
        "#     for i, yi in enumerate(grid_y):\n",
        "#         for j, xi in enumerate(grid_x):\n",
        "#             z_sample = np.array([[xi, yi]])\n",
        "#             x_decoded = decoder.predict(z_sample)\n",
        "#             x_decoded = np.reshape(x_decoded, (x_decoded.shape[0], -1))\n",
        "#             digit = x_decoded[0].reshape(digit_size, digit_size)\n",
        "#             figure[i * digit_size: (i + 1) * digit_size,\n",
        "#                    j * digit_size: (j + 1) * digit_size] = digit\n",
        "\n",
        "#     plt.figure(figsize=(10, 10))\n",
        "#     start_range = digit_size // 2\n",
        "#     end_range = n * digit_size + start_range + 1\n",
        "#     pixel_range = np.arange(start_range, end_range, digit_size)\n",
        "#     sample_range_x = np.round(grid_x, 1)\n",
        "#     sample_range_y = np.round(grid_y, 1)\n",
        "#     plt.xticks(pixel_range, sample_range_x)\n",
        "#     plt.yticks(pixel_range, sample_range_y)\n",
        "#     plt.xlabel(\"z[0]\")\n",
        "#     plt.ylabel(\"z[1]\")\n",
        "#     plt.imshow(figure, cmap='Greys_r')\n",
        "# #     plt.show()"
      ],
      "execution_count": 0,
      "outputs": []
    },
    {
      "cell_type": "code",
      "metadata": {
        "id": "PqIGRXcaGr0v",
        "colab_type": "code",
        "colab": {}
      },
      "source": [
        "def drawMeanForLabel(encoder, decoder, x_test, label, drawFigure=False, labels = '0 1 2 3 4 5 6 7 8 9'.split()):\n",
        "    z_mean, _ = encoder.predict(x_test, batch_size=128)\n",
        "    latent_dimensions = z_mean.shape[1]\n",
        "    means = np.empty(latent_dimensions).reshape((1,latent_dimensions))\n",
        "    for dim in range(latent_dimensions):\n",
        "\n",
        "        means[0][dim] = np.median(z_mean[y_test_mnist == label][:, dim])\n",
        "    figure = decoder.predict(means)\n",
        "    figure = np.reshape(figure, (figure.shape[0], -1))\n",
        "    figure = figure[0].reshape(x_test.shape[1], x_test.shape[1])\n",
        "    if drawFigure:\n",
        "        plt.figure(figsize=(10, 10))\n",
        "        plt.title(labels[label])\n",
        "        plt.imshow(figure, cmap='Greys_r')\n",
        "        plt.show()\n",
        "    return figure\n",
        "    \n",
        "def plot_examples_vae_mnist(encoder,decoder):\n",
        "    n = 10\n",
        "    plt.figure(figsize=(20, 2))\n",
        "    for i in range(n):\n",
        "        ax = plt.subplot(1, n, i+1)\n",
        "        plt.imshow(drawMeanForLabel(encoder, decoder, x_test_mnist, i))\n",
        "        plt.gray()\n",
        "        ax.get_xaxis().set_visible(False)\n",
        "        ax.get_yaxis().set_visible(False)\n",
        "    plt.show()"
      ],
      "execution_count": 0,
      "outputs": []
    },
    {
      "cell_type": "markdown",
      "metadata": {
        "id": "7-qYSJAO-EZM",
        "colab_type": "text"
      },
      "source": [
        "## Show results"
      ]
    },
    {
      "cell_type": "code",
      "metadata": {
        "id": "9L9dUnQI6-_B",
        "colab_type": "code",
        "outputId": "36fbfa6c-72e7-451e-b4f5-7dca8ba2981d",
        "colab": {
          "base_uri": "https://localhost:8080/",
          "height": 718
        }
      },
      "source": [
        "# loading previously trained model and plot results\n",
        "plot_results(mnist_vae_encoder,mnist_vae_decoder,\n",
        "             x_test_mnist, y_test_mnist,\n",
        "             batch_size=batch_size)\n",
        "plot_examples_vae_mnist(mnist_vae_encoder,mnist_vae_decoder)"
      ],
      "execution_count": 21,
      "outputs": [
        {
          "output_type": "display_data",
          "data": {
            "image/png": "[encoded data removed]",
            "text/plain": [
              "<Figure size 864x720 with 2 Axes>"
            ]
          },
          "metadata": {
            "tags": []
          }
        },
        {
          "output_type": "display_data",
          "data": {
            "image/png": "[encoded data removed]",
            "text/plain": [
              "<Figure size 1440x144 with 10 Axes>"
            ]
          },
          "metadata": {
            "tags": []
          }
        }
      ]
    },
    {
      "cell_type": "markdown",
      "metadata": {
        "colab_type": "text",
        "id": "x4_DDpcEwz8a"
      },
      "source": [
        "*These latent space plots can give an insight into the (latent) representations that are learned by the VAE. Evaluate what you see:*\n",
        "\n",
        "**(a)** *Did you successfully train a generative model for this data? Motivate your answer.*\n",
        "\n",
        "\n",
        "\n",
        "**Answer:**"
      ]
    },
    {
      "cell_type": "markdown",
      "metadata": {
        "colab_type": "text",
        "id": "pmFhA6dpnxWI"
      },
      "source": [
        "From the latens space plot it can be seen that there is a lot of noise on the outside, which intuitively could be due to a too strong KL loss in the loss function. However this is not the case. From the median plots it can be seen that the values for the numbers are estimated quite correctly. It was expected that for such a short training time and no overtuning of parameters the difficult digits such as 7 and 9 are hard to distinguish."
      ]
    },
    {
      "cell_type": "markdown",
      "metadata": {
        "colab_type": "text",
        "id": "xbC-eWiDnxZ5"
      },
      "source": [
        "**(b)** *Discuss how the latent space is populated by the test data. What happens in \"gaps\" in the latent space? I.e. areas in latent space near the origin (so with high prior likelihood) but without any data points being mapped to them. What do images generated from such latent points look like?*\n",
        "\n",
        "**Answer:**"
      ]
    },
    {
      "cell_type": "markdown",
      "metadata": {
        "colab_type": "text",
        "id": "TqQWzmB75X7R"
      },
      "source": [
        "The latent space is such the model tries to populate it evenly,  the empty spaces in between will became a mesh between multiple digits. That is also how they will be represented"
      ]
    },
    {
      "cell_type": "markdown",
      "metadata": {
        "colab_type": "text",
        "id": "5juKi05LoUWB"
      },
      "source": [
        "# Question 2: FashionMNIST VAE, semi-supervised learning"
      ]
    },
    {
      "cell_type": "markdown",
      "metadata": {
        "colab_type": "text",
        "id": "6yjgvJM19-7g"
      },
      "source": [
        "In this question, we will investigate the usefulness of VAE latent representations in semi-supervised learning. Since the VAE is an unsupervised method, we don't need any labels to learn latent representations. Often, it is easy to obtain a lot of unlabelled data, but labelling this data is expensive. Thus, methods that can leverage unsupervised training to learn a supervised goal (such as classification) may be very powerful. This is the idea behind semi-supervised learning.\n",
        "\n",
        "You will evaluate this on the FashionMNIST dataset. Although all labels are available for this dataset, we can \"hide\" some labels from a model, simply by not using all of them.\n",
        "\n",
        "Besides representations learned with a VAE, you will also compare with another representation learning method: a denoising autoencoder."
      ]
    },
    {
      "cell_type": "markdown",
      "metadata": {
        "colab_type": "text",
        "id": "uIJEQSA_G0c0"
      },
      "source": [
        "## Task 2.1: Unsupervised training\n",
        "**(a)** *Train two representation learning methods on the FashionMNIST dataset; a variational autoencoder (VAE) and a denoising autoencoder. Choose a suitable architecture, and encoding/latent dimension (hint: for good results a dimension of 2 will likely be too small). For fairness, use similar architectures for each of the models.*\n",
        "\n",
        "*Use each of the models to obtain encoded representations for the full dataset (training and test set).*"
      ]
    },
    {
      "cell_type": "markdown",
      "metadata": {
        "colab_type": "text",
        "id": "BjI2sgQ7zlBN"
      },
      "source": [
        "**(b)** *Motivate your architectural choices.*\n",
        "\n",
        "**Answer:**\n",
        "\n",
        "Since we're dealing with image data, it makes sense to use a convolutional auto-encoder. The architecture used in practical 6 is a good starting point. This contains 2 convolutional blocks plus a dense layer. For the Denoising autoencoder a dense layer of 128 is chosen, while the VAE uses a latent dimension of 4. These result in decent representations, as can be seen in the following images and tasks."
      ]
    },
    {
      "cell_type": "markdown",
      "metadata": {
        "id": "oKKAFlftzeFt",
        "colab_type": "text"
      },
      "source": [
        "### Data"
      ]
    },
    {
      "cell_type": "code",
      "metadata": {
        "scrolled": true,
        "id": "tp6i3o5ytnyt",
        "colab_type": "code",
        "outputId": "0e75e9c4-10f3-4c78-80a1-2b32b8e600c7",
        "colab": {
          "base_uri": "https://localhost:8080/",
          "height": 153
        }
      },
      "source": [
        "from keras.datasets import fashion_mnist\n",
        "# Fashion MNIST dataset\n",
        "(x_train_fash_mnist, y_train_fash_mnist), (x_test_fash_mnist, y_test_fash_mnist) = fashion_mnist.load_data()\n",
        "\n",
        "# normalise\n",
        "x_train_fash_mnist = x_train_fash_mnist.astype('float32') / 255\n",
        "x_test_fash_mnist = x_test_fash_mnist.astype('float32') / 255\n",
        "\n",
        "# change shape: (n, 28, 28) -> (n, 28, 28, 1)\n",
        "x_train_fash_mnist = x_train_fash_mnist.reshape(x_train_fash_mnist.shape + (1,))\n",
        "x_test_fash_mnist = x_test_fash_mnist.reshape(x_test_fash_mnist.shape + (1,))\n",
        "\n",
        "# pad zeros to obtain canvas size of 32x32, i.e. shape is now (n, 32, 32, 1)\n",
        "x_train_fash_mnist = np.pad(x_train_fash_mnist, pad_width=((0, 0), (2, 2), (2, 2), (0, 0)), mode=\"constant\", constant_values=0)\n",
        "x_test_fash_mnist = np.pad(x_test_fash_mnist, pad_width=((0, 0), (2, 2), (2, 2), (0, 0)), mode=\"constant\", constant_values=0)\n",
        "\n",
        "# get height, width, and depth values\n",
        "height, width, depth = x_train_fash_mnist.shape[1:]\n",
        "####"
      ],
      "execution_count": 0,
      "outputs": [
        {
          "output_type": "stream",
          "text": [
            "Downloading data from http://fashion-mnist.s3-website.eu-central-1.amazonaws.com/train-labels-idx1-ubyte.gz\n",
            "32768/29515 [=================================] - 0s 3us/step\n",
            "Downloading data from http://fashion-mnist.s3-website.eu-central-1.amazonaws.com/train-images-idx3-ubyte.gz\n",
            "26427392/26421880 [==============================] - 2s 0us/step\n",
            "Downloading data from http://fashion-mnist.s3-website.eu-central-1.amazonaws.com/t10k-labels-idx1-ubyte.gz\n",
            "8192/5148 [===============================================] - 0s 0us/step\n",
            "Downloading data from http://fashion-mnist.s3-website.eu-central-1.amazonaws.com/t10k-images-idx3-ubyte.gz\n",
            "4423680/4422102 [==============================] - 1s 0us/step\n"
          ],
          "name": "stdout"
        }
      ]
    },
    {
      "cell_type": "markdown",
      "metadata": {
        "id": "ha17DIVizP4J",
        "colab_type": "text"
      },
      "source": [
        "### Variational Autoencoder"
      ]
    },
    {
      "cell_type": "markdown",
      "metadata": {
        "id": "PSYC0to6zoWl",
        "colab_type": "text"
      },
      "source": [
        "#### Encoder Architecture"
      ]
    },
    {
      "cell_type": "code",
      "metadata": {
        "id": "Q7RMYxKDtnyz",
        "colab_type": "code",
        "outputId": "8bab499d-3724-410b-be5b-cf353d731feb",
        "colab": {
          "base_uri": "https://localhost:8080/",
          "height": 612
        }
      },
      "source": [
        "# network parameters\n",
        "input_shape = (height, width, depth)\n",
        "latent_dim_fash_mnist = 4\n",
        "\n",
        "\n",
        "# VAE model = encoder + decoder\n",
        "# build encoder model\n",
        "x_in = Input(shape=input_shape, name='encoder_input')\n",
        "\n",
        "# conv block 1\n",
        "h = Conv2D(filters=64, kernel_size=(3, 3), padding=\"same\",\n",
        "           activation='relu')(x_in)                    # (32, 32, 1)  -> (32, 32, 64)\n",
        "h = MaxPooling2D(pool_size=(2, 2), padding=\"same\")(h)  # (32, 32, 64) -> (16, 16, 64)\n",
        "h = BatchNormalization()(h)                            # no change\n",
        "\n",
        "# conv block 2\n",
        "h = Conv2D(filters=128, kernel_size=(3, 3), padding=\"same\",\n",
        "           activation='relu')(h)                       # (16, 16, 64)  -> (16, 16, 128)\n",
        "h = MaxPooling2D(pool_size=(2, 2), padding=\"same\")(h)  # (16, 16, 128) -> (8, 8, 128)\n",
        "h = BatchNormalization()(h)                            # no change\n",
        "\n",
        "# dense layers\n",
        "h = Flatten()(h)                                       # (8, 8, 128) -> (8*8*128,)\n",
        "h = Dense(256, activation=\"relu\")(h)                   # (8*8*128,)  -> (256,)\n",
        "h = BatchNormalization()(h)                            # no change\n",
        "h = Dense(128, activation=\"relu\")(h)                   # (256,) -> (128,)\n",
        "h = BatchNormalization()(h)                            # no change\n",
        "\n",
        "\n",
        "z_mean = Dense(latent_dim_fash_mnist, name='z_mean')(h)  # mean parameter of q(z|x)\n",
        "z_log_var = Dense(latent_dim_fash_mnist, name='z_log_var')(h)  # log of variance parameter of q(z|x)\n",
        "\n",
        "# instantiate encoder model\n",
        "fash_mnist_vae_encoder = Model(x_in, [z_mean, z_log_var], name='encoder')\n",
        "fash_mnist_vae_encoder.summary()"
      ],
      "execution_count": 0,
      "outputs": [
        {
          "output_type": "stream",
          "text": [
            "__________________________________________________________________________________________________\n",
            "Layer (type)                    Output Shape         Param #     Connected to                     \n",
            "==================================================================================================\n",
            "encoder_input (InputLayer)      (None, 32, 32, 1)    0                                            \n",
            "__________________________________________________________________________________________________\n",
            "conv2d_9 (Conv2D)               (None, 32, 32, 64)   640         encoder_input[0][0]              \n",
            "__________________________________________________________________________________________________\n",
            "max_pooling2d_5 (MaxPooling2D)  (None, 16, 16, 64)   0           conv2d_9[0][0]                   \n",
            "__________________________________________________________________________________________________\n",
            "batch_normalization_17 (BatchNo (None, 16, 16, 64)   256         max_pooling2d_5[0][0]            \n",
            "__________________________________________________________________________________________________\n",
            "conv2d_10 (Conv2D)              (None, 16, 16, 128)  73856       batch_normalization_17[0][0]     \n",
            "__________________________________________________________________________________________________\n",
            "max_pooling2d_6 (MaxPooling2D)  (None, 8, 8, 128)    0           conv2d_10[0][0]                  \n",
            "__________________________________________________________________________________________________\n",
            "batch_normalization_18 (BatchNo (None, 8, 8, 128)    512         max_pooling2d_6[0][0]            \n",
            "__________________________________________________________________________________________________\n",
            "flatten_3 (Flatten)             (None, 8192)         0           batch_normalization_18[0][0]     \n",
            "__________________________________________________________________________________________________\n",
            "dense_11 (Dense)                (None, 256)          2097408     flatten_3[0][0]                  \n",
            "__________________________________________________________________________________________________\n",
            "batch_normalization_19 (BatchNo (None, 256)          1024        dense_11[0][0]                   \n",
            "__________________________________________________________________________________________________\n",
            "dense_12 (Dense)                (None, 128)          32896       batch_normalization_19[0][0]     \n",
            "__________________________________________________________________________________________________\n",
            "batch_normalization_20 (BatchNo (None, 128)          512         dense_12[0][0]                   \n",
            "__________________________________________________________________________________________________\n",
            "z_mean (Dense)                  (None, 4)            516         batch_normalization_20[0][0]     \n",
            "__________________________________________________________________________________________________\n",
            "z_log_var (Dense)               (None, 4)            516         batch_normalization_20[0][0]     \n",
            "==================================================================================================\n",
            "Total params: 2,208,136\n",
            "Trainable params: 2,206,984\n",
            "Non-trainable params: 1,152\n",
            "__________________________________________________________________________________________________\n"
          ],
          "name": "stdout"
        }
      ]
    },
    {
      "cell_type": "markdown",
      "metadata": {
        "id": "cHmCpY5NztGr",
        "colab_type": "text"
      },
      "source": [
        "#### Decoder Architecture"
      ]
    },
    {
      "cell_type": "code",
      "metadata": {
        "id": "LlFs1Rdxtny8",
        "colab_type": "code",
        "outputId": "e44ed903-abf2-454d-dda6-d80a862b5bb9",
        "colab": {
          "base_uri": "https://localhost:8080/",
          "height": 578
        }
      },
      "source": [
        "# build decoder model\n",
        "z_in = Input(shape=(latent_dim_fash_mnist,), name='z_in')\n",
        "\n",
        "h = Dense(128,activation=\"relu\")(z_in)                 # (32,) -> (128,) (encoding dimension)\n",
        "h = BatchNormalization()(h)                                 # no change\n",
        "h = Dense(256,activation=\"relu\")(h)                         # (128, -> (256,)\n",
        "h = BatchNormalization()(h)                                 # no change\n",
        "h = Dense(8*8*128,activation=\"relu\")(h)                     # (256,)     -> (8*8*128,)\n",
        "h = Reshape((8,8,128))(h)                                   # (8*8*128,) -> (8, 8, 128)\n",
        "                                                            \n",
        "h = BatchNormalization()(h)                                 # no change\n",
        "h = UpSampling2D((2, 2))(h)                                 # (8, 8, 128  ) -> (16, 16, 128)\n",
        "h = Conv2D(filters=64, kernel_size=(3, 3), padding=\"same\",\n",
        "           activation='relu')(h)                            # (16, 16, 128) -> (16, 16, 64)\n",
        "                                                            \n",
        "h = BatchNormalization()(h)                                 # no change\n",
        "h = UpSampling2D((2, 2))(h)                                 # (16, 16, 64) -> (32, 32, 64)\n",
        "dec_out = Conv2D(filters=1, kernel_size=(3, 3), padding=\"same\",\n",
        "           activation='sigmoid')(h)    \n",
        "\n",
        "# instantiate decoder model\n",
        "fash_mnist_vae_decoder = Model(z_in, dec_out, name='decoder')\n",
        "fash_mnist_vae_decoder.summary()"
      ],
      "execution_count": 0,
      "outputs": [
        {
          "output_type": "stream",
          "text": [
            "_________________________________________________________________\n",
            "Layer (type)                 Output Shape              Param #   \n",
            "=================================================================\n",
            "z_in (InputLayer)            (None, 4)                 0         \n",
            "_________________________________________________________________\n",
            "dense_13 (Dense)             (None, 128)               640       \n",
            "_________________________________________________________________\n",
            "batch_normalization_21 (Batc (None, 128)               512       \n",
            "_________________________________________________________________\n",
            "dense_14 (Dense)             (None, 256)               33024     \n",
            "_________________________________________________________________\n",
            "batch_normalization_22 (Batc (None, 256)               1024      \n",
            "_________________________________________________________________\n",
            "dense_15 (Dense)             (None, 8192)              2105344   \n",
            "_________________________________________________________________\n",
            "reshape_3 (Reshape)          (None, 8, 8, 128)         0         \n",
            "_________________________________________________________________\n",
            "batch_normalization_23 (Batc (None, 8, 8, 128)         512       \n",
            "_________________________________________________________________\n",
            "up_sampling2d_5 (UpSampling2 (None, 16, 16, 128)       0         \n",
            "_________________________________________________________________\n",
            "conv2d_11 (Conv2D)           (None, 16, 16, 64)        73792     \n",
            "_________________________________________________________________\n",
            "batch_normalization_24 (Batc (None, 16, 16, 64)        256       \n",
            "_________________________________________________________________\n",
            "up_sampling2d_6 (UpSampling2 (None, 32, 32, 64)        0         \n",
            "_________________________________________________________________\n",
            "conv2d_12 (Conv2D)           (None, 32, 32, 1)         577       \n",
            "=================================================================\n",
            "Total params: 2,215,681\n",
            "Trainable params: 2,214,529\n",
            "Non-trainable params: 1,152\n",
            "_________________________________________________________________\n"
          ],
          "name": "stdout"
        }
      ]
    },
    {
      "cell_type": "markdown",
      "metadata": {
        "colab_type": "text",
        "id": "93DKYrfBaKFI"
      },
      "source": [
        "#### Load Trained model\n",
        "Uncomment after first run"
      ]
    },
    {
      "cell_type": "code",
      "metadata": {
        "colab_type": "code",
        "id": "K2bCHnEiaKFL",
        "colab": {}
      },
      "source": [
        "# fash_mnist_vae_encoder = load_model(\"fash_mnist_vae_encoder\")\n",
        "# fash_mnist_vae_decoder = load_model(\"fash_mnist_vae_decoder\")\n",
        "\n",
        "# x_in = fash_mnist_vae_encoder.input\n",
        "# z_mean, z_log_var = fash_mnist_vae_encoder.output\n",
        "# latent_dim = int(z_mean.shape[1])"
      ],
      "execution_count": 0,
      "outputs": []
    },
    {
      "cell_type": "markdown",
      "metadata": {
        "id": "7W900LJlzxiy",
        "colab_type": "text"
      },
      "source": [
        "#### Reparametrisation Trick"
      ]
    },
    {
      "cell_type": "code",
      "metadata": {
        "id": "rpO8oahstnzG",
        "colab_type": "code",
        "outputId": "cf09b870-9c15-4730-b987-121f40b3461d",
        "colab": {
          "base_uri": "https://localhost:8080/",
          "height": 697
        }
      },
      "source": [
        "def sampling(args):\n",
        "    \"\"\"Reparametrisation trick by sampling from an isotropic unit Gaussian.\n",
        "\n",
        "    # Arguments\n",
        "        args (tensor): mean and log of variance of q(z|x)\n",
        "\n",
        "    # Returns\n",
        "        z (tensor): sampled latent vector\n",
        "    \"\"\"\n",
        "\n",
        "    z_mean, z_log_var = args\n",
        "    batch_dim = K.shape(z_mean)[0]\n",
        "    z_dim = K.int_shape(z_mean)[1]\n",
        "    # by default, random_normal has mean=0 and std=1.0\n",
        "    epsilon = K.random_normal(shape=(batch_dim, z_dim))\n",
        "    \n",
        "    #### INSERT CODE HERE\n",
        "    return z_mean + K.exp(z_log_var) * epsilon\n",
        "    ####\n",
        "\n",
        "\n",
        "# use reparametrisation trick to push the sampling out as input\n",
        "z = Lambda(sampling, name='z')([z_mean, z_log_var])\n",
        "\n",
        "\n",
        "# instantiate full VAE model\n",
        "x_mean = fash_mnist_vae_decoder(z)\n",
        "fash_vae = Model(x_in, x_mean, name='vae')\n",
        "fash_vae.summary()"
      ],
      "execution_count": 0,
      "outputs": [
        {
          "output_type": "stream",
          "text": [
            "__________________________________________________________________________________________________\n",
            "Layer (type)                    Output Shape         Param #     Connected to                     \n",
            "==================================================================================================\n",
            "encoder_input (InputLayer)      (None, 32, 32, 1)    0                                            \n",
            "__________________________________________________________________________________________________\n",
            "conv2d_9 (Conv2D)               (None, 32, 32, 64)   640         encoder_input[0][0]              \n",
            "__________________________________________________________________________________________________\n",
            "max_pooling2d_5 (MaxPooling2D)  (None, 16, 16, 64)   0           conv2d_9[0][0]                   \n",
            "__________________________________________________________________________________________________\n",
            "batch_normalization_17 (BatchNo (None, 16, 16, 64)   256         max_pooling2d_5[0][0]            \n",
            "__________________________________________________________________________________________________\n",
            "conv2d_10 (Conv2D)              (None, 16, 16, 128)  73856       batch_normalization_17[0][0]     \n",
            "__________________________________________________________________________________________________\n",
            "max_pooling2d_6 (MaxPooling2D)  (None, 8, 8, 128)    0           conv2d_10[0][0]                  \n",
            "__________________________________________________________________________________________________\n",
            "batch_normalization_18 (BatchNo (None, 8, 8, 128)    512         max_pooling2d_6[0][0]            \n",
            "__________________________________________________________________________________________________\n",
            "flatten_3 (Flatten)             (None, 8192)         0           batch_normalization_18[0][0]     \n",
            "__________________________________________________________________________________________________\n",
            "dense_11 (Dense)                (None, 256)          2097408     flatten_3[0][0]                  \n",
            "__________________________________________________________________________________________________\n",
            "batch_normalization_19 (BatchNo (None, 256)          1024        dense_11[0][0]                   \n",
            "__________________________________________________________________________________________________\n",
            "dense_12 (Dense)                (None, 128)          32896       batch_normalization_19[0][0]     \n",
            "__________________________________________________________________________________________________\n",
            "batch_normalization_20 (BatchNo (None, 128)          512         dense_12[0][0]                   \n",
            "__________________________________________________________________________________________________\n",
            "z_mean (Dense)                  (None, 4)            516         batch_normalization_20[0][0]     \n",
            "__________________________________________________________________________________________________\n",
            "z_log_var (Dense)               (None, 4)            516         batch_normalization_20[0][0]     \n",
            "__________________________________________________________________________________________________\n",
            "z (Lambda)                      (None, 4)            0           z_mean[0][0]                     \n",
            "                                                                 z_log_var[0][0]                  \n",
            "__________________________________________________________________________________________________\n",
            "decoder (Model)                 (None, 32, 32, 1)    2215681     z[0][0]                          \n",
            "==================================================================================================\n",
            "Total params: 4,423,817\n",
            "Trainable params: 4,421,513\n",
            "Non-trainable params: 2,304\n",
            "__________________________________________________________________________________________________\n"
          ],
          "name": "stdout"
        }
      ]
    },
    {
      "cell_type": "markdown",
      "metadata": {
        "id": "eKuNIQuk16iV",
        "colab_type": "text"
      },
      "source": [
        "#### Loss Function\n",
        "This contains the reconstruction loss and KL_loss"
      ]
    },
    {
      "cell_type": "code",
      "metadata": {
        "id": "NCp7mwlptnzN",
        "colab_type": "code",
        "colab": {}
      },
      "source": [
        "from keras.losses import mse\n",
        "# reconstruction loss\n",
        "gen_model = \"gaussian\"  # \"bernoulli\" or \"gaussian\"\n",
        "\n",
        "if gen_model == \"bernoulli\":\n",
        "    reconstruction_loss = -(binary_crossentropy(K.flatten(x_in), K.flatten(x_mean)))\n",
        "elif gen_model == \"gaussian\":\n",
        "    dec_std = 1 / math.sqrt(2)\n",
        "    reconstruction_loss = mse(K.flatten(x_in), K.flatten(x_mean))\n",
        "    reconstruction_loss *= 1024\n",
        "\n",
        "\n",
        "kl_loss = K.square(z_mean) + K.exp(z_log_var) - z_log_var - 1\n",
        "kl_loss = K.sum(kl_loss, axis=-1)\n",
        "kl_loss *= 0.5\n",
        "\n",
        "\n",
        "# combine both losses\n",
        "fash_vae_loss = reconstruction_loss + kl_loss\n",
        "# we use .add_loss instead of including a loss function in .compile, such that\n",
        "#     we don't have to supply any \"true labels\", as training is unsupervised\n",
        "fash_vae.add_loss(fash_vae_loss)\n",
        "fash_vae.compile(optimizer='adam')"
      ],
      "execution_count": 0,
      "outputs": []
    },
    {
      "cell_type": "markdown",
      "metadata": {
        "id": "tkR86j3S2D6l",
        "colab_type": "text"
      },
      "source": [
        "#### Training & Saving Model"
      ]
    },
    {
      "cell_type": "code",
      "metadata": {
        "colab_type": "code",
        "id": "OhG4QXJ2Miye",
        "outputId": "c752d524-b26e-48f4-c355-094a670ff5f5",
        "colab": {
          "base_uri": "https://localhost:8080/",
          "height": 1088
        }
      },
      "source": [
        "batch_size = 100\n",
        "epochs = 30\n",
        "\n",
        "# train the autoencoder\n",
        "fash_vae.fit(x_train_fash_mnist,\n",
        "        epochs=epochs,\n",
        "        batch_size=batch_size,\n",
        "        validation_data=(x_test_fash_mnist, None))\n",
        "\n",
        "save_model(\"fash_mnist_vae_encoder\",fash_mnist_vae_encoder)\n",
        "save_model(\"fash_mnist_vae_decoder\",fash_mnist_vae_decoder)"
      ],
      "execution_count": 0,
      "outputs": [
        {
          "output_type": "stream",
          "text": [
            "Train on 60000 samples, validate on 10000 samples\n",
            "Epoch 1/30\n",
            "60000/60000 [==============================] - 17s 283us/step - loss: 36.3101 - val_loss: 26.7726\n",
            "Epoch 2/30\n",
            "60000/60000 [==============================] - 14s 237us/step - loss: 24.4731 - val_loss: 23.3570\n",
            "Epoch 3/30\n",
            "60000/60000 [==============================] - 14s 237us/step - loss: 23.1972 - val_loss: 22.0160\n",
            "Epoch 4/30\n",
            "60000/60000 [==============================] - 14s 237us/step - loss: 22.8413 - val_loss: 22.5345\n",
            "Epoch 5/30\n",
            "60000/60000 [==============================] - 14s 236us/step - loss: 22.2094 - val_loss: 21.1367\n",
            "Epoch 6/30\n",
            "60000/60000 [==============================] - 14s 236us/step - loss: 21.7951 - val_loss: 21.2314\n",
            "Epoch 7/30\n",
            "60000/60000 [==============================] - 14s 236us/step - loss: 21.5617 - val_loss: 21.4701\n",
            "Epoch 8/30\n",
            "60000/60000 [==============================] - 14s 235us/step - loss: 21.4809 - val_loss: 22.4996\n",
            "Epoch 9/30\n",
            "60000/60000 [==============================] - 14s 237us/step - loss: 21.1930 - val_loss: 21.4810\n",
            "Epoch 10/30\n",
            "60000/60000 [==============================] - 14s 236us/step - loss: 21.2223 - val_loss: 20.5652\n",
            "Epoch 11/30\n",
            "60000/60000 [==============================] - 14s 236us/step - loss: 21.0293 - val_loss: 20.5623\n",
            "Epoch 12/30\n",
            "60000/60000 [==============================] - 14s 240us/step - loss: 20.8645 - val_loss: 20.7362\n",
            "Epoch 13/30\n",
            "60000/60000 [==============================] - 14s 236us/step - loss: 20.7072 - val_loss: 20.0301\n",
            "Epoch 14/30\n",
            "60000/60000 [==============================] - 14s 236us/step - loss: 20.5873 - val_loss: 21.9775\n",
            "Epoch 15/30\n",
            "60000/60000 [==============================] - 14s 237us/step - loss: 20.5238 - val_loss: 20.5187\n",
            "Epoch 16/30\n",
            "60000/60000 [==============================] - 14s 236us/step - loss: 20.3974 - val_loss: 20.1092\n",
            "Epoch 17/30\n",
            "60000/60000 [==============================] - 14s 236us/step - loss: 20.2991 - val_loss: 20.3657\n",
            "Epoch 18/30\n",
            "60000/60000 [==============================] - 14s 236us/step - loss: 20.2392 - val_loss: 20.6385\n",
            "Epoch 19/30\n",
            "60000/60000 [==============================] - 14s 237us/step - loss: 20.1796 - val_loss: 19.7517\n",
            "Epoch 20/30\n",
            "60000/60000 [==============================] - 14s 236us/step - loss: 20.0711 - val_loss: 19.9067\n",
            "Epoch 21/30\n",
            "60000/60000 [==============================] - 14s 238us/step - loss: 20.0349 - val_loss: 19.9334\n",
            "Epoch 22/30\n",
            "60000/60000 [==============================] - 14s 237us/step - loss: 19.9840 - val_loss: 19.8919\n",
            "Epoch 23/30\n",
            "60000/60000 [==============================] - 14s 236us/step - loss: 19.9254 - val_loss: 19.6153\n",
            "Epoch 24/30\n",
            "60000/60000 [==============================] - 14s 238us/step - loss: 19.8578 - val_loss: 19.5840\n",
            "Epoch 25/30\n",
            "60000/60000 [==============================] - 14s 236us/step - loss: 19.7883 - val_loss: 19.6153\n",
            "Epoch 26/30\n",
            "60000/60000 [==============================] - 14s 236us/step - loss: 19.7388 - val_loss: 19.4138\n",
            "Epoch 27/30\n",
            "60000/60000 [==============================] - 14s 236us/step - loss: 19.6707 - val_loss: 19.6560\n",
            "Epoch 28/30\n",
            "60000/60000 [==============================] - 14s 236us/step - loss: 19.6228 - val_loss: 19.4199\n",
            "Epoch 29/30\n",
            "60000/60000 [==============================] - 14s 237us/step - loss: 19.6070 - val_loss: 19.7535\n",
            "Epoch 30/30\n",
            "60000/60000 [==============================] - 14s 236us/step - loss: 19.5054 - val_loss: 19.7358\n",
            " file saved\n",
            " file saved\n"
          ],
          "name": "stdout"
        }
      ]
    },
    {
      "cell_type": "markdown",
      "metadata": {
        "id": "P5UhxuOABhx3",
        "colab_type": "text"
      },
      "source": [
        "### Denoising Autoencoder"
      ]
    },
    {
      "cell_type": "markdown",
      "metadata": {
        "id": "38NSg1icAt3z",
        "colab_type": "text"
      },
      "source": [
        "#### Adding noise\n",
        "We obtain a noisy version of our data by adding Gaussian (normal) noise to each pixel, and clipping pixel values between 0 and 1."
      ]
    },
    {
      "cell_type": "code",
      "metadata": {
        "id": "BB4M0MTmAt31",
        "colab_type": "code",
        "colab": {}
      },
      "source": [
        "noise_factor = 0.5\n",
        "x_train_fash_mnist_noisy = x_train_fash_mnist + noise_factor * np.random.normal(loc=0.0, scale=1.0, size=x_train_fash_mnist.shape) \n",
        "x_test_fash_mnist_noisy = x_test_fash_mnist + noise_factor * np.random.normal(loc=0.0, scale=1.0, size=x_test_fash_mnist.shape) \n",
        "\n",
        "x_train_fash_mnist_noisy = np.clip(x_train_fash_mnist_noisy, 0., 1.)\n",
        "x_test_fash_mnist_noisy = np.clip(x_test_fash_mnist_noisy, 0., 1.)"
      ],
      "execution_count": 0,
      "outputs": []
    },
    {
      "cell_type": "markdown",
      "metadata": {
        "id": "p6yHIASmAt4J",
        "colab_type": "text"
      },
      "source": [
        "#### Model architecture"
      ]
    },
    {
      "cell_type": "code",
      "metadata": {
        "id": "ZG2dlbGYAt4N",
        "colab_type": "code",
        "outputId": "7881b394-b68e-418d-c35d-31a5c4caa755",
        "colab": {
          "base_uri": "https://localhost:8080/",
          "height": 748
        }
      },
      "source": [
        "autoencoder = Sequential()\n",
        "\n",
        "# encoder\n",
        "autoencoder.add(Conv2D(32, (3, 3), activation='relu', padding='same', input_shape=input_shape))\n",
        "autoencoder.add(MaxPooling2D((2, 2), padding='same'))\n",
        "autoencoder.add(BatchNormalization())\n",
        "autoencoder.add(Conv2D(32, (3, 3), activation='relu', padding='same'))\n",
        "autoencoder.add(MaxPooling2D((2, 2), padding='same'))\n",
        "autoencoder.add(BatchNormalization())\n",
        "autoencoder.add(Flatten())\n",
        "autoencoder.add(Dense(128, activation='relu', name=\"neural_codes\"))  # name this \"neural_codes\" to retrieve as codes later\n",
        "autoencoder.add(BatchNormalization())\n",
        "\n",
        "# decoder\n",
        "autoencoder.add(Dense(2048))\n",
        "autoencoder.add(Reshape((8, 8, 32)))\n",
        "autoencoder.add(Conv2D(32, (3, 3), activation='relu', padding='same'))\n",
        "autoencoder.add(UpSampling2D((2, 2)))\n",
        "autoencoder.add(BatchNormalization())\n",
        "autoencoder.add(Conv2D(32, (3, 3), activation='relu', padding='same'))\n",
        "autoencoder.add(UpSampling2D((2, 2)))\n",
        "autoencoder.add(BatchNormalization())\n",
        "autoencoder.add(Conv2D(1, (3, 3), activation='sigmoid', padding='same'))\n",
        "\n",
        "autoencoder.summary()\n",
        "autoencoder.compile(optimizer='adam', loss='binary_crossentropy')"
      ],
      "execution_count": 0,
      "outputs": [
        {
          "output_type": "stream",
          "text": [
            "_________________________________________________________________\n",
            "Layer (type)                 Output Shape              Param #   \n",
            "=================================================================\n",
            "conv2d_18 (Conv2D)           (None, 32, 32, 32)        320       \n",
            "_________________________________________________________________\n",
            "max_pooling2d_9 (MaxPooling2 (None, 16, 16, 32)        0         \n",
            "_________________________________________________________________\n",
            "batch_normalization_29 (Batc (None, 16, 16, 32)        128       \n",
            "_________________________________________________________________\n",
            "conv2d_19 (Conv2D)           (None, 16, 16, 32)        9248      \n",
            "_________________________________________________________________\n",
            "max_pooling2d_10 (MaxPooling (None, 8, 8, 32)          0         \n",
            "_________________________________________________________________\n",
            "batch_normalization_30 (Batc (None, 8, 8, 32)          128       \n",
            "_________________________________________________________________\n",
            "flatten_5 (Flatten)          (None, 2048)              0         \n",
            "_________________________________________________________________\n",
            "neural_codes (Dense)         (None, 128)               262272    \n",
            "_________________________________________________________________\n",
            "batch_normalization_31 (Batc (None, 128)               512       \n",
            "_________________________________________________________________\n",
            "dense_17 (Dense)             (None, 2048)              264192    \n",
            "_________________________________________________________________\n",
            "reshape_5 (Reshape)          (None, 8, 8, 32)          0         \n",
            "_________________________________________________________________\n",
            "conv2d_20 (Conv2D)           (None, 8, 8, 32)          9248      \n",
            "_________________________________________________________________\n",
            "up_sampling2d_9 (UpSampling2 (None, 16, 16, 32)        0         \n",
            "_________________________________________________________________\n",
            "batch_normalization_32 (Batc (None, 16, 16, 32)        128       \n",
            "_________________________________________________________________\n",
            "conv2d_21 (Conv2D)           (None, 16, 16, 32)        9248      \n",
            "_________________________________________________________________\n",
            "up_sampling2d_10 (UpSampling (None, 32, 32, 32)        0         \n",
            "_________________________________________________________________\n",
            "batch_normalization_33 (Batc (None, 32, 32, 32)        128       \n",
            "_________________________________________________________________\n",
            "conv2d_22 (Conv2D)           (None, 32, 32, 1)         289       \n",
            "=================================================================\n",
            "Total params: 555,841\n",
            "Trainable params: 555,329\n",
            "Non-trainable params: 512\n",
            "_________________________________________________________________\n"
          ],
          "name": "stdout"
        }
      ]
    },
    {
      "cell_type": "markdown",
      "metadata": {
        "id": "sNH6EAOuAt4W",
        "colab_type": "text"
      },
      "source": [
        "#### Training & Saving Models\n",
        " We split of 1/12-th of the data (5,000 of the 60,000 samples) \n",
        "\n",
        "Note that we use the noisy data as input and the original data as target, such that the model learns to denoise the data."
      ]
    },
    {
      "cell_type": "code",
      "metadata": {
        "id": "9NzEbIb6At4X",
        "colab_type": "code",
        "outputId": "54dd7451-8d50-44dd-d9b6-be690afc44a5",
        "colab": {
          "base_uri": "https://localhost:8080/",
          "height": 1275
        }
      },
      "source": [
        "batch_size = 100\n",
        "epochs = 10\n",
        "\n",
        "autoencoder.fit(x_train_fash_mnist_noisy, x_train_fash_mnist,\n",
        "                batch_size=batch_size,\n",
        "                epochs=epochs,\n",
        "                validation_split=1/12)\n",
        "\n",
        "fash_mnist_dae_encoder = Sequential()\n",
        "for i in range(0,9):\n",
        "  fash_mnist_dae_encoder.add(autoencoder.layers[i])\n",
        "fash_mnist_dae_encoder.summary()\n",
        "\n",
        "\n",
        "fash_mnist_dae_decoder = Sequential()\n",
        "for i in range(9,18):\n",
        "  fash_mnist_dae_decoder.add(autoencoder.layers[i])\n",
        "fash_mnist_dae_decoder.build(input_shape=(None, 128))\n",
        "fash_mnist_dae_decoder.summary()\n",
        "\n",
        "\n",
        "save_model(\"fash_mnist_dae_encoder\",fash_mnist_dae_encoder)\n",
        "save_model(\"fash_mnist_dae_decoder\",fash_mnist_dae_decoder)\n",
        "save_model(\"autoencoder\",autoencoder)"
      ],
      "execution_count": 0,
      "outputs": [
        {
          "output_type": "stream",
          "text": [
            "Train on 55000 samples, validate on 5000 samples\n",
            "Epoch 1/10\n",
            "55000/55000 [==============================] - 10s 180us/step - loss: 0.2692 - val_loss: 0.2311\n",
            "Epoch 2/10\n",
            "55000/55000 [==============================] - 7s 121us/step - loss: 0.2277 - val_loss: 0.2310\n",
            "Epoch 3/10\n",
            "55000/55000 [==============================] - 7s 121us/step - loss: 0.2242 - val_loss: 0.2246\n",
            "Epoch 4/10\n",
            "55000/55000 [==============================] - 7s 122us/step - loss: 0.2222 - val_loss: 0.2259\n",
            "Epoch 5/10\n",
            "55000/55000 [==============================] - 7s 121us/step - loss: 0.2209 - val_loss: 0.2222\n",
            "Epoch 6/10\n",
            "55000/55000 [==============================] - 7s 122us/step - loss: 0.2198 - val_loss: 0.2220\n",
            "Epoch 7/10\n",
            "55000/55000 [==============================] - 7s 120us/step - loss: 0.2188 - val_loss: 0.2205\n",
            "Epoch 8/10\n",
            "55000/55000 [==============================] - 7s 120us/step - loss: 0.2183 - val_loss: 0.2209\n",
            "Epoch 9/10\n",
            "55000/55000 [==============================] - 7s 121us/step - loss: 0.2176 - val_loss: 0.2212\n",
            "Epoch 10/10\n",
            "55000/55000 [==============================] - 7s 121us/step - loss: 0.2169 - val_loss: 0.2215\n",
            "_________________________________________________________________\n",
            "Layer (type)                 Output Shape              Param #   \n",
            "=================================================================\n",
            "conv2d_18 (Conv2D)           (None, 32, 32, 32)        320       \n",
            "_________________________________________________________________\n",
            "max_pooling2d_9 (MaxPooling2 (None, 16, 16, 32)        0         \n",
            "_________________________________________________________________\n",
            "batch_normalization_29 (Batc (None, 16, 16, 32)        128       \n",
            "_________________________________________________________________\n",
            "conv2d_19 (Conv2D)           (None, 16, 16, 32)        9248      \n",
            "_________________________________________________________________\n",
            "max_pooling2d_10 (MaxPooling (None, 8, 8, 32)          0         \n",
            "_________________________________________________________________\n",
            "batch_normalization_30 (Batc (None, 8, 8, 32)          128       \n",
            "_________________________________________________________________\n",
            "flatten_5 (Flatten)          (None, 2048)              0         \n",
            "_________________________________________________________________\n",
            "neural_codes (Dense)         (None, 128)               262272    \n",
            "_________________________________________________________________\n",
            "batch_normalization_31 (Batc (None, 128)               512       \n",
            "=================================================================\n",
            "Total params: 272,608\n",
            "Trainable params: 272,224\n",
            "Non-trainable params: 384\n",
            "_________________________________________________________________\n",
            "_________________________________________________________________\n",
            "Layer (type)                 Output Shape              Param #   \n",
            "=================================================================\n",
            "dense_17 (Dense)             (None, 2048)              264192    \n",
            "_________________________________________________________________\n",
            "reshape_5 (Reshape)          (None, 8, 8, 32)          0         \n",
            "_________________________________________________________________\n",
            "conv2d_20 (Conv2D)           (None, 8, 8, 32)          9248      \n",
            "_________________________________________________________________\n",
            "up_sampling2d_9 (UpSampling2 (None, 16, 16, 32)        0         \n",
            "_________________________________________________________________\n",
            "batch_normalization_32 (Batc (None, 16, 16, 32)        128       \n",
            "_________________________________________________________________\n",
            "conv2d_21 (Conv2D)           (None, 16, 16, 32)        9248      \n",
            "_________________________________________________________________\n",
            "up_sampling2d_10 (UpSampling (None, 32, 32, 32)        0         \n",
            "_________________________________________________________________\n",
            "batch_normalization_33 (Batc (None, 32, 32, 32)        128       \n",
            "_________________________________________________________________\n",
            "conv2d_22 (Conv2D)           (None, 32, 32, 1)         289       \n",
            "=================================================================\n",
            "Total params: 283,233\n",
            "Trainable params: 283,105\n",
            "Non-trainable params: 128\n",
            "_________________________________________________________________\n",
            " file saved\n",
            " file saved\n",
            " file saved\n"
          ],
          "name": "stdout"
        }
      ]
    },
    {
      "cell_type": "markdown",
      "metadata": {
        "colab_type": "text",
        "id": "viSTJbhbXTcm"
      },
      "source": [
        "## Task 2.2: Qualitative evaluation\n",
        "Plotting the population of the latent space only works for a 2-dimensional latent space. For higher dimensions, we need different ways to qualitatively evaluate the models.\n",
        "\n",
        "**(a)** *Reconstruct some images from the test set with both the VAE and DAE. Plot the reconstructions alongside the original images. Briefly discuss the results.*\n",
        "\n",
        "**(b)** *The VAE is a generative model; generate some images with the VAE and visualise them. Also try to generate images with the DAE (even though it is not intended as a generative model) and visualise them. Discuss the results, in particular the difference between VAE and DAE.*"
      ]
    },
    {
      "cell_type": "markdown",
      "metadata": {
        "id": "L3KnCVYYyp7E",
        "colab_type": "text"
      },
      "source": [
        "### Load Models\n",
        "Don't forget that for the full autoencoder prediction the models have to be recompiled to use the trained weights from the loaded encoder and decoder"
      ]
    },
    {
      "cell_type": "code",
      "metadata": {
        "id": "TuKqy5-vyshj",
        "colab_type": "code",
        "outputId": "d367edfa-7e9a-4bc9-dc40-f99bf9b58e90",
        "colab": {
          "base_uri": "https://localhost:8080/",
          "height": 156
        }
      },
      "source": [
        "fash_mnist_vae_encoder = load_model(\"fash_mnist_vae_encoder\")\n",
        "fash_mnist_vae_decoder = load_model(\"fash_mnist_vae_decoder\")\n",
        "fash_mnist_dae_encoder = load_model(\"fash_mnist_dae_encoder\")\n",
        "fash_mnist_dae_decoder = load_model(\"fash_mnist_dae_decoder\")\n",
        "autoencoder = load_model(\"autoencoder\")"
      ],
      "execution_count": 0,
      "outputs": [
        {
          "output_type": "stream",
          "text": [
            "/usr/local/lib/python3.6/dist-packages/keras/engine/saving.py:292: UserWarning: No training configuration found in save file: the model was *not* compiled. Compile it manually.\n",
            "  warnings.warn('No training configuration found in save file: '\n"
          ],
          "name": "stderr"
        },
        {
          "output_type": "stream",
          "text": [
            "file loaded\n",
            "file loaded\n",
            "file loaded\n",
            "file loaded\n",
            "file loaded\n"
          ],
          "name": "stdout"
        }
      ]
    },
    {
      "cell_type": "code",
      "metadata": {
        "id": "JMi1oOjeQaDC",
        "colab_type": "code",
        "colab": {}
      },
      "source": [
        "def plot_examples(x):\n",
        "    n = 10\n",
        "    plt.figure(figsize=(20, 2))\n",
        "    for i in range(n):\n",
        "        ax = plt.subplot(1, n, i+1)\n",
        "        plt.imshow(x[i].reshape(32, 32))\n",
        "        plt.gray()\n",
        "        ax.get_xaxis().set_visible(False)\n",
        "        ax.get_yaxis().set_visible(False)\n",
        "    plt.show()\n",
        "\n",
        "def drawMeanForLabelFash(encoder, decoder, x_test, label, drawFigure = False, labels = ['T-shirt/top', 'Trouser/pants', 'Pullover shirt', 'Dress', 'Coat', 'Sandal', 'Shirt', 'Sneaker', 'Bag', 'Ankle boot']):\n",
        "    z_mean, _ = encoder.predict(x_test, batch_size=128)\n",
        "    latent_dimensions = z_mean.shape[1]\n",
        "    means = np.empty(latent_dimensions).reshape((1,latent_dimensions))\n",
        "    for dim in range(latent_dimensions):\n",
        "        means[0][dim] = np.median(z_mean[y_test_fash_mnist == label][:, dim])\n",
        "#         means[0][dim] = z_mean[y_test == label][:, dim].mean()     #For if you want to use mean instead of median, median offers slightly better results\n",
        "    figure = decoder.predict(means)\n",
        "    figure = np.reshape(figure, (figure.shape[0], -1))\n",
        "    figure = figure[0].reshape(x_test.shape[1], x_test.shape[1])\n",
        "    if drawFigure:\n",
        "        plt.figure(figsize=(10, 10))\n",
        "        plt.title(labels[label])\n",
        "        plt.imshow(figure, cmap='Greys_r')\n",
        "        plt.show()\n",
        "    return figure\n",
        "  \n",
        "def plot_examples_vae_fash_mnist():\n",
        "    n = 10\n",
        "    plt.figure(figsize=(20, 2))\n",
        "    for i in range(n):\n",
        "        ax = plt.subplot(1, n, i+1)\n",
        "        plt.imshow(drawMeanForLabelFash(fash_mnist_vae_encoder, fash_mnist_vae_decoder, x_test_fash_mnist, i))\n",
        "        plt.gray()\n",
        "        ax.get_xaxis().set_visible(False)\n",
        "        ax.get_yaxis().set_visible(False)\n",
        "    plt.show()"
      ],
      "execution_count": 0,
      "outputs": []
    },
    {
      "cell_type": "markdown",
      "metadata": {
        "id": "kxOxN4548scE",
        "colab_type": "text"
      },
      "source": [
        "### Plot Images"
      ]
    },
    {
      "cell_type": "code",
      "metadata": {
        "id": "UQlILf9ZAt4f",
        "colab_type": "code",
        "outputId": "e938d2c6-d8da-4ddc-e2c1-5a38d92a0de4",
        "colab": {
          "base_uri": "https://localhost:8080/",
          "height": 1051
        }
      },
      "source": [
        "test_loss = autoencoder.evaluate(x_test_fash_mnist_noisy, x_test_fash_mnist, batch_size=batch_size)\n",
        "print(\"Test loss:\", test_loss)\n",
        "\n",
        "x_test_fash_mnist_reconstr = autoencoder.predict(x_test_fash_mnist_noisy, batch_size=batch_size)\n",
        "x_test_fash_mnist_decoder = autoencoder.predict(x_test_fash_mnist, batch_size=batch_size)\n",
        "x_test_vae = fash_vae.predict(x_test_fash_mnist, batch_size=batch_size)\n",
        "\n",
        "#VAE GENERATOR\n",
        "import numpy.random as npr\n",
        "z = np.array([npr.normal(size=4)])\n",
        "for i in range (9):\n",
        "  x = np.array([npr.normal(size=4)])\n",
        "  z = np.concatenate((x,z))\n",
        "x_test_vae_generator = fash_mnist_vae_decoder.predict(z)\n",
        "\n",
        "#DAE GENERATOR\n",
        "h = np.array([npr.normal(size=128)])\n",
        "for i in range (9):\n",
        "  g = np.array([npr.normal(size=128)])\n",
        "  h = np.concatenate((h,g))\n",
        "generator_decoder = fash_mnist_dae_decoder.predict(h)\n",
        "\n",
        "\n",
        "print(\"first 10 images\")\n",
        "plot_examples(x_test_fash_mnist)\n",
        "print(\"first 10 images + noise\")\n",
        "plot_examples(x_test_fash_mnist_noisy)\n",
        "print(\"first 10 images reconstructed from denoiser\")\n",
        "plot_examples(x_test_fash_mnist_reconstr)\n",
        "print(\"first 10 images encoded and decoded with Autoencoder\")\n",
        "plot_examples(x_test_fash_mnist_decoder)\n",
        "print(\"first 10 images encoded and decoded with VAE\")\n",
        "plot_examples(x_test_vae)\n",
        "print(\"Random generated images from VAE\")\n",
        "plot_examples(x_test_vae_generator)\n",
        "print(\"Random Generated images from Autoencoder\")\n",
        "plot_examples(generator_decoder)\n",
        "print(\"plotting VAE median value for each class\")\n",
        "plot_examples_vae_fash_mnist()"
      ],
      "execution_count": 0,
      "outputs": [
        {
          "output_type": "stream",
          "text": [
            "10000/10000 [==============================] - 0s 49us/step\n",
            "Test loss: 0.22226265400648118\n",
            "first 10 images\n"
          ],
          "name": "stdout"
        },
        {
          "output_type": "display_data",
          "data": {
            "image/png": "[encoded data removed]",
            "text/plain": [
              "<Figure size 1440x144 with 10 Axes>"
            ]
          },
          "metadata": {
            "tags": []
          }
        },
        {
          "output_type": "stream",
          "text": [
            "first 10 images + noise\n"
          ],
          "name": "stdout"
        },
        {
          "output_type": "display_data",
          "data": {
            "image/png": "[encoded data removed]",
            "text/plain": [
              "<Figure size 1440x144 with 10 Axes>"
            ]
          },
          "metadata": {
            "tags": []
          }
        },
        {
          "output_type": "stream",
          "text": [
            "first 10 images reconstructed from denoiser\n"
          ],
          "name": "stdout"
        },
        {
          "output_type": "display_data",
          "data": {
            "image/png": "[encoded data removed]",
            "text/plain": [
              "<Figure size 1440x144 with 10 Axes>"
            ]
          },
          "metadata": {
            "tags": []
          }
        },
        {
          "output_type": "stream",
          "text": [
            "first 10 images encoded and decoded with Autoencoder\n"
          ],
          "name": "stdout"
        },
        {
          "output_type": "display_data",
          "data": {
            "image/png": "[encoded data removed]",
            "text/plain": [
              "<Figure size 1440x144 with 10 Axes>"
            ]
          },
          "metadata": {
            "tags": []
          }
        },
        {
          "output_type": "stream",
          "text": [
            "first 10 images encoded and decoded with VAE\n"
          ],
          "name": "stdout"
        },
        {
          "output_type": "display_data",
          "data": {
            "image/png": "[encoded data removed]",
            "text/plain": [
              "<Figure size 1440x144 with 10 Axes>"
            ]
          },
          "metadata": {
            "tags": []
          }
        },
        {
          "output_type": "stream",
          "text": [
            "Random generated images from VAE\n"
          ],
          "name": "stdout"
        },
        {
          "output_type": "display_data",
          "data": {
            "image/png": "[encoded data removed]",
            "text/plain": [
              "<Figure size 1440x144 with 10 Axes>"
            ]
          },
          "metadata": {
            "tags": []
          }
        },
        {
          "output_type": "stream",
          "text": [
            "Random Generated images from Autoencoder\n"
          ],
          "name": "stdout"
        },
        {
          "output_type": "display_data",
          "data": {
            "image/png": "[encoded data removed]",
            "text/plain": [
              "<Figure size 1440x144 with 10 Axes>"
            ]
          },
          "metadata": {
            "tags": []
          }
        },
        {
          "output_type": "stream",
          "text": [
            "plotting VAE median value for each class\n"
          ],
          "name": "stdout"
        },
        {
          "output_type": "display_data",
          "data": {
            "image/png": "[encoded data removed]",
            "text/plain": [
              "<Figure size 1440x144 with 10 Axes>"
            ]
          },
          "metadata": {
            "tags": []
          }
        }
      ]
    },
    {
      "cell_type": "markdown",
      "metadata": {
        "colab_type": "text",
        "id": "QUC-xLHHfa8Q"
      },
      "source": [
        "In the above image it can be seen that the for the denoising autoencoder it mostly does a similar good job to the same autoencoder while not puting noisy images , it is struggling with the slipper.\n",
        "It can be seen that the VAE produces good images, but all a little more blurry than the autoencoder.\n",
        "\n",
        "The generated images from the VAE look like normal clothing items. The random generated items from the autoencoder look like blurry randomness, with while it sometimes guesses something right and actually get's something that very remotely looks like an item.\n",
        "This difference comes from the fact that if random values are generated for the DAE it will have to get a good value for a combination of 128 neurons, not even batch normalisation can help the model generate images. <br>\n",
        "But batch normalisation was needed to get some \"item\" looking results\n",
        "\n",
        "In the last row the median value for all the means per class is used to generate \"average\" images for each class.\n",
        " \n"
      ]
    },
    {
      "cell_type": "markdown",
      "metadata": {
        "colab_type": "text",
        "id": "aw6n7iOpzqXM"
      },
      "source": [
        "## Task 2.3: Semi-supervised learning\n",
        "*Perform a thorough evaluation of semi-supervised learning for representations learned with your variational and denoising autoencoders.*\n",
        "\n",
        "*Guidelines:*\n",
        "* For various suitable values of $l$, randomly select $l$ instances from the training dataset, these will represent your labelled data and are the only data points that may be used for supervised learning. Make sure to include $l=60000$ (i.e. the entire dataset).\n",
        "* For each value of $l$, train a few off-the-shelf methods from scikit-learn (e.g. random forest, SVM) as well as a simple multilayer perception (MLP) on representations from both the VAE and DAE, using only the $l$ available labels.\n",
        "* For each value of $l$, also train an MLP on the original image data, using only the $l$ available labels.\n",
        "* Visualise your results in a clear way, and report your conclusions. Was it beneficial to use unlabelled data as well as labelled data? Which representations worked best?"
      ]
    },
    {
      "cell_type": "markdown",
      "metadata": {
        "id": "-B2fUiu6tphj",
        "colab_type": "text"
      },
      "source": [
        "### Data\n",
        "We are going to create all the different datasets to check with the models"
      ]
    },
    {
      "cell_type": "code",
      "metadata": {
        "colab_type": "code",
        "id": "quPeLQ4uMlX5",
        "outputId": "71a3b118-eded-4d15-8b82-42ed1a5c0984",
        "colab": {
          "base_uri": "https://localhost:8080/",
          "height": 102
        }
      },
      "source": [
        "#Create the 2 datasets needed for training and show the others\n",
        "x_train_fash_mnist_autoencoder= fash_mnist_dae_encoder.predict(x_train_fash_mnist, batch_size=batch_size)\n",
        "x_train_fash_mnist_vae = fash_mnist_vae_encoder.predict(x_train_fash_mnist, batch_size=batch_size)\n",
        "x_train_fash_mnist_vae = x_train_fash_mnist_vae[0]\n",
        "x_train_fash_mnist_vae.shape\n",
        "x_test_fash_mnist_autoencoder = fash_mnist_dae_encoder.predict(x_test_fash_mnist, batch_size=batch_size)\n",
        "x_test_fash_mnist_vae = fash_mnist_vae_encoder.predict(x_test_fash_mnist, batch_size=batch_size)\n",
        "x_test_fash_mnist_vae = x_test_fash_mnist_vae[0]\n",
        "print(x_train_fash_mnist_autoencoder.shape)\n",
        "print(x_train_fash_mnist.shape)\n",
        "print(x_train_fash_mnist_vae.shape)\n",
        "print(x_test_fash_mnist_autoencoder.shape)\n",
        "print(x_test_fash_mnist_vae.shape)"
      ],
      "execution_count": 0,
      "outputs": [
        {
          "output_type": "stream",
          "text": [
            "(60000, 128)\n",
            "(60000, 32, 32, 1)\n",
            "(60000, 4)\n",
            "(10000, 128)\n",
            "(10000, 4)\n"
          ],
          "name": "stdout"
        }
      ]
    },
    {
      "cell_type": "markdown",
      "metadata": {
        "id": "KYzw5BmLt9WM",
        "colab_type": "text"
      },
      "source": [
        "The next cell is to create the batches, that are balanced for all classes. The batches we will be choosing are of size:\n",
        "*  $L=60000$\n",
        "*  $L=40000$\n",
        "*  $L=10000$\n",
        "*  $L=5000$<br>\n",
        "\n",
        "The next functions create the amount of results per class, so the amount of labels that are put in are 1/10 of what we should end up with."
      ]
    },
    {
      "cell_type": "code",
      "metadata": {
        "id": "K2fuCKgOjJ9M",
        "colab_type": "code",
        "colab": {}
      },
      "source": [
        "def getInstancesOriginal(x, y, resultsPerLabel):\n",
        "    x_result = np.array([])\n",
        "    y_result = np.array([])\n",
        "    labels = np.unique(y)\n",
        "    for label in labels:\n",
        "        filterArray = y == label\n",
        "        x_f = x[filterArray]\n",
        "        y_f = y[filterArray]\n",
        "        idx = np.random.choice(np.arange(len(y_f)), resultsPerLabel, replace=False)\n",
        "        x_result = np.append(x_result, x_f[idx])\n",
        "        y_result = np.append(y_result, y_f[idx])\n",
        "    x_result = np.reshape(x_result, (len(labels)*resultsPerLabel, x.shape[1], x.shape[2], x.shape[3] ))\n",
        "    perm = np.random.permutation(len(y_result))\n",
        "    return x_result[perm], y_result[perm]\n",
        "\n",
        "def getInstancesEmbedding(x, y, resultsPerLabel):\n",
        "    x_result = np.array([])\n",
        "    y_result = np.array([])\n",
        "    labels = np.unique(y)\n",
        "    for label in labels:\n",
        "        filterArray = y == label\n",
        "        x_f = x[filterArray]\n",
        "        y_f = y[filterArray]\n",
        "        idx = np.random.choice(np.arange(len(y_f)), resultsPerLabel, replace=False)\n",
        "        x_result = np.append(x_result, x_f[idx])\n",
        "        y_result = np.append(y_result, y_f[idx])\n",
        "    x_result = np.reshape(x_result, (len(labels)*resultsPerLabel, x.shape[1]))\n",
        "    perm = np.random.permutation(len(y_result))\n",
        "    return x_result[perm], y_result[perm]"
      ],
      "execution_count": 0,
      "outputs": []
    },
    {
      "cell_type": "code",
      "metadata": {
        "id": "WUhkZjnej6DO",
        "colab_type": "code",
        "colab": {}
      },
      "source": [
        "#Get original images\n",
        "x_train_fash_mnist_original_60000,y_train_fash_mnist_original_60000 = getInstancesOriginal(x_train_fash_mnist, y_train_fash_mnist, 6000)\n",
        "x_train_fash_mnist_original_40000,y_train_fash_mnist_original_40000 = getInstancesOriginal(x_train_fash_mnist, y_train_fash_mnist, 4000)\n",
        "x_train_fash_mnist_original_10000,y_train_fash_mnist_original_10000 = getInstancesOriginal(x_train_fash_mnist, y_train_fash_mnist, 1000)\n",
        "x_train_fash_mnist_original_5000 ,y_train_fash_mnist_original_5000  = getInstancesOriginal(x_train_fash_mnist, y_train_fash_mnist, 500)\n",
        "x_train_fash_mnist_original_500  ,y_train_fash_mnist_original_500   = getInstancesOriginal(x_train_fash_mnist, y_train_fash_mnist, 50)\n",
        "\n",
        "#Get encoder generated images\n",
        "x_train_fash_mnist_autoencoder_60000,y_train_fash_mnist_autoencoder_60000 = getInstancesEmbedding(x_train_fash_mnist_autoencoder, y_train_fash_mnist, 6000)\n",
        "x_train_fash_mnist_autoencoder_40000,y_train_fash_mnist_autoencoder_40000 = getInstancesEmbedding(x_train_fash_mnist_autoencoder, y_train_fash_mnist, 4000)\n",
        "x_train_fash_mnist_autoencoder_10000,y_train_fash_mnist_autoencoder_10000 = getInstancesEmbedding(x_train_fash_mnist_autoencoder, y_train_fash_mnist, 1000)\n",
        "x_train_fash_mnist_autoencoder_5000 ,y_train_fash_mnist_autoencoder_5000  = getInstancesEmbedding(x_train_fash_mnist_autoencoder, y_train_fash_mnist, 500)\n",
        "x_train_fash_mnist_autoencoder_500  ,y_train_fash_mnist_autoencoder_500   = getInstancesEmbedding(x_train_fash_mnist_autoencoder, y_train_fash_mnist, 50)\n",
        "#Get encoder generated images\n",
        "x_train_fash_mnist_vae_60000,y_train_fash_mnist_vae_60000 = getInstancesEmbedding(x_train_fash_mnist_vae, y_train_fash_mnist, 6000)\n",
        "x_train_fash_mnist_vae_40000,y_train_fash_mnist_vae_40000 = getInstancesEmbedding(x_train_fash_mnist_vae, y_train_fash_mnist, 4000)\n",
        "x_train_fash_mnist_vae_10000,y_train_fash_mnist_vae_10000 = getInstancesEmbedding(x_train_fash_mnist_vae, y_train_fash_mnist, 1000)\n",
        "x_train_fash_mnist_vae_5000 ,y_train_fash_mnist_vae_5000  = getInstancesEmbedding(x_train_fash_mnist_vae, y_train_fash_mnist, 500)\n",
        "x_train_fash_mnist_vae_500  ,y_train_fash_mnist_vae_500   = getInstancesEmbedding(x_train_fash_mnist_vae, y_train_fash_mnist, 50)"
      ],
      "execution_count": 0,
      "outputs": []
    },
    {
      "cell_type": "code",
      "metadata": {
        "id": "hOzYSdt83Z3P",
        "colab_type": "code",
        "outputId": "2776d18b-37f6-463f-90bf-7120b853640c",
        "colab": {
          "base_uri": "https://localhost:8080/",
          "height": 323
        }
      },
      "source": [
        "#check the shapes of the datasets\n",
        "print(\"original dataset\")\n",
        "print(x_train_fash_mnist_original_60000.shape)\n",
        "print(x_train_fash_mnist_original_40000.shape)\n",
        "print(x_train_fash_mnist_original_10000.shape)\n",
        "print(x_train_fash_mnist_original_5000 .shape)\n",
        "print(x_train_fash_mnist_original_500  .shape)\n",
        "print(\"encoder dataset\")\n",
        "print(x_train_fash_mnist_autoencoder_60000.shape)\n",
        "print(x_train_fash_mnist_autoencoder_40000.shape)\n",
        "print(x_train_fash_mnist_autoencoder_10000.shape)\n",
        "print(x_train_fash_mnist_autoencoder_5000 .shape)\n",
        "print(x_train_fash_mnist_autoencoder_500  .shape)\n",
        "print(\"vae dataset\")\n",
        "print(x_train_fash_mnist_vae_60000.shape)\n",
        "print(x_train_fash_mnist_vae_40000.shape)\n",
        "print(x_train_fash_mnist_vae_10000.shape)\n",
        "print(x_train_fash_mnist_vae_5000 .shape)\n",
        "print(x_train_fash_mnist_vae_500  .shape)\n"
      ],
      "execution_count": 0,
      "outputs": [
        {
          "output_type": "stream",
          "text": [
            "original dataset\n",
            "(60000, 32, 32, 1)\n",
            "(40000, 32, 32, 1)\n",
            "(10000, 32, 32, 1)\n",
            "(5000, 32, 32, 1)\n",
            "(500, 32, 32, 1)\n",
            "encoder dataset\n",
            "(60000, 128)\n",
            "(40000, 128)\n",
            "(10000, 128)\n",
            "(5000, 128)\n",
            "(500, 128)\n",
            "vae dataset\n",
            "(60000, 4)\n",
            "(40000, 4)\n",
            "(10000, 4)\n",
            "(5000, 4)\n",
            "(500, 4)\n"
          ],
          "name": "stdout"
        }
      ]
    },
    {
      "cell_type": "code",
      "metadata": {
        "id": "ujcpwC5T4Bm-",
        "colab_type": "code",
        "outputId": "42ed19b5-adc9-460e-a0cf-d333cf64385c",
        "colab": {
          "base_uri": "https://localhost:8080/",
          "height": 119
        }
      },
      "source": [
        "#some algorithms cannot deal with multidimensional data, so it has to be reshaped into an array\n",
        "#reshape the datasets\n",
        "x_train_fash_mnist_original_60000_reshape = x_train_fash_mnist_original_60000.reshape(60000,1024)\n",
        "x_train_fash_mnist_original_40000_reshape = x_train_fash_mnist_original_40000.reshape(40000,1024)\n",
        "x_train_fash_mnist_original_10000_reshape = x_train_fash_mnist_original_10000.reshape(10000,1024)\n",
        "x_train_fash_mnist_original_5000_reshape  = x_train_fash_mnist_original_5000 .reshape(5000,1024)\n",
        "x_train_fash_mnist_original_500_reshape   = x_train_fash_mnist_original_500  .reshape(500,1024)\n",
        "\n",
        "#check the shapes of the datasets\n",
        "print(\"original dataset\")\n",
        "print(x_train_fash_mnist_original_60000_reshape.shape)\n",
        "print(x_train_fash_mnist_original_40000_reshape.shape)\n",
        "print(x_train_fash_mnist_original_10000_reshape.shape)\n",
        "print(x_train_fash_mnist_original_5000_reshape.shape)\n",
        "print(x_train_fash_mnist_original_500_reshape.shape)"
      ],
      "execution_count": 0,
      "outputs": [
        {
          "output_type": "stream",
          "text": [
            "original dataset\n",
            "(60000, 1024)\n",
            "(40000, 1024)\n",
            "(10000, 1024)\n",
            "(5000, 1024)\n",
            "(500, 1024)\n"
          ],
          "name": "stdout"
        }
      ]
    },
    {
      "cell_type": "code",
      "metadata": {
        "id": "hWoVZMYFRNh2",
        "colab_type": "code",
        "outputId": "c411e585-a971-40b0-e3c4-14f3674edfcd",
        "colab": {
          "base_uri": "https://localhost:8080/",
          "height": 34
        }
      },
      "source": [
        "#reshaping test set\n",
        "x_test_fash_mnist_reshape = x_test_fash_mnist.reshape(10000,1024)\n",
        "x_test_fash_mnist_reshape.shape"
      ],
      "execution_count": 0,
      "outputs": [
        {
          "output_type": "execute_result",
          "data": {
            "text/plain": [
              "(10000, 1024)"
            ]
          },
          "metadata": {
            "tags": []
          },
          "execution_count": 68
        }
      ]
    },
    {
      "cell_type": "code",
      "metadata": {
        "id": "Ozw2upgqXkAV",
        "colab_type": "code",
        "outputId": "51930bf8-1a64-497e-9b08-a85c471e97d2",
        "colab": {
          "base_uri": "https://localhost:8080/",
          "height": 34
        }
      },
      "source": [
        "data_list = np.array([\n",
        "    [x_train_fash_mnist_original_60000_reshape       ,y_train_fash_mnist_original_60000           ,x_test_fash_mnist_reshape],\n",
        "    [x_train_fash_mnist_original_40000_reshape       ,y_train_fash_mnist_original_40000           ,x_test_fash_mnist_reshape],\n",
        "    [x_train_fash_mnist_original_10000_reshape       ,y_train_fash_mnist_original_10000           ,x_test_fash_mnist_reshape],\n",
        "    [x_train_fash_mnist_original_5000_reshape        ,y_train_fash_mnist_original_5000            ,x_test_fash_mnist_reshape],\n",
        "    [x_train_fash_mnist_original_500_reshape         ,y_train_fash_mnist_original_500              ,x_test_fash_mnist_reshape],\n",
        "    [x_train_fash_mnist_autoencoder_60000            ,y_train_fash_mnist_autoencoder_60000        ,x_test_fash_mnist_autoencoder],\n",
        "    [x_train_fash_mnist_autoencoder_40000            ,y_train_fash_mnist_autoencoder_40000        ,x_test_fash_mnist_autoencoder],\n",
        "    [x_train_fash_mnist_autoencoder_10000            ,y_train_fash_mnist_autoencoder_10000        ,x_test_fash_mnist_autoencoder],\n",
        "    [x_train_fash_mnist_autoencoder_5000             ,y_train_fash_mnist_autoencoder_5000         ,x_test_fash_mnist_autoencoder],\n",
        "    [x_train_fash_mnist_autoencoder_500              ,y_train_fash_mnist_autoencoder_500          ,x_test_fash_mnist_autoencoder],\n",
        "    [x_train_fash_mnist_vae_60000                    ,y_train_fash_mnist_vae_60000                ,x_test_fash_mnist_vae],\n",
        "    [x_train_fash_mnist_vae_40000                    ,y_train_fash_mnist_vae_40000                ,x_test_fash_mnist_vae],\n",
        "    [x_train_fash_mnist_vae_10000                    ,y_train_fash_mnist_vae_10000                ,x_test_fash_mnist_vae],\n",
        "    [x_train_fash_mnist_vae_5000                     ,y_train_fash_mnist_vae_5000                 ,x_test_fash_mnist_vae],\n",
        "    [x_train_fash_mnist_vae_500                      ,y_train_fash_mnist_vae_500                  ,x_test_fash_mnist_vae],\n",
        "])\n",
        "print(data_list.shape)"
      ],
      "execution_count": 0,
      "outputs": [
        {
          "output_type": "stream",
          "text": [
            "(15, 3)\n"
          ],
          "name": "stdout"
        }
      ]
    },
    {
      "cell_type": "markdown",
      "metadata": {
        "id": "-xWR7lcj5R_S",
        "colab_type": "text"
      },
      "source": [
        "### Fitting the models"
      ]
    },
    {
      "cell_type": "code",
      "metadata": {
        "id": "dVXTKgj1cU9n",
        "colab_type": "code",
        "outputId": "2d39c04e-c2b4-4b5b-dc53-016d83747f59",
        "colab": {
          "base_uri": "https://localhost:8080/",
          "height": 34
        }
      },
      "source": [
        "cd /content/gdrive/My Drive/Colab Notebooks/\"Assignment 4\"/Models/modelling"
      ],
      "execution_count": 0,
      "outputs": [
        {
          "output_type": "stream",
          "text": [
            "/content/gdrive/My Drive/Colab Notebooks/Assignment 4/Models/modelling\n"
          ],
          "name": "stdout"
        }
      ]
    },
    {
      "cell_type": "code",
      "metadata": {
        "id": "fWXMTdva6k-2",
        "colab_type": "code",
        "colab": {}
      },
      "source": [
        "from sklearn.ensemble import RandomForestClassifier\n",
        "from sklearn.metrics import accuracy_score\n",
        "from sklearn.svm import SVC"
      ],
      "execution_count": 0,
      "outputs": []
    },
    {
      "cell_type": "markdown",
      "metadata": {
        "id": "HE1LXIN52KqJ",
        "colab_type": "text"
      },
      "source": [
        "Function to loop over the datasets fitting each on the type of model"
      ]
    },
    {
      "cell_type": "code",
      "metadata": {
        "id": "pTf21ZnhYi8N",
        "colab_type": "code",
        "colab": {}
      },
      "source": [
        "def Looper(modeltype):\n",
        "  accuracies = np.array([])\n",
        "  i = 1\n",
        "  for x,y,test in data_list:\n",
        "    print(accuracies.shape)\n",
        "    accuracy, model, name = modeltype(x,y,test)\n",
        "    save_model(str(str(name)+\" Model Number \"+str(i)+\" Accuracy: \"+str(accuracy)),model)\n",
        "    i+=1\n",
        "    accuracies = np.append(accuracies,accuracy)\n",
        "  return accuracies"
      ],
      "execution_count": 0,
      "outputs": []
    },
    {
      "cell_type": "markdown",
      "metadata": {
        "id": "m-hEIi1D5yeJ",
        "colab_type": "text"
      },
      "source": [
        "#### Randomforest classifier"
      ]
    },
    {
      "cell_type": "code",
      "metadata": {
        "id": "JEMNoo4-Szs9",
        "colab_type": "code",
        "colab": {}
      },
      "source": [
        "def RandomForest(x,y,test):\n",
        "  model = RandomForestClassifier(n_estimators=100, max_depth=50, random_state=4)\n",
        "  model.fit(x, y)\n",
        "  name = \"RandomForest\"\n",
        "  y_predict = model.predict(test)\n",
        "  accuracy = accuracy_score(y_test_fash_mnist, y_predict)\n",
        "  return accuracy, model, name"
      ],
      "execution_count": 0,
      "outputs": []
    },
    {
      "cell_type": "code",
      "metadata": {
        "id": "ks8RVwX3bJZj",
        "colab_type": "code",
        "outputId": "dfd8132d-ed5d-421c-9570-ed3ecea54b8a",
        "colab": {
          "base_uri": "https://localhost:8080/",
          "height": 561
        }
      },
      "source": [
        "RandomForestAccuracies = Looper(RandomForest)\n",
        "print(RandomForestAccuracies)"
      ],
      "execution_count": 0,
      "outputs": [
        {
          "output_type": "stream",
          "text": [
            "(0,)\n",
            " file saved\n",
            "(1,)\n",
            " file saved\n",
            "(2,)\n",
            " file saved\n",
            "(3,)\n",
            " file saved\n",
            "(4,)\n",
            " file saved\n",
            "(5,)\n",
            " file saved\n",
            "(6,)\n",
            " file saved\n",
            "(7,)\n",
            " file saved\n",
            "(8,)\n",
            " file saved\n",
            "(9,)\n",
            " file saved\n",
            "(10,)\n",
            " file saved\n",
            "(11,)\n",
            " file saved\n",
            "(12,)\n",
            " file saved\n",
            "(13,)\n",
            " file saved\n",
            "(14,)\n",
            " file saved\n",
            "[0.8774 0.8709 0.8526 0.8376 0.774  0.8702 0.8629 0.847  0.8348 0.7788\n",
            " 0.8106 0.8109 0.7939 0.7894 0.7385]\n"
          ],
          "name": "stdout"
        }
      ]
    },
    {
      "cell_type": "markdown",
      "metadata": {
        "id": "y7ghAnbd6txe",
        "colab_type": "text"
      },
      "source": [
        "#### SVM"
      ]
    },
    {
      "cell_type": "code",
      "metadata": {
        "colab_type": "code",
        "id": "Uk_toa5-xTTI",
        "colab": {}
      },
      "source": [
        "def SVM(x,y,test):\n",
        "  model = SVC()\n",
        "  model.fit(x,y)\n",
        "  name= \"SVM\"\n",
        "  y_predict = model.predict(test)\n",
        "  accuracy = accuracy_score(y_test_fash_mnist, y_predict)\n",
        "  return accuracy, model, name"
      ],
      "execution_count": 0,
      "outputs": []
    },
    {
      "cell_type": "code",
      "metadata": {
        "id": "aoPwPiHx1rZ_",
        "colab_type": "code",
        "outputId": "0c008c7d-b423-4491-cdfb-0f432a105938",
        "colab": {
          "base_uri": "https://localhost:8080/",
          "height": 1091
        }
      },
      "source": [
        "SVMaccuracies = Looper(SVM)\n",
        "print(SVMaccuracies)"
      ],
      "execution_count": 0,
      "outputs": [
        {
          "output_type": "stream",
          "text": [
            "(0,)\n"
          ],
          "name": "stdout"
        },
        {
          "output_type": "stream",
          "text": [
            "/usr/local/lib/python3.6/dist-packages/sklearn/svm/base.py:193: FutureWarning: The default value of gamma will change from 'auto' to 'scale' in version 0.22 to account better for unscaled features. Set gamma explicitly to 'auto' or 'scale' to avoid this warning.\n",
            "  \"avoid this warning.\", FutureWarning)\n"
          ],
          "name": "stderr"
        },
        {
          "output_type": "stream",
          "text": [
            " file saved\n",
            "(1,)\n"
          ],
          "name": "stdout"
        },
        {
          "output_type": "stream",
          "text": [
            "/usr/local/lib/python3.6/dist-packages/sklearn/svm/base.py:193: FutureWarning: The default value of gamma will change from 'auto' to 'scale' in version 0.22 to account better for unscaled features. Set gamma explicitly to 'auto' or 'scale' to avoid this warning.\n",
            "  \"avoid this warning.\", FutureWarning)\n"
          ],
          "name": "stderr"
        },
        {
          "output_type": "stream",
          "text": [
            " file saved\n",
            "(2,)\n"
          ],
          "name": "stdout"
        },
        {
          "output_type": "stream",
          "text": [
            "/usr/local/lib/python3.6/dist-packages/sklearn/svm/base.py:193: FutureWarning: The default value of gamma will change from 'auto' to 'scale' in version 0.22 to account better for unscaled features. Set gamma explicitly to 'auto' or 'scale' to avoid this warning.\n",
            "  \"avoid this warning.\", FutureWarning)\n"
          ],
          "name": "stderr"
        },
        {
          "output_type": "stream",
          "text": [
            " file saved\n",
            "(3,)\n"
          ],
          "name": "stdout"
        },
        {
          "output_type": "stream",
          "text": [
            "/usr/local/lib/python3.6/dist-packages/sklearn/svm/base.py:193: FutureWarning: The default value of gamma will change from 'auto' to 'scale' in version 0.22 to account better for unscaled features. Set gamma explicitly to 'auto' or 'scale' to avoid this warning.\n",
            "  \"avoid this warning.\", FutureWarning)\n"
          ],
          "name": "stderr"
        },
        {
          "output_type": "stream",
          "text": [
            " file saved\n",
            "(4,)\n"
          ],
          "name": "stdout"
        },
        {
          "output_type": "stream",
          "text": [
            "/usr/local/lib/python3.6/dist-packages/sklearn/svm/base.py:193: FutureWarning: The default value of gamma will change from 'auto' to 'scale' in version 0.22 to account better for unscaled features. Set gamma explicitly to 'auto' or 'scale' to avoid this warning.\n",
            "  \"avoid this warning.\", FutureWarning)\n"
          ],
          "name": "stderr"
        },
        {
          "output_type": "stream",
          "text": [
            " file saved\n",
            "(5,)\n"
          ],
          "name": "stdout"
        },
        {
          "output_type": "stream",
          "text": [
            "/usr/local/lib/python3.6/dist-packages/sklearn/svm/base.py:193: FutureWarning: The default value of gamma will change from 'auto' to 'scale' in version 0.22 to account better for unscaled features. Set gamma explicitly to 'auto' or 'scale' to avoid this warning.\n",
            "  \"avoid this warning.\", FutureWarning)\n"
          ],
          "name": "stderr"
        },
        {
          "output_type": "stream",
          "text": [
            " file saved\n",
            "(6,)\n"
          ],
          "name": "stdout"
        },
        {
          "output_type": "stream",
          "text": [
            "/usr/local/lib/python3.6/dist-packages/sklearn/svm/base.py:193: FutureWarning: The default value of gamma will change from 'auto' to 'scale' in version 0.22 to account better for unscaled features. Set gamma explicitly to 'auto' or 'scale' to avoid this warning.\n",
            "  \"avoid this warning.\", FutureWarning)\n"
          ],
          "name": "stderr"
        },
        {
          "output_type": "stream",
          "text": [
            " file saved\n",
            "(7,)\n"
          ],
          "name": "stdout"
        },
        {
          "output_type": "stream",
          "text": [
            "/usr/local/lib/python3.6/dist-packages/sklearn/svm/base.py:193: FutureWarning: The default value of gamma will change from 'auto' to 'scale' in version 0.22 to account better for unscaled features. Set gamma explicitly to 'auto' or 'scale' to avoid this warning.\n",
            "  \"avoid this warning.\", FutureWarning)\n"
          ],
          "name": "stderr"
        },
        {
          "output_type": "stream",
          "text": [
            " file saved\n",
            "(8,)\n"
          ],
          "name": "stdout"
        },
        {
          "output_type": "stream",
          "text": [
            "/usr/local/lib/python3.6/dist-packages/sklearn/svm/base.py:193: FutureWarning: The default value of gamma will change from 'auto' to 'scale' in version 0.22 to account better for unscaled features. Set gamma explicitly to 'auto' or 'scale' to avoid this warning.\n",
            "  \"avoid this warning.\", FutureWarning)\n"
          ],
          "name": "stderr"
        },
        {
          "output_type": "stream",
          "text": [
            " file saved\n",
            "(9,)\n"
          ],
          "name": "stdout"
        },
        {
          "output_type": "stream",
          "text": [
            "/usr/local/lib/python3.6/dist-packages/sklearn/svm/base.py:193: FutureWarning: The default value of gamma will change from 'auto' to 'scale' in version 0.22 to account better for unscaled features. Set gamma explicitly to 'auto' or 'scale' to avoid this warning.\n",
            "  \"avoid this warning.\", FutureWarning)\n"
          ],
          "name": "stderr"
        },
        {
          "output_type": "stream",
          "text": [
            " file saved\n",
            "(10,)\n"
          ],
          "name": "stdout"
        },
        {
          "output_type": "stream",
          "text": [
            "/usr/local/lib/python3.6/dist-packages/sklearn/svm/base.py:193: FutureWarning: The default value of gamma will change from 'auto' to 'scale' in version 0.22 to account better for unscaled features. Set gamma explicitly to 'auto' or 'scale' to avoid this warning.\n",
            "  \"avoid this warning.\", FutureWarning)\n"
          ],
          "name": "stderr"
        },
        {
          "output_type": "stream",
          "text": [
            " file saved\n",
            "(11,)\n"
          ],
          "name": "stdout"
        },
        {
          "output_type": "stream",
          "text": [
            "/usr/local/lib/python3.6/dist-packages/sklearn/svm/base.py:193: FutureWarning: The default value of gamma will change from 'auto' to 'scale' in version 0.22 to account better for unscaled features. Set gamma explicitly to 'auto' or 'scale' to avoid this warning.\n",
            "  \"avoid this warning.\", FutureWarning)\n"
          ],
          "name": "stderr"
        },
        {
          "output_type": "stream",
          "text": [
            " file saved\n",
            "(12,)\n"
          ],
          "name": "stdout"
        },
        {
          "output_type": "stream",
          "text": [
            "/usr/local/lib/python3.6/dist-packages/sklearn/svm/base.py:193: FutureWarning: The default value of gamma will change from 'auto' to 'scale' in version 0.22 to account better for unscaled features. Set gamma explicitly to 'auto' or 'scale' to avoid this warning.\n",
            "  \"avoid this warning.\", FutureWarning)\n"
          ],
          "name": "stderr"
        },
        {
          "output_type": "stream",
          "text": [
            " file saved\n",
            "(13,)\n"
          ],
          "name": "stdout"
        },
        {
          "output_type": "stream",
          "text": [
            "/usr/local/lib/python3.6/dist-packages/sklearn/svm/base.py:193: FutureWarning: The default value of gamma will change from 'auto' to 'scale' in version 0.22 to account better for unscaled features. Set gamma explicitly to 'auto' or 'scale' to avoid this warning.\n",
            "  \"avoid this warning.\", FutureWarning)\n"
          ],
          "name": "stderr"
        },
        {
          "output_type": "stream",
          "text": [
            " file saved\n",
            "(14,)\n",
            " file saved\n",
            "[0.8419 0.8327 0.8028 0.7845 0.6901 0.8875 0.8871 0.8641 0.8528 0.7911\n",
            " 0.8006 0.7995 0.7896 0.7819 0.7543]\n"
          ],
          "name": "stdout"
        },
        {
          "output_type": "stream",
          "text": [
            "/usr/local/lib/python3.6/dist-packages/sklearn/svm/base.py:193: FutureWarning: The default value of gamma will change from 'auto' to 'scale' in version 0.22 to account better for unscaled features. Set gamma explicitly to 'auto' or 'scale' to avoid this warning.\n",
            "  \"avoid this warning.\", FutureWarning)\n"
          ],
          "name": "stderr"
        }
      ]
    },
    {
      "cell_type": "markdown",
      "metadata": {
        "id": "ocIbRJ9IoKVI",
        "colab_type": "text"
      },
      "source": [
        "#### Multilayer Perceptron"
      ]
    },
    {
      "cell_type": "code",
      "metadata": {
        "colab_type": "code",
        "id": "Syzaf5retExb",
        "colab": {}
      },
      "source": [
        "def MLP(x,y,test):\n",
        "  model = MLPCreator(x)\n",
        "  model.fit(x, y , epochs=10, batch_size=32)\n",
        "  name = \"MLP\"\n",
        "  y_predict = model.predict_classes(test, verbose=0, batch_size=32)\n",
        "  accuracy = accuracy_score(y_test_fash_mnist, y_predict)\n",
        "  return accuracy, model, name\n"
      ],
      "execution_count": 0,
      "outputs": []
    },
    {
      "cell_type": "code",
      "metadata": {
        "id": "eMVCmA3ptN0b",
        "colab_type": "code",
        "colab": {}
      },
      "source": [
        "def MLPCreator(x):\n",
        "  input_dim = x.shape[1]\n",
        "  MLP = Sequential()\n",
        "  MLP.add(Dense(128, activation='relu', input_dim=(input_dim)))\n",
        "  MLP.add(BatchNormalization())\n",
        "  MLP.add(Dropout(0.5))\n",
        "  MLP.add(Dense(128, activation='relu'))\n",
        "  MLP.add(BatchNormalization())\n",
        "  MLP.add(Dense(10,activation='softmax'))\n",
        "  MLP.compile(optimizer='adam', \n",
        "                loss='sparse_categorical_crossentropy',\n",
        "                metrics=['accuracy'])\n",
        "  return(MLP)"
      ],
      "execution_count": 0,
      "outputs": []
    },
    {
      "cell_type": "code",
      "metadata": {
        "colab_type": "code",
        "outputId": "9bcf0929-a2a6-4f40-b959-f42d07eb2ed3",
        "id": "sJ48cCMevL_I",
        "colab": {
          "base_uri": "https://localhost:8080/",
          "height": 5661
        }
      },
      "source": [
        "MLPaccuracies = Looper(MLP)\n",
        "print(MLPaccuracies)"
      ],
      "execution_count": 0,
      "outputs": [
        {
          "output_type": "stream",
          "text": [
            "(0,)\n",
            "Epoch 1/10\n",
            "60000/60000 [==============================] - 18s 293us/step - loss: 0.6310 - acc: 0.7738\n",
            "Epoch 2/10\n",
            "60000/60000 [==============================] - 13s 210us/step - loss: 0.5182 - acc: 0.8138\n",
            "Epoch 3/10\n",
            "60000/60000 [==============================] - 13s 210us/step - loss: 0.4836 - acc: 0.8267\n",
            "Epoch 4/10\n",
            "60000/60000 [==============================] - 13s 210us/step - loss: 0.4659 - acc: 0.8327\n",
            "Epoch 5/10\n",
            "60000/60000 [==============================] - 13s 211us/step - loss: 0.4463 - acc: 0.8398\n",
            "Epoch 6/10\n",
            "60000/60000 [==============================] - 13s 211us/step - loss: 0.4386 - acc: 0.8421\n",
            "Epoch 7/10\n",
            "60000/60000 [==============================] - 13s 211us/step - loss: 0.4282 - acc: 0.8458\n",
            "Epoch 8/10\n",
            "60000/60000 [==============================] - 13s 210us/step - loss: 0.4262 - acc: 0.8444\n",
            "Epoch 9/10\n",
            "60000/60000 [==============================] - 13s 209us/step - loss: 0.4170 - acc: 0.8497\n",
            "Epoch 10/10\n",
            "60000/60000 [==============================] - 13s 210us/step - loss: 0.4153 - acc: 0.8500\n",
            " file saved\n",
            "(1,)\n",
            "Epoch 1/10\n",
            "40000/40000 [==============================] - 14s 339us/step - loss: 0.6603 - acc: 0.7657\n",
            "Epoch 2/10\n",
            "40000/40000 [==============================] - 8s 211us/step - loss: 0.5326 - acc: 0.8078\n",
            "Epoch 3/10\n",
            "40000/40000 [==============================] - 8s 211us/step - loss: 0.4969 - acc: 0.8208\n",
            "Epoch 4/10\n",
            "40000/40000 [==============================] - 8s 209us/step - loss: 0.4813 - acc: 0.8275\n",
            "Epoch 5/10\n",
            "40000/40000 [==============================] - 8s 211us/step - loss: 0.4672 - acc: 0.8327\n",
            "Epoch 6/10\n",
            "40000/40000 [==============================] - 8s 212us/step - loss: 0.4583 - acc: 0.8340\n",
            "Epoch 7/10\n",
            "40000/40000 [==============================] - 8s 211us/step - loss: 0.4466 - acc: 0.8385\n",
            "Epoch 8/10\n",
            "40000/40000 [==============================] - 8s 211us/step - loss: 0.4361 - acc: 0.8429\n",
            "Epoch 9/10\n",
            "40000/40000 [==============================] - 8s 212us/step - loss: 0.4261 - acc: 0.8476\n",
            "Epoch 10/10\n",
            "40000/40000 [==============================] - 8s 212us/step - loss: 0.4199 - acc: 0.8459\n",
            " file saved\n",
            "(2,)\n",
            "Epoch 1/10\n",
            "10000/10000 [==============================] - 7s 725us/step - loss: 0.8354 - acc: 0.7088\n",
            "Epoch 2/10\n",
            "10000/10000 [==============================] - 2s 224us/step - loss: 0.6382 - acc: 0.7724\n",
            "Epoch 3/10\n",
            "10000/10000 [==============================] - 2s 226us/step - loss: 0.5838 - acc: 0.7863\n",
            "Epoch 4/10\n",
            "10000/10000 [==============================] - 2s 223us/step - loss: 0.5582 - acc: 0.7967\n",
            "Epoch 5/10\n",
            "10000/10000 [==============================] - 2s 221us/step - loss: 0.5414 - acc: 0.8038\n",
            "Epoch 6/10\n",
            "10000/10000 [==============================] - 2s 220us/step - loss: 0.5400 - acc: 0.8062\n",
            "Epoch 7/10\n",
            "10000/10000 [==============================] - 2s 211us/step - loss: 0.5202 - acc: 0.8150\n",
            "Epoch 8/10\n",
            "10000/10000 [==============================] - 2s 215us/step - loss: 0.5150 - acc: 0.8116\n",
            "Epoch 9/10\n",
            "10000/10000 [==============================] - 2s 212us/step - loss: 0.4876 - acc: 0.8238\n",
            "Epoch 10/10\n",
            "10000/10000 [==============================] - 2s 211us/step - loss: 0.4774 - acc: 0.8280\n",
            " file saved\n",
            "(3,)\n",
            "Epoch 1/10\n",
            "5000/5000 [==============================] - 6s 1ms/step - loss: 1.0092 - acc: 0.6542\n",
            "Epoch 2/10\n",
            "5000/5000 [==============================] - 1s 212us/step - loss: 0.6927 - acc: 0.7572\n",
            "Epoch 3/10\n",
            "5000/5000 [==============================] - 1s 214us/step - loss: 0.6076 - acc: 0.7862\n",
            "Epoch 4/10\n",
            "5000/5000 [==============================] - 1s 214us/step - loss: 0.5841 - acc: 0.7892\n",
            "Epoch 5/10\n",
            "5000/5000 [==============================] - 1s 214us/step - loss: 0.5666 - acc: 0.8006\n",
            "Epoch 6/10\n",
            "5000/5000 [==============================] - 1s 217us/step - loss: 0.5562 - acc: 0.8000\n",
            "Epoch 7/10\n",
            "5000/5000 [==============================] - 1s 211us/step - loss: 0.5294 - acc: 0.8158\n",
            "Epoch 8/10\n",
            "5000/5000 [==============================] - 1s 212us/step - loss: 0.5154 - acc: 0.8124\n",
            "Epoch 9/10\n",
            "5000/5000 [==============================] - 1s 212us/step - loss: 0.5047 - acc: 0.8180\n",
            "Epoch 10/10\n",
            "5000/5000 [==============================] - 1s 217us/step - loss: 0.4886 - acc: 0.8216\n",
            " file saved\n",
            "(4,)\n",
            "Epoch 1/10\n",
            "500/500 [==============================] - 6s 11ms/step - loss: 1.8488 - acc: 0.3680\n",
            "Epoch 2/10\n",
            "500/500 [==============================] - 0s 217us/step - loss: 1.0571 - acc: 0.6520\n",
            "Epoch 3/10\n",
            "500/500 [==============================] - 0s 226us/step - loss: 0.8501 - acc: 0.6740\n",
            "Epoch 4/10\n",
            "500/500 [==============================] - 0s 211us/step - loss: 0.7645 - acc: 0.7480\n",
            "Epoch 5/10\n",
            "500/500 [==============================] - 0s 218us/step - loss: 0.6911 - acc: 0.7680\n",
            "Epoch 6/10\n",
            "500/500 [==============================] - 0s 214us/step - loss: 0.6361 - acc: 0.7820\n",
            "Epoch 7/10\n",
            "500/500 [==============================] - 0s 250us/step - loss: 0.5949 - acc: 0.7980\n",
            "Epoch 8/10\n",
            "500/500 [==============================] - 0s 229us/step - loss: 0.5731 - acc: 0.8140\n",
            "Epoch 9/10\n",
            "500/500 [==============================] - 0s 224us/step - loss: 0.5539 - acc: 0.8160\n",
            "Epoch 10/10\n",
            "500/500 [==============================] - 0s 219us/step - loss: 0.5196 - acc: 0.8260\n",
            " file saved\n",
            "(5,)\n",
            "Epoch 1/10\n",
            "60000/60000 [==============================] - 18s 308us/step - loss: 0.5485 - acc: 0.8054\n",
            "Epoch 2/10\n",
            "60000/60000 [==============================] - 13s 212us/step - loss: 0.4285 - acc: 0.8449\n",
            "Epoch 3/10\n",
            "60000/60000 [==============================] - 13s 212us/step - loss: 0.3997 - acc: 0.8545\n",
            "Epoch 4/10\n",
            "60000/60000 [==============================] - 13s 212us/step - loss: 0.3862 - acc: 0.8580\n",
            "Epoch 5/10\n",
            "60000/60000 [==============================] - 13s 213us/step - loss: 0.3747 - acc: 0.8615\n",
            "Epoch 6/10\n",
            "60000/60000 [==============================] - 13s 213us/step - loss: 0.3673 - acc: 0.8644\n",
            "Epoch 7/10\n",
            "60000/60000 [==============================] - 13s 212us/step - loss: 0.3582 - acc: 0.8682\n",
            "Epoch 8/10\n",
            "60000/60000 [==============================] - 13s 211us/step - loss: 0.3560 - acc: 0.8667\n",
            "Epoch 9/10\n",
            "60000/60000 [==============================] - 13s 212us/step - loss: 0.3496 - acc: 0.8715\n",
            "Epoch 10/10\n",
            "60000/60000 [==============================] - 13s 213us/step - loss: 0.3440 - acc: 0.8720\n",
            " file saved\n",
            "(6,)\n",
            "Epoch 1/10\n",
            "40000/40000 [==============================] - 14s 360us/step - loss: 0.5865 - acc: 0.7888\n",
            "Epoch 2/10\n",
            "40000/40000 [==============================] - 8s 211us/step - loss: 0.4492 - acc: 0.8377\n",
            "Epoch 3/10\n",
            "40000/40000 [==============================] - 9s 213us/step - loss: 0.4190 - acc: 0.8465\n",
            "Epoch 4/10\n",
            "40000/40000 [==============================] - 8s 212us/step - loss: 0.3995 - acc: 0.8537\n",
            "Epoch 5/10\n",
            "40000/40000 [==============================] - 9s 213us/step - loss: 0.3913 - acc: 0.8565\n",
            "Epoch 6/10\n",
            "40000/40000 [==============================] - 9s 213us/step - loss: 0.3817 - acc: 0.8582\n",
            "Epoch 7/10\n",
            "40000/40000 [==============================] - 8s 212us/step - loss: 0.3725 - acc: 0.8628\n",
            "Epoch 8/10\n",
            "40000/40000 [==============================] - 8s 212us/step - loss: 0.3638 - acc: 0.8640\n",
            "Epoch 9/10\n",
            "40000/40000 [==============================] - 8s 212us/step - loss: 0.3577 - acc: 0.8677\n",
            "Epoch 10/10\n",
            "40000/40000 [==============================] - 9s 214us/step - loss: 0.3540 - acc: 0.8685\n",
            " file saved\n",
            "(7,)\n",
            "Epoch 1/10\n",
            "10000/10000 [==============================] - 8s 809us/step - loss: 0.7991 - acc: 0.7180\n",
            "Epoch 2/10\n",
            "10000/10000 [==============================] - 2s 214us/step - loss: 0.5425 - acc: 0.8053\n",
            "Epoch 3/10\n",
            "10000/10000 [==============================] - 2s 216us/step - loss: 0.4839 - acc: 0.8213\n",
            "Epoch 4/10\n",
            "10000/10000 [==============================] - 2s 215us/step - loss: 0.4594 - acc: 0.8300\n",
            "Epoch 5/10\n",
            "10000/10000 [==============================] - 2s 216us/step - loss: 0.4375 - acc: 0.8379\n",
            "Epoch 6/10\n",
            "10000/10000 [==============================] - 2s 217us/step - loss: 0.4202 - acc: 0.8458\n",
            "Epoch 7/10\n",
            "10000/10000 [==============================] - 2s 212us/step - loss: 0.4063 - acc: 0.8474\n",
            "Epoch 8/10\n",
            "10000/10000 [==============================] - 2s 213us/step - loss: 0.4018 - acc: 0.8492\n",
            "Epoch 9/10\n",
            "10000/10000 [==============================] - 2s 217us/step - loss: 0.3877 - acc: 0.8543\n",
            "Epoch 10/10\n",
            "10000/10000 [==============================] - 2s 213us/step - loss: 0.3848 - acc: 0.8614\n",
            " file saved\n",
            "(8,)\n",
            "Epoch 1/10\n",
            "5000/5000 [==============================] - 7s 1ms/step - loss: 1.0176 - acc: 0.6540\n",
            "Epoch 2/10\n",
            "5000/5000 [==============================] - 1s 211us/step - loss: 0.6205 - acc: 0.7780\n",
            "Epoch 3/10\n",
            "5000/5000 [==============================] - 1s 214us/step - loss: 0.5557 - acc: 0.8042\n",
            "Epoch 4/10\n",
            "5000/5000 [==============================] - 1s 217us/step - loss: 0.5168 - acc: 0.8148\n",
            "Epoch 5/10\n",
            "5000/5000 [==============================] - 1s 216us/step - loss: 0.4905 - acc: 0.8176\n",
            "Epoch 6/10\n",
            "5000/5000 [==============================] - 1s 217us/step - loss: 0.4731 - acc: 0.8280\n",
            "Epoch 7/10\n",
            "5000/5000 [==============================] - 1s 215us/step - loss: 0.4501 - acc: 0.8378\n",
            "Epoch 8/10\n",
            "5000/5000 [==============================] - 1s 218us/step - loss: 0.4331 - acc: 0.8356\n",
            "Epoch 9/10\n",
            "5000/5000 [==============================] - 1s 219us/step - loss: 0.4194 - acc: 0.8446\n",
            "Epoch 10/10\n",
            "5000/5000 [==============================] - 1s 216us/step - loss: 0.4094 - acc: 0.8480\n",
            " file saved\n",
            "(9,)\n",
            "Epoch 1/10\n",
            "500/500 [==============================] - 6s 13ms/step - loss: 2.2092 - acc: 0.2840\n",
            "Epoch 2/10\n",
            "500/500 [==============================] - 0s 227us/step - loss: 1.1529 - acc: 0.6080\n",
            "Epoch 3/10\n",
            "500/500 [==============================] - 0s 241us/step - loss: 0.8625 - acc: 0.7100\n",
            "Epoch 4/10\n",
            "500/500 [==============================] - 0s 219us/step - loss: 0.7688 - acc: 0.7160\n",
            "Epoch 5/10\n",
            "500/500 [==============================] - 0s 232us/step - loss: 0.6394 - acc: 0.7680\n",
            "Epoch 6/10\n",
            "500/500 [==============================] - 0s 218us/step - loss: 0.5767 - acc: 0.7920\n",
            "Epoch 7/10\n",
            "500/500 [==============================] - 0s 228us/step - loss: 0.5537 - acc: 0.7960\n",
            "Epoch 8/10\n",
            "500/500 [==============================] - 0s 219us/step - loss: 0.5234 - acc: 0.8420\n",
            "Epoch 9/10\n",
            "500/500 [==============================] - 0s 223us/step - loss: 0.4896 - acc: 0.8380\n",
            "Epoch 10/10\n",
            "500/500 [==============================] - 0s 213us/step - loss: 0.4729 - acc: 0.8400\n",
            " file saved\n",
            "(10,)\n",
            "Epoch 1/10\n",
            "60000/60000 [==============================] - 19s 320us/step - loss: 0.7515 - acc: 0.7254\n",
            "Epoch 2/10\n",
            "60000/60000 [==============================] - 13s 214us/step - loss: 0.6377 - acc: 0.7667\n",
            "Epoch 3/10\n",
            "60000/60000 [==============================] - 13s 213us/step - loss: 0.6134 - acc: 0.7748\n",
            "Epoch 4/10\n",
            "60000/60000 [==============================] - 13s 214us/step - loss: 0.5976 - acc: 0.7806\n",
            "Epoch 5/10\n",
            "60000/60000 [==============================] - 13s 215us/step - loss: 0.5934 - acc: 0.7846\n",
            "Epoch 6/10\n",
            "60000/60000 [==============================] - 13s 214us/step - loss: 0.5855 - acc: 0.7858\n",
            "Epoch 7/10\n",
            "60000/60000 [==============================] - 13s 214us/step - loss: 0.5791 - acc: 0.7888\n",
            "Epoch 8/10\n",
            "60000/60000 [==============================] - 13s 215us/step - loss: 0.5739 - acc: 0.7908\n",
            "Epoch 9/10\n",
            "60000/60000 [==============================] - 13s 214us/step - loss: 0.5734 - acc: 0.7903\n",
            "Epoch 10/10\n",
            "60000/60000 [==============================] - 13s 213us/step - loss: 0.5708 - acc: 0.7903\n",
            " file saved\n",
            "(11,)\n",
            "Epoch 1/10\n",
            "40000/40000 [==============================] - 15s 376us/step - loss: 0.7991 - acc: 0.7139\n",
            "Epoch 2/10\n",
            "40000/40000 [==============================] - 9s 214us/step - loss: 0.6685 - acc: 0.7565\n",
            "Epoch 3/10\n",
            "40000/40000 [==============================] - 9s 216us/step - loss: 0.6359 - acc: 0.7657\n",
            "Epoch 4/10\n",
            "40000/40000 [==============================] - 9s 214us/step - loss: 0.6228 - acc: 0.7717\n",
            "Epoch 5/10\n",
            "40000/40000 [==============================] - 9s 215us/step - loss: 0.6121 - acc: 0.7757\n",
            "Epoch 6/10\n",
            "40000/40000 [==============================] - 9s 215us/step - loss: 0.6036 - acc: 0.7790\n",
            "Epoch 7/10\n",
            "40000/40000 [==============================] - 9s 219us/step - loss: 0.5971 - acc: 0.7803\n",
            "Epoch 8/10\n",
            "40000/40000 [==============================] - 9s 221us/step - loss: 0.5938 - acc: 0.7844\n",
            "Epoch 9/10\n",
            "40000/40000 [==============================] - 9s 220us/step - loss: 0.5918 - acc: 0.7840\n",
            "Epoch 10/10\n",
            "40000/40000 [==============================] - 9s 214us/step - loss: 0.5838 - acc: 0.7864\n",
            " file saved\n",
            "(12,)\n",
            "Epoch 1/10\n",
            "10000/10000 [==============================] - 9s 880us/step - loss: 1.0261 - acc: 0.6347\n",
            "Epoch 2/10\n",
            "10000/10000 [==============================] - 2s 218us/step - loss: 0.7702 - acc: 0.7211\n",
            "Epoch 3/10\n",
            "10000/10000 [==============================] - 2s 216us/step - loss: 0.7163 - acc: 0.7369\n",
            "Epoch 4/10\n",
            "10000/10000 [==============================] - 2s 219us/step - loss: 0.7018 - acc: 0.7414\n",
            "Epoch 5/10\n",
            "10000/10000 [==============================] - 2s 218us/step - loss: 0.6679 - acc: 0.7517\n",
            "Epoch 6/10\n",
            "10000/10000 [==============================] - 2s 220us/step - loss: 0.6716 - acc: 0.7515\n",
            "Epoch 7/10\n",
            "10000/10000 [==============================] - 2s 218us/step - loss: 0.6560 - acc: 0.7542\n",
            "Epoch 8/10\n",
            "10000/10000 [==============================] - 2s 220us/step - loss: 0.6377 - acc: 0.7656\n",
            "Epoch 9/10\n",
            "10000/10000 [==============================] - 2s 218us/step - loss: 0.6361 - acc: 0.7643\n",
            "Epoch 10/10\n",
            "10000/10000 [==============================] - 2s 218us/step - loss: 0.6315 - acc: 0.7693\n",
            " file saved\n",
            "(13,)\n",
            "Epoch 1/10\n",
            "5000/5000 [==============================] - 8s 2ms/step - loss: 1.1941 - acc: 0.5858\n",
            "Epoch 2/10\n",
            "5000/5000 [==============================] - 1s 225us/step - loss: 0.8532 - acc: 0.6930\n",
            "Epoch 3/10\n",
            "5000/5000 [==============================] - 1s 223us/step - loss: 0.7736 - acc: 0.7232\n",
            "Epoch 4/10\n",
            "5000/5000 [==============================] - 1s 223us/step - loss: 0.7373 - acc: 0.7346\n",
            "Epoch 5/10\n",
            "5000/5000 [==============================] - 1s 220us/step - loss: 0.7268 - acc: 0.7338\n",
            "Epoch 6/10\n",
            "5000/5000 [==============================] - 1s 224us/step - loss: 0.7089 - acc: 0.7372\n",
            "Epoch 7/10\n",
            "5000/5000 [==============================] - 1s 230us/step - loss: 0.6870 - acc: 0.7482\n",
            "Epoch 8/10\n",
            "5000/5000 [==============================] - 1s 221us/step - loss: 0.6733 - acc: 0.7510\n",
            "Epoch 9/10\n",
            "5000/5000 [==============================] - 1s 223us/step - loss: 0.6787 - acc: 0.7502\n",
            "Epoch 10/10\n",
            "5000/5000 [==============================] - 1s 219us/step - loss: 0.6716 - acc: 0.7532\n",
            " file saved\n",
            "(14,)\n",
            "Epoch 1/10\n",
            "500/500 [==============================] - 7s 14ms/step - loss: 2.4060 - acc: 0.2320\n",
            "Epoch 2/10\n",
            "500/500 [==============================] - 0s 226us/step - loss: 1.4758 - acc: 0.4900\n",
            "Epoch 3/10\n",
            "500/500 [==============================] - 0s 229us/step - loss: 1.2118 - acc: 0.5720\n",
            "Epoch 4/10\n",
            "500/500 [==============================] - 0s 222us/step - loss: 1.0914 - acc: 0.6220\n",
            "Epoch 5/10\n",
            "500/500 [==============================] - 0s 227us/step - loss: 0.9803 - acc: 0.6540\n",
            "Epoch 6/10\n",
            "500/500 [==============================] - 0s 221us/step - loss: 0.9537 - acc: 0.6300\n",
            "Epoch 7/10\n",
            "500/500 [==============================] - 0s 239us/step - loss: 0.8999 - acc: 0.6880\n",
            "Epoch 8/10\n",
            "500/500 [==============================] - 0s 233us/step - loss: 0.9254 - acc: 0.6800\n",
            "Epoch 9/10\n",
            "500/500 [==============================] - 0s 229us/step - loss: 0.8787 - acc: 0.6720\n",
            "Epoch 10/10\n",
            "500/500 [==============================] - 0s 259us/step - loss: 0.8762 - acc: 0.6820\n",
            " file saved\n",
            "[0.8606 0.8542 0.8257 0.829  0.7584 0.8777 0.8716 0.8564 0.8453 0.7901\n",
            " 0.8038 0.8029 0.7958 0.7875 0.7439]\n"
          ],
          "name": "stdout"
        }
      ]
    },
    {
      "cell_type": "markdown",
      "metadata": {
        "id": "3WSCv-85oGax",
        "colab_type": "text"
      },
      "source": [
        "### Evaluation"
      ]
    },
    {
      "cell_type": "markdown",
      "metadata": {
        "colab_type": "text",
        "id": "HuQKnLlZKYkW"
      },
      "source": [
        "**Motivation & Conclusions:** *Explain your analysis, and draw conclusions:*"
      ]
    },
    {
      "cell_type": "markdown",
      "metadata": {
        "id": "roSbKVetpQsb",
        "colab_type": "text"
      },
      "source": [
        "The approach is chosen to have very generic models for the easy models."
      ]
    },
    {
      "cell_type": "code",
      "metadata": {
        "id": "DtgtFV2EJ2RI",
        "colab_type": "code",
        "outputId": "a418d446-b16c-4312-8af5-1c4eb6acf061",
        "colab": {
          "base_uri": "https://localhost:8080/",
          "height": 658
        }
      },
      "source": [
        "# MLP = [0.8614, 0.8474, 0.8274, 0.822 , 0.8724, 0.8683, 0.8528, 0.8424, 0.8003, 0.7963, 0.7847, 0.7841]\n",
        "# SVM = [0.8419, 0.8325, 0.8026, 0.7825, 0.886 , 0.8809, 0.861 , 0.8476, 0.7894, 0.7886, 0.7806, 0.773]\n",
        "# RF =  [0.8759, 0.8703, 0.846 , 0.8357, 0.8664, 0.8624, 0.8429, 0.8313, 0.8023, 0.7983, 0.7867, 0.7811]\n",
        "MLP = MLPaccuracies\n",
        "SVM = SVMaccuracies\n",
        "RF = RandomForestAccuracies\n",
        "\n",
        "MLP_orr = np.array([\n",
        "    [60000, MLP[0]],\n",
        "    [40000, MLP[1]],\n",
        "    [10000, MLP[2]],\n",
        "    [5000, MLP[3]],\n",
        "    [500, MLP[4]]\n",
        "])\n",
        "x_MLPorr, y_MLPorr = MLP_orr.T\n",
        "\n",
        "MLP_dae = np.array([\n",
        "    [60000, MLP[5]],\n",
        "    [40000, MLP[6]],\n",
        "    [10000, MLP[7]],\n",
        "    [5000, MLP[8]],\n",
        "    [500, MLP[9]],\n",
        "])\n",
        "x_MLPdae, y_MLPdae = MLP_dae.T\n",
        "\n",
        "MLP_vae = np.array([\n",
        "    [60000, MLP[10]],\n",
        "    [40000, MLP[11]],\n",
        "    [10000, MLP[12]],\n",
        "    [5000, MLP[13]],\n",
        "    [500, MLP[14]]\n",
        "])\n",
        "x_MLPvae, y_MLPvae = MLP_vae.T\n",
        "\n",
        "\n",
        "SVM_orr = np.array([\n",
        "    [60000, SVM[0]],\n",
        "    [40000, SVM[1]],\n",
        "    [10000, SVM[2]],\n",
        "    [5000, SVM[3]],\n",
        "    [500, SVM[4]]\n",
        "])\n",
        "x_SVMorr, y_SVMorr = SVM_orr.T\n",
        "\n",
        "SVM_dae = np.array([\n",
        "    [60000, SVM[5]],\n",
        "    [40000, SVM[6]],\n",
        "    [10000, SVM[7]],\n",
        "    [5000, SVM[8]],\n",
        "    [500, SVM[9]],\n",
        "])\n",
        "x_SVMdae, y_SVMdae = SVM_dae.T\n",
        "\n",
        "SVM_vae = np.array([\n",
        "    [60000, SVM[10]],\n",
        "    [40000, SVM[11]],\n",
        "    [10000, SVM[12]],\n",
        "    [5000, SVM[13]],\n",
        "    [500, SVM[14]],\n",
        "])\n",
        "x_SVMvae, y_SVMvae = SVM_vae.T\n",
        "\n",
        "\n",
        "RF_orr = np.array([\n",
        "    [60000, RF[0]],\n",
        "    [40000, RF[1]],\n",
        "    [10000, RF[2]],\n",
        "    [5000, RF[3]],\n",
        "    [500, RF[4]],\n",
        "])\n",
        "x_RForr, y_RForr = RF_orr.T\n",
        "    \n",
        "RF_dae = np.array([\n",
        "    [60000, RF[5]],\n",
        "    [40000, RF[6]],\n",
        "    [10000, RF[7]],\n",
        "    [5000, RF[8]],\n",
        "    [500, RF[9]],\n",
        "])\n",
        "x_RFdae, y_RFdae = RF_dae.T\n",
        "    \n",
        "RF_vae = np.array([\n",
        "    [60000, RF[10]],\n",
        "    [40000, RF[11]],\n",
        "    [10000, RF[12]],\n",
        "    [5000, RF[13]],\n",
        "    [500, RF[14]],\n",
        "])\n",
        "x_RFvae, y_RFvae = RF_vae.T\n",
        "\n",
        "\n",
        "h = 12\n",
        "\n",
        "plt.figure(figsize=(18,10))\n",
        "plt.plot(x_SVMdae, y_SVMdae, color='green', marker='*',markersize=h , label =\" DAE SVM\")\n",
        "plt.plot(x_RForr, y_RForr, color='r', marker='^',markersize=h, label =\" Original RandomForest\")\n",
        "plt.plot(x_MLPdae, y_MLPdae, color='green', marker='o',markersize=h, label =\" DAE MLP\") \n",
        "plt.plot(x_RFdae, y_RFdae, color='green', marker='^',markersize=h, label =\" DAE RandomForest\") \n",
        "plt.plot(x_MLPorr, y_MLPorr, color='r', marker='o', markersize=h, label=\"Original MLP \")\n",
        "plt.plot(x_SVMorr, y_SVMorr, color='r', marker='*',markersize=h, label =\" Original SVM\")\n",
        "plt.plot(x_MLPvae, y_MLPvae, color='blue', marker='o',markersize=h, label =\" VAE MLP\")\n",
        "plt.plot(x_SVMvae, y_SVMvae, color='blue', marker='*',markersize=h, label =\" VAE SVM\")\n",
        "plt.plot(x_RFvae, y_RFvae, color='blue', marker='^',markersize=h, label =\" VAE RandomForest\") \n",
        "\n",
        "plt.title('Accuracies for different models and training set sizes')\n",
        "plt.ylabel('Accuracy')\n",
        "plt.xlabel('Training set size')\n",
        "#plt.ylim([0, 1])\n",
        "plt.xticks([60000, 40000, 10000, 5000, 500])\n",
        "plt.legend(bbox_to_anchor=(1.05, 1), loc='upper left', borderaxespad=0., fontsize=\"xx-large\")\n"
      ],
      "execution_count": 0,
      "outputs": [
        {
          "output_type": "execute_result",
          "data": {
            "text/plain": [
              "<matplotlib.legend.Legend at 0x7fb1ea7a7358>"
            ]
          },
          "metadata": {
            "tags": []
          },
          "execution_count": 111
        },
        {
          "output_type": "display_data",
          "data": {
            "image/png": "[encoded data removed]",
            "text/plain": [
              "<Figure size 1296x720 with 1 Axes>"
            ]
          },
          "metadata": {
            "tags": []
          }
        }
      ]
    },
    {
      "cell_type": "markdown",
      "metadata": {
        "id": "Dr-iq62SV_xR",
        "colab_type": "text"
      },
      "source": [
        "It can be seen that overall the SVM trained on the embeddings of the autoencoder performed the best, this is probably due to the fact that the embedding space is not too large, but still large enough to make an impact distinction. <br>\n",
        "It can also be seen that all prediction on representations from the VAE embedding space are performing less than the other representations, this is likely due to the simplicity of this latent space. Although it must be said that this is the most compact representation, so I was expecting a far worse result. <br>\n",
        "\n",
        "It is interesting to see how adding more data has a significant result to all models, but the increase in the SVM on the original data is interesting."
      ]
    }
  ]
}
